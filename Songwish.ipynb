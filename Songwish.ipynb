{
 "cells": [
  {
   "cell_type": "code",
   "execution_count": 5,
   "metadata": {},
   "outputs": [],
   "source": [
    "from openpyxl import load_workbook\n",
    "import yt_dlp\n",
    "import pandas"
   ]
  },
  {
   "cell_type": "code",
   "execution_count": 6,
   "metadata": {},
   "outputs": [
    {
     "name": "stdout",
     "output_type": "stream",
     "text": [
      "{'SubmitDateTime': '11/27/2024 20:11:09', 'Mail': 'biancawilcke@gmail.com', 'Language': '🇩🇪 Deutsch', 'PreferredCommunication': 'Instagram', 'Instagram': 'ineedmoneyforsomemilk', 'InstagramProfileURL': 'https://www.instagram.com/ineedmoneyforsomemilk/', 'WhatsApp': '', 'WhatsAppURL': '', 'FurtherContact': None, 'YTURL1': 'https://youtu.be/111RXgAc86Y?si=I1nMEVU2zaVCn_oS', 'Artist1': 'Giselle', 'Title1': 'Dopamine', 'Part1': 'Chorus 1', 'StartTimestamp1': datetime.time(0, 54), 'EndTimestamp1': datetime.time(1, 21), 'Additional1': None}\n",
      "{'SubmitDateTime': '11/27/2024 20:12:13', 'Mail': 'pvvzklee@gmail.com', 'Language': '🇬🇧 English', 'PreferredCommunication': 'Instagram', 'Instagram': 'paavzk', 'InstagramProfileURL': 'https://www.instagram.com/paavzk/', 'WhatsApp': '', 'WhatsAppURL': '', 'FurtherContact': None, 'YTURL1': 'https://youtu.be/Xzuu66s0n50?si=QgakrzRj_hEy-6x8', 'Artist1': 'xikers', 'Title1': 'bittersweet', 'Part1': 'Chorus 2, Dancebreak', 'StartTimestamp1': datetime.time(1, 48), 'EndTimestamp1': datetime.time(3, 16), 'Additional1': None}\n",
      "{'SubmitDateTime': '11/27/2024 20:12:35', 'Mail': 'larinaskz@gmail.com', 'Language': '🇩🇪 Deutsch', 'PreferredCommunication': 'Instagram', 'Instagram': 'Mara_5373', 'InstagramProfileURL': 'https://www.instagram.com/Mara_5373/', 'WhatsApp': '', 'WhatsAppURL': '', 'FurtherContact': None, 'YTURL1': 'https://youtu.be/zPoBKxSO0C4', 'Artist1': 'ITZY', 'Title1': 'GOLD', 'Part1': 'Chorus 1', 'StartTimestamp1': datetime.time(0, 58), 'EndTimestamp1': datetime.time(1, 27), 'Additional1': None}\n",
      "{'SubmitDateTime': '11/27/2024 20:13:03', 'Mail': 'lisann.lelumees@gmail.com', 'Language': '🇬🇧 English', 'PreferredCommunication': 'Instagram', 'Instagram': 'lisannlelumees', 'InstagramProfileURL': 'https://www.instagram.com/lisannlelumees/', 'WhatsApp': '', 'WhatsAppURL': '', 'FurtherContact': None, 'YTURL1': 'https://youtu.be/WqnyBAhQT2M?si=fT_23xyqUWH2h8ql', 'Artist1': 'Enhypen', 'Title1': 'Fatal Trouble', 'Part1': 'Chorus 1', 'StartTimestamp1': datetime.time(0, 26), 'EndTimestamp1': datetime.time(1, 30), 'Additional1': None}\n",
      "{'SubmitDateTime': '11/27/2024 20:13:21', 'Mail': 'tanya2904043@gmail.com', 'Language': '🇬🇧 English', 'PreferredCommunication': 'Instagram', 'Instagram': '@_soleil.tan_', 'InstagramProfileURL': 'https://www.instagram.com/_soleil.tan_/', 'WhatsApp': '', 'WhatsAppURL': '', 'FurtherContact': None, 'YTURL1': 'https://youtu.be/wuCZeGyY8Q4?si=rmxDMqpWl5WmJH7m', 'Artist1': 'Itzy', 'Title1': 'Imaginary friend', 'Part1': 'Chorus 1, Dancebreak', 'StartTimestamp1': datetime.time(2, 21), 'EndTimestamp1': datetime.time(3, 19), 'Additional1': None}\n",
      "{'SubmitDateTime': '11/27/2024 20:14:13', 'Mail': 'dustin.sauer0406@gmail.com', 'Language': '🇩🇪 Deutsch', 'PreferredCommunication': 'Instagram', 'Instagram': 'm4gnetlc', 'InstagramProfileURL': 'https://www.instagram.com/m4gnetlc/', 'WhatsApp': '15226910524', 'WhatsAppURL': 'https://wa.me/15226910524', 'FurtherContact': None, 'YTURL1': 'https://youtu.be/hYtiH0Naq9I?si=aviz_KGKbHVVuxIC', 'Artist1': 'Kep1er', 'Title1': 'sync-love', 'Part1': 'Chorus 1', 'StartTimestamp1': datetime.time(0, 22), 'EndTimestamp1': datetime.time(1, 6), 'Additional1': None}\n",
      "{'SubmitDateTime': '11/27/2024 20:14:28', 'Mail': 'pavenskayavioletta@gmail.com', 'Language': '🇬🇧 English', 'PreferredCommunication': 'Instagram', 'Instagram': 'wittaiie', 'InstagramProfileURL': 'https://www.instagram.com/wittaiie/', 'WhatsApp': '', 'WhatsAppURL': '', 'FurtherContact': None, 'YTURL1': 'https://youtu.be/U7EaezHyB98?si=OiC7sj4HLmiGmiKP', 'Artist1': 'xikers', 'Title1': 'we don’t stop', 'Part1': 'Chorus 2, Dancebreak', 'StartTimestamp1': datetime.time(1, 40), 'EndTimestamp1': datetime.time(3, 9), 'Additional1': None}\n",
      "{'SubmitDateTime': '11/27/2024 20:17:04', 'Mail': 'alinamariejolie@gmail.com', 'Language': '🇩🇪 Deutsch', 'PreferredCommunication': 'Instagram', 'Instagram': 'Eunjiii_offical', 'InstagramProfileURL': 'https://www.instagram.com/Eunjiii_offical/', 'WhatsApp': '', 'WhatsAppURL': '', 'FurtherContact': None, 'YTURL1': 'https://youtu.be/WimJ9MfCG_g?si=eDOXPrQ7j5hu0FH_', 'Artist1': 'Itzy', 'Title1': 'Escalator', 'Part1': 'Chorus 1', 'StartTimestamp1': datetime.time(0, 33), 'EndTimestamp1': datetime.time(1, 24), 'Additional1': 'Only has a live performance but still has a dance!'}\n",
      "{'SubmitDateTime': '11/27/2024 20:17:18', 'Mail': 'shalaloreta25@gmail.com', 'Language': '🇩🇪 Deutsch', 'PreferredCommunication': 'Instagram', 'Instagram': 'Loreta.shh', 'InstagramProfileURL': 'https://www.instagram.com/Loreta.shh/', 'WhatsApp': '1771667608', 'WhatsAppURL': 'https://wa.me/1771667608', 'FurtherContact': None, 'YTURL1': 'https://youtu.be/z3Phxfwi5pg?si=MWER4Gon55SNWhj1', 'Artist1': 'NCT DREAM', 'Title1': 'When I‘m With You', 'Part1': 'Chorus 2', 'StartTimestamp1': datetime.time(1, 45), 'EndTimestamp1': datetime.time(2, 19), 'Additional1': None}\n",
      "{'SubmitDateTime': '11/27/2024 20:17:53', 'Mail': 'erolyaren166@gmail.com', 'Language': '🇩🇪 Deutsch', 'PreferredCommunication': 'WhatsApp', 'Instagram': '', 'InstagramProfileURL': '', 'WhatsApp': '4917656839215', 'WhatsAppURL': 'https://wa.me/4917656839215', 'FurtherContact': None, 'YTURL1': 'https://youtu.be/es60T3k-tyM?si=OvDX-RUUNmfvSSPA', 'Artist1': 'NCT DREAM', 'Title1': 'ISTJ', 'Part1': 'Chorus 1', 'StartTimestamp1': datetime.time(0, 32), 'EndTimestamp1': datetime.time(1, 4), 'Additional1': None}\n",
      "{'SubmitDateTime': '11/27/2024 20:18:04', 'Mail': 'jaysklarek@gmail.com', 'Language': '🇩🇪 Deutsch', 'PreferredCommunication': 'WhatsApp', 'Instagram': '', 'InstagramProfileURL': '', 'WhatsApp': '4915204158717', 'WhatsAppURL': 'https://wa.me/4915204158717', 'FurtherContact': None, 'YTURL1': 'https://youtu.be/3_4c--5Gi10?si=U3tDiqC-KUXxSYY6', 'Artist1': 'key', 'Title1': 'tounge tied', 'Part1': 'Chorus 1', 'StartTimestamp1': datetime.time(0, 20), 'EndTimestamp1': datetime.time(1, 8), 'Additional1': None}\n",
      "{'SubmitDateTime': '11/27/2024 20:18:11', 'Mail': 'ilaydaerbil0@gmail.com', 'Language': '🇩🇪 Deutsch', 'PreferredCommunication': 'Instagram', 'Instagram': 'ilosch_stgt', 'InstagramProfileURL': 'https://www.instagram.com/ilosch_stgt/', 'WhatsApp': '', 'WhatsAppURL': '', 'FurtherContact': None, 'YTURL1': 'https://youtu.be/alKYZLEXLrk?si=8ddQG7GQ0ha_w8QV', 'Artist1': 'Kiss of Life', 'Title1': 'Nobody Knows', 'Part1': 'Chorus 1', 'StartTimestamp1': datetime.time(0, 28), 'EndTimestamp1': datetime.time(1, 15), 'Additional1': None}\n",
      "{'SubmitDateTime': '11/27/2024 20:18:20', 'Mail': 'zoemakein553@gmail.com', 'Language': '🇩🇪 Deutsch', 'PreferredCommunication': 'Instagram', 'Instagram': '@swnsfs', 'InstagramProfileURL': 'https://www.instagram.com/swnsfs/', 'WhatsApp': '', 'WhatsAppURL': '', 'FurtherContact': None, 'YTURL1': 'https://youtu.be/8cko3UZrlsM?si=5Qw3DTFHtL7NMtS7', 'Artist1': 'txt', 'Title1': 'Heaven', 'Part1': 'Chorus 1', 'StartTimestamp1': datetime.time(0, 45), 'EndTimestamp1': datetime.time(1, 11), 'Additional1': None}\n",
      "{'SubmitDateTime': '11/27/2024 21:16:35', 'Mail': 'bottadriana2713@gmail.com', 'Language': '🇩🇪 Deutsch', 'PreferredCommunication': 'Instagram', 'Instagram': '@_adri_2210', 'InstagramProfileURL': 'https://www.instagram.com/_adri_2210/', 'WhatsApp': '', 'WhatsAppURL': '', 'FurtherContact': None, 'YTURL1': 'https://youtu.be/ush0XGzx-oQ?si=ZO41lpPZyF6o2Wr8', 'Artist1': 'EXO', 'Title1': 'Going Crazy', 'Part1': 'Other (Please use \"Additional Information\" Text Field)', 'StartTimestamp1': datetime.time(2, 44), 'EndTimestamp1': datetime.time(3, 30), 'Additional1': 'Letzter Chorus'}\n",
      "{'SubmitDateTime': '11/27/2024 20:18:56', 'Mail': 'dashaocher2002@gmail.com', 'Language': '🇬🇧 English', 'PreferredCommunication': 'Instagram', 'Instagram': '@doooorado', 'InstagramProfileURL': 'https://www.instagram.com/doooorado/', 'WhatsApp': '', 'WhatsAppURL': '', 'FurtherContact': None, 'YTURL1': 'https://youtu.be/3_4c--5Gi10?si=2UziUATmJCYpXtn2', 'Artist1': 'KEY', 'Title1': 'Tongue Tied', 'Part1': 'Chorus 1', 'StartTimestamp1': datetime.time(0, 20), 'EndTimestamp1': datetime.time(1, 7), 'Additional1': None}\n",
      "{'SubmitDateTime': '11/27/2024 20:20:01', 'Mail': 'acake.dance@gmail.com', 'Language': '🇬🇧 English', 'PreferredCommunication': 'Instagram', 'Instagram': 'acake.dance', 'InstagramProfileURL': 'https://www.instagram.com/acake.dance/', 'WhatsApp': '', 'WhatsAppURL': '', 'FurtherContact': None, 'YTURL1': 'https://youtu.be/aDANqbOzsdo?si=d-3_1nn_KtLmhn2i', 'Artist1': \"NU'EST W\", 'Title1': 'Deja Vu', 'Part1': 'Chorus 1', 'StartTimestamp1': datetime.time(0, 39), 'EndTimestamp1': datetime.time(1, 42), 'Additional1': None}\n",
      "{'SubmitDateTime': '11/27/2024 20:20:15', 'Mail': 'aboalzhraa75@gmail.com', 'Language': '🇬🇧 English', 'PreferredCommunication': 'Instagram', 'Instagram': '@tagjoxx', 'InstagramProfileURL': 'https://www.instagram.com/tagjoxx/', 'WhatsApp': '4915771997122', 'WhatsAppURL': 'https://wa.me/4915771997122', 'FurtherContact': None, 'YTURL1': 'https://youtu.be/L6ZEG0REwqQ?si=8NaAg9KUeuJQnbeo', 'Artist1': 'XG', 'Title1': 'Howling', 'Part1': 'Chorus 1', 'StartTimestamp1': datetime.time(0, 36), 'EndTimestamp1': datetime.time(1, 24), 'Additional1': None}\n",
      "{'SubmitDateTime': '11/27/2024 20:20:58', 'Mail': 'dschlsv@gmail.com', 'Language': '🇬🇧 English', 'PreferredCommunication': 'Instagram', 'Instagram': '@dshhlsv', 'InstagramProfileURL': 'https://www.instagram.com/dshhlsv/', 'WhatsApp': '', 'WhatsAppURL': '', 'FurtherContact': None, 'YTURL1': 'https://youtu.be/InC7wcQK25Y?si=pQQt641AY0ceGbaT', 'Artist1': 'Enhypen', 'Title1': 'Moonstruck', 'Part1': 'Chorus 1', 'StartTimestamp1': datetime.time(0, 34), 'EndTimestamp1': datetime.time(1, 11), 'Additional1': None}\n",
      "{'SubmitDateTime': '11/27/2024 20:22:16', 'Mail': 'linixstraykids@gmail.com', 'Language': '🇩🇪 Deutsch', 'PreferredCommunication': 'Instagram', 'Instagram': 'lini.x.aylin_', 'InstagramProfileURL': 'https://www.instagram.com/lini.x.aylin_/', 'WhatsApp': '17683803313', 'WhatsAppURL': 'https://wa.me/17683803313', 'FurtherContact': None, 'YTURL1': 'https://youtu.be/D0nycoXQ9ws?si=7Ap3f8fOn3bMo3Sw', 'Artist1': 'Kep1er', 'Title1': 'Shooting star', 'Part1': 'Chorus 1', 'StartTimestamp1': datetime.time(0, 54), 'EndTimestamp1': datetime.time(1, 21), 'Additional1': None}\n",
      "{'SubmitDateTime': '11/27/2024 20:23:46', 'Mail': 'nosovamary9@gmail.com', 'Language': '🇩🇪 Deutsch', 'PreferredCommunication': 'Instagram', 'Instagram': 'marisheqw', 'InstagramProfileURL': 'https://www.instagram.com/marisheqw/', 'WhatsApp': '', 'WhatsAppURL': '', 'FurtherContact': None, 'YTURL1': 'https://youtu.be/33Js5FPEeKA?si=MIjsOKsYqGa-hb4_', 'Artist1': 'G idle', 'Title1': 'Senorita', 'Part1': 'Chorus 1', 'StartTimestamp1': datetime.time(1, 4), 'EndTimestamp1': datetime.time(1, 37), 'Additional1': None}\n",
      "{'SubmitDateTime': '11/27/2024 20:24:45', 'Mail': 'hajimenatsuki13@gmail.com', 'Language': '🇩🇪 Deutsch', 'PreferredCommunication': 'Instagram', 'Instagram': '@honestly.svesve23', 'InstagramProfileURL': 'https://www.instagram.com/honestly.svesve23/', 'WhatsApp': '', 'WhatsAppURL': '', 'FurtherContact': 'E-Mail: hajimenatsuki13@gmail.com', 'YTURL1': 'https://youtu.be/WWztIhmotwc?si=aPO9Jj_iR_fTL_IU', 'Artist1': 'Nature', 'Title1': 'Limbo', 'Part1': 'Chorus 2, Dancebreak', 'StartTimestamp1': datetime.time(2, 13), 'EndTimestamp1': datetime.time(3, 13), 'Additional1': None}\n",
      "{'SubmitDateTime': '11/27/2024 20:26:21', 'Mail': '57idemircan@gmail.com', 'Language': '🇩🇪 Deutsch', 'PreferredCommunication': 'WhatsApp', 'Instagram': '', 'InstagramProfileURL': '', 'WhatsApp': '1772390592', 'WhatsAppURL': 'https://wa.me/1772390592', 'FurtherContact': None, 'YTURL1': 'https://youtu.be/Qcl5xq9Xs-k?si=h2CLRMWD6CRTrHyn', 'Artist1': 'WAKER', 'Title1': 'Vanilla Choco Shake', 'Part1': 'Dancebreak', 'StartTimestamp1': datetime.time(2, 27), 'EndTimestamp1': datetime.time(3, 35), 'Additional1': 'Wenn möglich bitte in der 1. Playlist😔🙏'}\n",
      "{'SubmitDateTime': '11/27/2024 20:26:41', 'Mail': 'vanessa.pahlke1@gmail.com', 'Language': '🇩🇪 Deutsch', 'PreferredCommunication': 'Instagram', 'Instagram': '@vnssa.thmy', 'InstagramProfileURL': 'https://www.instagram.com/vnssa.thmy/', 'WhatsApp': '', 'WhatsAppURL': '', 'FurtherContact': None, 'YTURL1': 'https://youtu.be/9nzB30KzlEM?si=DsTztORbpXPACaNm', 'Artist1': 'JO1', 'Title1': 'Shine A Light', 'Part1': 'Chorus 1', 'StartTimestamp1': datetime.time(0, 29), 'EndTimestamp1': datetime.time(1, 18), 'Additional1': None}\n",
      "{'SubmitDateTime': '11/27/2024 20:28:08', 'Mail': 'susupernova79@gmail.com', 'Language': '🇩🇪 Deutsch', 'PreferredCommunication': 'Instagram', 'Instagram': 'kurakisse.s', 'InstagramProfileURL': 'https://www.instagram.com/kurakisse.s/', 'WhatsApp': '4915754468234', 'WhatsAppURL': 'https://wa.me/4915754468234', 'FurtherContact': None, 'YTURL1': 'https://youtu.be/i_oeyE-IdB8?si=mxdxbwRy_qVIIDw_', 'Artist1': 'ATEEZ', 'Title1': 'Ice On My Teeth', 'Part1': 'Chorus 1', 'StartTimestamp1': datetime.time(0, 44), 'EndTimestamp1': datetime.time(1, 27), 'Additional1': None}\n",
      "{'SubmitDateTime': '11/27/2024 20:29:40', 'Mail': 'kolodziejjosephin@gmail.com', 'Language': '🇩🇪 Deutsch', 'PreferredCommunication': 'Instagram', 'Instagram': 'josi_jung.me', 'InstagramProfileURL': 'https://www.instagram.com/josi_jung.me/', 'WhatsApp': '15140802349', 'WhatsAppURL': 'https://wa.me/15140802349', 'FurtherContact': '.', 'YTURL1': 'https://youtu.be/cXvi0qdC6FU?si=WQwKieGMc0FKr3Y6', 'Artist1': 'Babymonster', 'Title1': 'Drip', 'Part1': 'Chorus 2', 'StartTimestamp1': datetime.time(1, 50), 'EndTimestamp1': datetime.time(2, 18), 'Additional1': 'Nichts'}\n",
      "{'SubmitDateTime': '11/27/2024 20:29:42', 'Mail': 'sanagrays01@gmail.com', 'Language': '🇩🇪 Deutsch', 'PreferredCommunication': 'Instagram', 'Instagram': '@d_e_m_o_n_t_a_i_r', 'InstagramProfileURL': 'https://www.instagram.com/d_e_m_o_n_t_a_i_r/', 'WhatsApp': '4915115647427', 'WhatsAppURL': 'https://wa.me/4915115647427', 'FurtherContact': 491723097639, 'YTURL1': 'https://youtu.be/XHW2P48kqAE?si=CSwcezwUiE_dLgZh', 'Artist1': 'WayV', 'Title1': 'Frequency', 'Part1': 'Other (Please use \"Additional Information\" Text Field)', 'StartTimestamp1': datetime.time(1, 43), 'EndTimestamp1': datetime.time(2, 40), 'Additional1': 'Dancebreak and last chorus'}\n",
      "{'SubmitDateTime': '11/27/2024 20:31:31', 'Mail': 'ya.sestra.olejki@gmail.com', 'Language': '🇬🇧 English', 'PreferredCommunication': 'Instagram', 'Instagram': '@yanrinxi', 'InstagramProfileURL': 'https://www.instagram.com/yanrinxi/', 'WhatsApp': '', 'WhatsAppURL': '', 'FurtherContact': None, 'YTURL1': 'https://youtu.be/i_oeyE-IdB8?si=h1ZJvYfl4q8t2mxa', 'Artist1': 'Ateez', 'Title1': 'Ice On My Teeth', 'Part1': 'Dancebreak', 'StartTimestamp1': datetime.time(2, 10), 'EndTimestamp1': datetime.time(3, 2), 'Additional1': None}\n",
      "{'SubmitDateTime': '11/27/2024 20:31:56', 'Mail': 'lizdy039@gmail.com', 'Language': '🇩🇪 Deutsch', 'PreferredCommunication': 'Instagram', 'Instagram': 'selenfhz', 'InstagramProfileURL': 'https://www.instagram.com/selenfhz/', 'WhatsApp': '', 'WhatsAppURL': '', 'FurtherContact': None, 'YTURL1': 'https://youtu.be/5f6ZaDLE0Bc?si=r96LTvCnPlfSRsvT', 'Artist1': 'KARD', 'Title1': 'Icky', 'Part1': 'Chorus 1', 'StartTimestamp1': datetime.time(0, 25), 'EndTimestamp1': datetime.time(1, 10), 'Additional1': None}\n",
      "{'SubmitDateTime': '11/27/2024 20:33:16', 'Mail': 'bottascela@gmail.com', 'Language': '🇩🇪 Deutsch', 'PreferredCommunication': 'WhatsApp', 'Instagram': 'Yeni', 'InstagramProfileURL': 'https://www.instagram.com/Yeni/', 'WhatsApp': '4915153106530', 'WhatsAppURL': 'https://wa.me/4915153106530', 'FurtherContact': None, 'YTURL1': 'https://youtu.be/R0hROm05C90?si=F8lAU4WnO-zRA_AW', 'Artist1': 'Baekhyun', 'Title1': 'R U Ridin', 'Part1': 'Chorus 1', 'StartTimestamp1': datetime.time(0, 36), 'EndTimestamp1': datetime.time(1, 11), 'Additional1': None}\n",
      "{'SubmitDateTime': '11/27/2024 20:33:28', 'Mail': 'ilsu.canturk28@hotmail.com', 'Language': '🇩🇪 Deutsch', 'PreferredCommunication': 'Instagram', 'Instagram': 'Ilxuuu_', 'InstagramProfileURL': 'https://www.instagram.com/Ilxuuu_/', 'WhatsApp': '', 'WhatsAppURL': '', 'FurtherContact': None, 'YTURL1': 'https://youtu.be/53YiuL_fyX0?feature=shared', 'Artist1': 'Xg', 'Title1': 'Iykyk', 'Part1': 'Chorus 2', 'StartTimestamp1': datetime.time(1, 0), 'EndTimestamp1': datetime.time(1, 30), 'Additional1': None}\n",
      "{'SubmitDateTime': '11/27/2024 20:34:03', 'Mail': 'elzeant07@gmail.com', 'Language': '🇩🇪 Deutsch', 'PreferredCommunication': 'Instagram', 'Instagram': 'Ncity_25dream', 'InstagramProfileURL': 'https://www.instagram.com/Ncity_25dream/', 'WhatsApp': '', 'WhatsAppURL': '', 'FurtherContact': None, 'YTURL1': 'https://youtu.be/Nu4CqeLs1mY?si=kP9VypsbaFtTXG0N', 'Artist1': 'BUS', 'Title1': 'LIAR', 'Part1': 'Chorus 1', 'StartTimestamp1': datetime.time(0, 38), 'EndTimestamp1': datetime.time(1, 10), 'Additional1': None}\n",
      "{'SubmitDateTime': '11/27/2024 20:36:07', 'Mail': 'moonlightpowerx@gmail.com', 'Language': '🇩🇪 Deutsch', 'PreferredCommunication': 'Instagram', 'Instagram': '@lifewithnatscho', 'InstagramProfileURL': 'https://www.instagram.com/lifewithnatscho/', 'WhatsApp': '', 'WhatsAppURL': '', 'FurtherContact': None, 'YTURL1': 'https://youtu.be/v4ogFP9UnXs?si=K7gebgSJyGxYhXyW', 'Artist1': 'YENA', 'Title1': 'NEMONEMO', 'Part1': 'Chorus 1', 'StartTimestamp1': datetime.time(0, 28), 'EndTimestamp1': datetime.time(1, 12), 'Additional1': None}\n",
      "{'SubmitDateTime': '11/27/2024 20:38:34', 'Mail': 'thxivxp22@gmail.com', 'Language': '🇩🇪 Deutsch', 'PreferredCommunication': 'Instagram', 'Instagram': 'th4ivv', 'InstagramProfileURL': 'https://www.instagram.com/th4ivv/', 'WhatsApp': '', 'WhatsAppURL': '', 'FurtherContact': None, 'YTURL1': 'https://youtu.be/lAEoyjY8ieg?si=dm50qsI0uJbUr75Q', 'Artist1': 'BILLLIE', 'Title1': 'Remembrance candy', 'Part1': 'Chorus 1', 'StartTimestamp1': datetime.time(0, 41), 'EndTimestamp1': datetime.time(1, 12), 'Additional1': None}\n",
      "{'SubmitDateTime': '11/27/2024 20:39:01', 'Mail': 'weyerremely@gmail.com', 'Language': '🇩🇪 Deutsch', 'PreferredCommunication': 'Instagram', 'Instagram': 'bxngchxn0310', 'InstagramProfileURL': 'https://www.instagram.com/bxngchxn0310/', 'WhatsApp': '015158788774', 'WhatsAppURL': 'https://wa.me/015158788774', 'FurtherContact': None, 'YTURL1': 'https://youtu.be/gWpUdXz57yk?si=pcpNWt50h3ihaCrt', 'Artist1': 'Treasure', 'Title1': 'Move', 'Part1': 'Dancebreak', 'StartTimestamp1': datetime.time(1, 32), 'EndTimestamp1': datetime.time(3, 26), 'Additional1': None}\n",
      "{'SubmitDateTime': '11/27/2024 20:42:20', 'Mail': 'ivannakojlak@gmail.com', 'Language': '🇩🇪 Deutsch', 'PreferredCommunication': 'Instagram', 'Instagram': 'meisteeens', 'InstagramProfileURL': 'https://www.instagram.com/meisteeens/', 'WhatsApp': '', 'WhatsAppURL': '', 'FurtherContact': None, 'YTURL1': 'https://youtu.be/38Z569-vGMY?si=pqeDd66tRwL35luk', 'Artist1': 'P1HARMONY', 'Title1': 'Scared', 'Part1': 'Chorus 1', 'StartTimestamp1': datetime.time(0, 53), 'EndTimestamp1': datetime.time(1, 16), 'Additional1': 'Please!! add about 10 sec before the choreo'}\n",
      "{'SubmitDateTime': '11/27/2024 20:42:24', 'Mail': 'nisininja@gmail.com', 'Language': '🇩🇪 Deutsch', 'PreferredCommunication': 'Instagram', 'Instagram': '@nisi._.y', 'InstagramProfileURL': 'https://www.instagram.com/nisi._.y/', 'WhatsApp': '', 'WhatsAppURL': '', 'FurtherContact': None, 'YTURL1': 'https://youtu.be/ehqVxQ7wzbY?si=NGNkzFrewl8Z5628', 'Artist1': 'Shinee', 'Title1': 'Sherlock (Clue+Note)', 'Part1': 'Chorus 1', 'StartTimestamp1': datetime.time(1, 23), 'EndTimestamp1': datetime.time(1, 50), 'Additional1': None}\n",
      "{'SubmitDateTime': '11/27/2024 20:48:56', 'Mail': 'milaoechsle@gmail.com', 'Language': '🇩🇪 Deutsch', 'PreferredCommunication': 'Instagram', 'Instagram': 'Whvviz', 'InstagramProfileURL': 'https://www.instagram.com/Whvviz/', 'WhatsApp': '', 'WhatsAppURL': '', 'FurtherContact': None, 'YTURL1': 'https://youtu.be/-8B91PS6thk?si=HuoGTk2uL72hEvp7', 'Artist1': 'Twice', 'Title1': 'Doughnut', 'Part1': 'Chorus 1', 'StartTimestamp1': datetime.time(0, 43), 'EndTimestamp1': datetime.time(1, 20), 'Additional1': None}\n",
      "{'SubmitDateTime': '11/27/2024 20:50:27', 'Mail': 'zlatakovtunenko2@gmail.com', 'Language': '🇩🇪 Deutsch', 'PreferredCommunication': 'Instagram', 'Instagram': '@yazlata_17', 'InstagramProfileURL': 'https://www.instagram.com/yazlata_17/', 'WhatsApp': '', 'WhatsAppURL': '', 'FurtherContact': None, 'YTURL1': 'https://youtu.be/WNVgdbpNGEk?si=rSy3jlkhvWcveE2R', 'Artist1': 'Twice', 'Title1': 'Go Hard', 'Part1': 'Chorus 1', 'StartTimestamp1': datetime.time(0, 41), 'EndTimestamp1': datetime.time(1, 3), 'Additional1': None}\n",
      "{'SubmitDateTime': '11/27/2024 20:50:48', 'Mail': 'lucia.parsch@mail.de', 'Language': '🇩🇪 Deutsch', 'PreferredCommunication': 'Instagram', 'Instagram': 'Yukiprh', 'InstagramProfileURL': 'https://www.instagram.com/Yukiprh/', 'WhatsApp': '', 'WhatsAppURL': '', 'FurtherContact': None, 'YTURL1': 'https://youtu.be/t4obv0Arf2c?si=sCr8aDvOeJ2iVND-', 'Artist1': '(G)I-DLE', 'Title1': 'Tomboy', 'Part1': 'Chorus 2, Dancebreak', 'StartTimestamp1': datetime.time(1, 35), 'EndTimestamp1': datetime.time(2, 53), 'Additional1': None}\n",
      "{'SubmitDateTime': '11/27/2024 20:51:44', 'Mail': 'abc.tuxel@gmail.com', 'Language': '🇩🇪 Deutsch', 'PreferredCommunication': 'WhatsApp', 'Instagram': '', 'InstagramProfileURL': '', 'WhatsApp': '491713476614', 'WhatsAppURL': 'https://wa.me/491713476614', 'FurtherContact': None, 'YTURL1': 'https://youtu.be/bTJkioQKXQA?si=CKsXTT5D6E2ZyD8h', 'Artist1': 'Nct Dream', 'Title1': 'Boom', 'Part1': 'Chorus 1', 'StartTimestamp1': datetime.time(0, 46), 'EndTimestamp1': datetime.time(1, 20), 'Additional1': None}\n",
      "{'SubmitDateTime': '11/27/2024 20:54:59', 'Mail': 'k.klein3107@gmail.com', 'Language': '🇩🇪 Deutsch', 'PreferredCommunication': 'Instagram', 'Instagram': '@Kevin_istalleinezuhause', 'InstagramProfileURL': 'https://www.instagram.com/Kevin_istalleinezuhause/', 'WhatsApp': '', 'WhatsAppURL': '', 'FurtherContact': None, 'YTURL1': 'https://youtu.be/x3Qo7XkvaqU?si=eWawXvJZWKv9f9G8', 'Artist1': 'MYTRO', 'Title1': 'Bomb Bomb Bomb', 'Part1': 'Chorus 1', 'StartTimestamp1': datetime.time(1, 7), 'EndTimestamp1': datetime.time(1, 55), 'Additional1': None}\n",
      "{'SubmitDateTime': '11/27/2024 20:55:16', 'Mail': 'salina.by5959@gmail.com', 'Language': '🇩🇪 Deutsch', 'PreferredCommunication': 'Instagram', 'Instagram': 'li.na_0610', 'InstagramProfileURL': 'https://www.instagram.com/li.na_0610/', 'WhatsApp': '', 'WhatsAppURL': '', 'FurtherContact': None, 'YTURL1': 'https://youtu.be/OvWr2RVnCXE?si=mtTVirE-IpOML0T3', 'Artist1': 'TWS', 'Title1': 'Last Festival', 'Part1': 'Chorus 1', 'StartTimestamp1': datetime.time(0, 35), 'EndTimestamp1': datetime.time(1, 25), 'Additional1': None}\n",
      "{'SubmitDateTime': '11/27/2024 20:57:25', 'Mail': 'zozorr@web.de', 'Language': '🇩🇪 Deutsch', 'PreferredCommunication': 'Instagram', 'Instagram': 'zoeyruiiz', 'InstagramProfileURL': 'https://www.instagram.com/zoeyruiiz/', 'WhatsApp': '', 'WhatsAppURL': '', 'FurtherContact': None, 'YTURL1': 'https://youtu.be/wCDYazlmzQs?si=LI-jCiVkWu6tqicr', 'Artist1': 'Dal Shabet', 'Title1': 'Someone like u', 'Part1': 'Chorus 1', 'StartTimestamp1': datetime.time(0, 40), 'EndTimestamp1': datetime.time(1, 22), 'Additional1': None}\n",
      "{'SubmitDateTime': '11/27/2024 20:58:25', 'Mail': 'suzimilo@icloud.com', 'Language': '🇩🇪 Deutsch', 'PreferredCommunication': 'Instagram', 'Instagram': 'Miisuzi', 'InstagramProfileURL': 'https://www.instagram.com/Miisuzi/', 'WhatsApp': '', 'WhatsAppURL': '', 'FurtherContact': None, 'YTURL1': 'https://youtu.be/euzwhRGdcfQ', 'Artist1': 'BADVILLAIN', 'Title1': 82, 'Part1': 'Dancebreak', 'StartTimestamp1': datetime.time(0, 42), 'EndTimestamp1': datetime.time(1, 24), 'Additional1': None}\n",
      "{'SubmitDateTime': '11/27/2024 21:01:37', 'Mail': 'susadakoetsuk074@gmail.com', 'Language': '🇩🇪 Deutsch', 'PreferredCommunication': 'Instagram', 'Instagram': '@02.d3em', 'InstagramProfileURL': 'https://www.instagram.com/02.d3em/', 'WhatsApp': '17631619426', 'WhatsAppURL': 'https://wa.me/17631619426', 'FurtherContact': 'susadakoetsuk074@gmail.com', 'YTURL1': 'https://youtu.be/JrQxqQ7QThw?si=KFRSlTo2o6S3XaN3', 'Artist1': 'WINTER (aespa)', 'Title1': 'Spark', 'Part1': 'Chorus 2, Dancebreak, Other (Please use \"Additional Information\" Text Field)', 'StartTimestamp1': datetime.time(2, 26), 'EndTimestamp1': datetime.time(3, 21), 'Additional1': 'Chorus 2 until the ending'}\n",
      "{'SubmitDateTime': '11/27/2024 21:10:21', 'Mail': 'kidianab@gmail.com', 'Language': '🇩🇪 Deutsch', 'PreferredCommunication': 'Instagram', 'Instagram': 'chaeryki.sses', 'InstagramProfileURL': 'https://www.instagram.com/chaeryki.sses/', 'WhatsApp': '491747108792', 'WhatsAppURL': 'https://wa.me/491747108792', 'FurtherContact': None, 'YTURL1': 'https://youtu.be/EiAELzg7btM?si=QBFIwsC7Rfywm99j', 'Artist1': 'Viviz', 'Title1': 'Shhh!', 'Part1': 'Dancebreak', 'StartTimestamp1': datetime.time(2, 18), 'EndTimestamp1': datetime.time(3, 13), 'Additional1': None}\n",
      "{'SubmitDateTime': '11/27/2024 21:15:54', 'Mail': 'noahmaxutov@gmail.com', 'Language': '🇬🇧 English', 'PreferredCommunication': 'Instagram', 'Instagram': '@jellyp0pfish', 'InstagramProfileURL': 'https://www.instagram.com/jellyp0pfish/', 'WhatsApp': '15730804353', 'WhatsAppURL': 'https://wa.me/15730804353', 'FurtherContact': '/', 'YTURL1': 'https://youtu.be/Z_MW8lPTgM8?si=eJA8znArYbi-g-u_', 'Artist1': 'Seulgi', 'Title1': '28 Reasons', 'Part1': 'Chorus 1', 'StartTimestamp1': datetime.time(0, 14), 'EndTimestamp1': datetime.time(1, 5), 'Additional1': None}\n",
      "{'SubmitDateTime': '11/27/2024 21:16:08', 'Mail': 'hennalinamurati@gmail.com', 'Language': '🇩🇪 Deutsch', 'PreferredCommunication': 'Instagram', 'Instagram': 'henn.a0711', 'InstagramProfileURL': 'https://www.instagram.com/henn.a0711/', 'WhatsApp': '', 'WhatsAppURL': '', 'FurtherContact': None, 'YTURL1': 'https://youtu.be/Mw3yd6QAGKI?si=3j2NkJ6_oBbSAMXV', 'Artist1': 'Enhypen', 'Title1': 'Criminal Love', 'Part1': 'Chorus 1', 'StartTimestamp1': datetime.time(0, 40), 'EndTimestamp1': datetime.time(1, 21), 'Additional1': None}\n",
      "{'SubmitDateTime': '11/27/2024 21:19:31', 'Mail': 'anni04nagel@gmail.com', 'Language': '🇩🇪 Deutsch', 'PreferredCommunication': 'WhatsApp', 'Instagram': 'Tjay.weird0', 'InstagramProfileURL': 'https://www.instagram.com/Tjay.weird0/', 'WhatsApp': '1774892405', 'WhatsAppURL': 'https://wa.me/1774892405', 'FurtherContact': None, 'YTURL1': 'https://youtu.be/iEAnRJlo0Xg?si=SgN-Li42H2bMGUtq', 'Artist1': 'Kingdom', 'Title1': 'Long live the king', 'Part1': 'Chorus 1', 'StartTimestamp1': datetime.time(1, 10), 'EndTimestamp1': datetime.time(1, 50), 'Additional1': None}\n",
      "{'SubmitDateTime': '11/27/2024 21:22:03', 'Mail': 'nasreen.baray@gmail.com', 'Language': '🇩🇪 Deutsch', 'PreferredCommunication': 'Instagram', 'Instagram': 'N4.reen_stgtt', 'InstagramProfileURL': 'https://www.instagram.com/N4.reen_stgtt/', 'WhatsApp': '', 'WhatsAppURL': '', 'FurtherContact': None, 'YTURL1': 'https://www.youtube.com/watch?v=dWsWbd7xauA', 'Artist1': 'Brown eyed girls', 'Title1': 'Abracadabra', 'Part1': 'Chorus 1', 'StartTimestamp1': datetime.time(0, 26), 'EndTimestamp1': datetime.time(1, 14), 'Additional1': None}\n",
      "{'SubmitDateTime': '11/27/2024 21:23:55', 'Mail': 'mertyasin98@googlemail.com', 'Language': '🇩🇪 Deutsch', 'PreferredCommunication': 'Instagram', 'Instagram': '@summerttime_', 'InstagramProfileURL': 'https://www.instagram.com/summerttime_/', 'WhatsApp': '', 'WhatsAppURL': '', 'FurtherContact': None, 'YTURL1': 'https://youtu.be/bpJJNjEBcxg?si=_8Gx_uFwciKLKYBV', 'Artist1': 'Taeyang', 'Title1': 'Ringa Linga', 'Part1': 'Chorus 1', 'StartTimestamp1': datetime.time(1, 8), 'EndTimestamp1': datetime.time(1, 35), 'Additional1': None}\n"
     ]
    }
   ],
   "source": [
    "wb = load_workbook(filename=\"songwish.xlsx\", data_only=True)\n",
    "sheet = wb[\"Songwish\"]\n",
    "\n",
    "song_wish = []\n",
    "\n",
    "for x in range(2, sheet.max_row + 1):\n",
    "\n",
    "    nickname = \"\"\n",
    "    ig_profile_url = \"\"\n",
    "    if sheet.cell(x,5).value != None:\n",
    "        nickname = sheet.cell(x,5).value\n",
    "        if nickname[0] == \"@\":\n",
    "            ig_profile_url = f\"https://www.instagram.com/{nickname[1:]}/\"\n",
    "        else:\n",
    "            ig_profile_url = f\"https://www.instagram.com/{nickname}/\"\n",
    "    \n",
    "    whatsApp = \"\"\n",
    "    whatsApp_url = \"\"\n",
    "    if sheet.cell(x,6).value != None:\n",
    "        whatsApp = ''.join(e for e in str(str(sheet.cell(x,6).value)) if e.isalnum()).lower()\n",
    "        whatsApp_url = f\"https://wa.me/{whatsApp}\"\n",
    "\n",
    "    \n",
    "\n",
    "    '''\n",
    "    song_wish.append({\n",
    "        \"SubmitDateTime\": sheet.cell(x,1).value,\n",
    "        \"Mail\": sheet.cell(x,2).value,\n",
    "        \"Language\": sheet.cell(x,3).value,\n",
    "        \"PreferredCommunication\": sheet.cell(x,4).value,\n",
    "        \"Instagram\": nickname,\n",
    "        \"InstagramProfileURL\": ig_profile_url,\n",
    "        \"WhatsApp\": whatsApp,\n",
    "        \"WhatsAppURL\": whatsApp_url,\n",
    "        \"FurtherContact\": sheet.cell(x,7).value,\n",
    "        \"YTURL1\": sheet.cell(x,8).value,\n",
    "        \"Artist1\": sheet.cell(x,9).value,\n",
    "        \"Title1\": sheet.cell(x,10).value,\n",
    "        \"Part1\": sheet.cell(x,11).value,\n",
    "        \"StartTimestamp1\": sheet.cell(x,12).value,\n",
    "        \"EndTimestamp1\": sheet.cell(x,13).value,\n",
    "        \"Additional1\": sheet.cell(x,14).value,\n",
    "        \"YTURL2\": sheet.cell(x,15).value,\n",
    "        \"Artist2\": sheet.cell(x,16).value,\n",
    "        \"Title2\": sheet.cell(x,17).value,\n",
    "        \"Part2\": sheet.cell(x,18).value,\n",
    "        \"StartTimestamp2\": sheet.cell(x,19).value,\n",
    "        \"EndTimestamp2\": sheet.cell(x,20).value,\n",
    "        \"Additional2\": sheet.cell(x,21).value\n",
    "    })\n",
    "    '''\n",
    "\n",
    "    song_wish.append({\n",
    "        \"SubmitDateTime\": sheet.cell(x,1).value,\n",
    "        \"Mail\": sheet.cell(x,2).value,\n",
    "        \"Language\": sheet.cell(x,3).value,\n",
    "        \"PreferredCommunication\": sheet.cell(x,4).value,\n",
    "        \"Instagram\": nickname,\n",
    "        \"InstagramProfileURL\": ig_profile_url,\n",
    "        \"WhatsApp\": whatsApp,\n",
    "        \"WhatsAppURL\": whatsApp_url,\n",
    "        \"FurtherContact\": sheet.cell(x,7).value,\n",
    "        \"YTURL1\": sheet.cell(x,8).value,\n",
    "        \"Artist1\": sheet.cell(x,9).value,\n",
    "        \"Title1\": sheet.cell(x,10).value,\n",
    "        \"Part1\": sheet.cell(x,11).value,\n",
    "        \"StartTimestamp1\": sheet.cell(x,12).value,\n",
    "        \"EndTimestamp1\": sheet.cell(x,13).value,\n",
    "        \"Additional1\": sheet.cell(x,14).value\n",
    "    })\n",
    "\n",
    "wb.close()\n",
    "\n",
    "for x in song_wish:\n",
    "    print(x)"
   ]
  },
  {
   "cell_type": "code",
   "execution_count": 7,
   "metadata": {},
   "outputs": [
    {
     "name": "stdout",
     "output_type": "stream",
     "text": [
      "giselle - dopamine\n",
      "[youtube] Extracting URL: https://youtu.be/111RXgAc86Y?si=I1nMEVU2zaVCn_oS\n",
      "[youtube] 111RXgAc86Y: Downloading webpage\n",
      "[youtube] 111RXgAc86Y: Downloading ios player API JSON\n",
      "[youtube] 111RXgAc86Y: Downloading android player API JSON\n",
      "[youtube] 111RXgAc86Y: Downloading player b46bb280\n"
     ]
    },
    {
     "name": "stderr",
     "output_type": "stream",
     "text": [
      "WARNING: [youtube] 111RXgAc86Y: nsig extraction failed: You may experience throttling for some formats\n",
      "         n = XJFEaY1s6oZUhdo02IT ; player = https://www.youtube.com/s/player/b46bb280/player_ias.vflset/en_US/base.js\n",
      "WARNING: [youtube] 111RXgAc86Y: nsig extraction failed: You may experience throttling for some formats\n",
      "         n = SJjpNRT-O72ePtCfiN3 ; player = https://www.youtube.com/s/player/b46bb280/player_ias.vflset/en_US/base.js\n"
     ]
    },
    {
     "name": "stdout",
     "output_type": "stream",
     "text": [
      "[youtube] 111RXgAc86Y: Downloading m3u8 information\n",
      "xikers - bittersweet\n",
      "[youtube] Extracting URL: https://youtu.be/Xzuu66s0n50?si=QgakrzRj_hEy-6x8\n",
      "[youtube] Xzuu66s0n50: Downloading webpage\n",
      "[youtube] Xzuu66s0n50: Downloading ios player API JSON\n",
      "[youtube] Xzuu66s0n50: Downloading android player API JSON\n",
      "[youtube] Xzuu66s0n50: Downloading player b46bb280\n"
     ]
    },
    {
     "name": "stderr",
     "output_type": "stream",
     "text": [
      "WARNING: [youtube] Xzuu66s0n50: nsig extraction failed: You may experience throttling for some formats\n",
      "         n = uNclGcZcpXvHq8ZJA7I ; player = https://www.youtube.com/s/player/b46bb280/player_ias.vflset/en_US/base.js\n",
      "WARNING: [youtube] Xzuu66s0n50: nsig extraction failed: You may experience throttling for some formats\n",
      "         n = F1zUBOYs410LK93agAF ; player = https://www.youtube.com/s/player/b46bb280/player_ias.vflset/en_US/base.js\n"
     ]
    },
    {
     "name": "stdout",
     "output_type": "stream",
     "text": [
      "[youtube] Xzuu66s0n50: Downloading m3u8 information\n",
      "itzy - gold\n",
      "[youtube] Extracting URL: https://youtu.be/zPoBKxSO0C4\n",
      "[youtube] zPoBKxSO0C4: Downloading webpage\n",
      "[youtube] zPoBKxSO0C4: Downloading ios player API JSON\n",
      "[youtube] zPoBKxSO0C4: Downloading android player API JSON\n",
      "[youtube] zPoBKxSO0C4: Downloading player b46bb280\n"
     ]
    },
    {
     "name": "stderr",
     "output_type": "stream",
     "text": [
      "WARNING: [youtube] zPoBKxSO0C4: nsig extraction failed: You may experience throttling for some formats\n",
      "         n = VJiHWvTxTl1A6OAof-I ; player = https://www.youtube.com/s/player/b46bb280/player_ias.vflset/en_US/base.js\n",
      "WARNING: [youtube] zPoBKxSO0C4: nsig extraction failed: You may experience throttling for some formats\n",
      "         n = iJhvuMmsd8Q_eHBffFQ ; player = https://www.youtube.com/s/player/b46bb280/player_ias.vflset/en_US/base.js\n"
     ]
    },
    {
     "name": "stdout",
     "output_type": "stream",
     "text": [
      "[youtube] zPoBKxSO0C4: Downloading m3u8 information\n",
      "enhypen - fataltrouble\n",
      "[youtube] Extracting URL: https://youtu.be/WqnyBAhQT2M?si=fT_23xyqUWH2h8ql\n",
      "[youtube] WqnyBAhQT2M: Downloading webpage\n",
      "[youtube] WqnyBAhQT2M: Downloading ios player API JSON\n",
      "[youtube] WqnyBAhQT2M: Downloading android player API JSON\n",
      "[youtube] WqnyBAhQT2M: Downloading player b46bb280\n"
     ]
    },
    {
     "name": "stderr",
     "output_type": "stream",
     "text": [
      "WARNING: [youtube] WqnyBAhQT2M: nsig extraction failed: You may experience throttling for some formats\n",
      "         n = ZJZTc0OLucYlAPGJa90 ; player = https://www.youtube.com/s/player/b46bb280/player_ias.vflset/en_US/base.js\n",
      "WARNING: [youtube] WqnyBAhQT2M: nsig extraction failed: You may experience throttling for some formats\n",
      "         n = hNXfG6EY01V2UnX-Ddh ; player = https://www.youtube.com/s/player/b46bb280/player_ias.vflset/en_US/base.js\n"
     ]
    },
    {
     "name": "stdout",
     "output_type": "stream",
     "text": [
      "[youtube] WqnyBAhQT2M: Downloading m3u8 information\n",
      "itzy - imaginaryfriend\n",
      "[youtube] Extracting URL: https://youtu.be/wuCZeGyY8Q4?si=rmxDMqpWl5WmJH7m\n",
      "[youtube] wuCZeGyY8Q4: Downloading webpage\n",
      "[youtube] wuCZeGyY8Q4: Downloading ios player API JSON\n",
      "[youtube] wuCZeGyY8Q4: Downloading android player API JSON\n",
      "[youtube] wuCZeGyY8Q4: Downloading player b46bb280\n"
     ]
    },
    {
     "name": "stderr",
     "output_type": "stream",
     "text": [
      "WARNING: [youtube] wuCZeGyY8Q4: nsig extraction failed: You may experience throttling for some formats\n",
      "         n = p153agU8vB6EWHDYfrC ; player = https://www.youtube.com/s/player/b46bb280/player_ias.vflset/en_US/base.js\n",
      "WARNING: [youtube] wuCZeGyY8Q4: nsig extraction failed: You may experience throttling for some formats\n",
      "         n = c1JquMFXmA1dLzDllHn ; player = https://www.youtube.com/s/player/b46bb280/player_ias.vflset/en_US/base.js\n"
     ]
    },
    {
     "name": "stdout",
     "output_type": "stream",
     "text": [
      "[youtube] wuCZeGyY8Q4: Downloading m3u8 information\n",
      "kep1er - synclove\n",
      "[youtube] Extracting URL: https://youtu.be/hYtiH0Naq9I?si=aviz_KGKbHVVuxIC\n",
      "[youtube] hYtiH0Naq9I: Downloading webpage\n",
      "[youtube] hYtiH0Naq9I: Downloading ios player API JSON\n",
      "[youtube] hYtiH0Naq9I: Downloading android player API JSON\n",
      "[youtube] hYtiH0Naq9I: Downloading player b46bb280\n"
     ]
    },
    {
     "name": "stderr",
     "output_type": "stream",
     "text": [
      "WARNING: [youtube] hYtiH0Naq9I: nsig extraction failed: You may experience throttling for some formats\n",
      "         n = pt2V6PkrKMyHYJawgR2 ; player = https://www.youtube.com/s/player/b46bb280/player_ias.vflset/en_US/base.js\n",
      "WARNING: [youtube] hYtiH0Naq9I: nsig extraction failed: You may experience throttling for some formats\n",
      "         n = E1e3eevXJdNiDTLuyjR ; player = https://www.youtube.com/s/player/b46bb280/player_ias.vflset/en_US/base.js\n"
     ]
    },
    {
     "name": "stdout",
     "output_type": "stream",
     "text": [
      "[youtube] hYtiH0Naq9I: Downloading m3u8 information\n",
      "xikers - wedontstop\n",
      "[youtube] Extracting URL: https://youtu.be/U7EaezHyB98?si=OiC7sj4HLmiGmiKP\n",
      "[youtube] U7EaezHyB98: Downloading webpage\n",
      "[youtube] U7EaezHyB98: Downloading ios player API JSON\n",
      "[youtube] U7EaezHyB98: Downloading android player API JSON\n",
      "[youtube] U7EaezHyB98: Downloading player b46bb280\n"
     ]
    },
    {
     "name": "stderr",
     "output_type": "stream",
     "text": [
      "WARNING: [youtube] U7EaezHyB98: nsig extraction failed: You may experience throttling for some formats\n",
      "         n = rJXDJmc9tbm8_wIecWC ; player = https://www.youtube.com/s/player/b46bb280/player_ias.vflset/en_US/base.js\n",
      "WARNING: [youtube] U7EaezHyB98: nsig extraction failed: You may experience throttling for some formats\n",
      "         n = _t0Xmh8AVjU2RnZBsKt ; player = https://www.youtube.com/s/player/b46bb280/player_ias.vflset/en_US/base.js\n"
     ]
    },
    {
     "name": "stdout",
     "output_type": "stream",
     "text": [
      "[youtube] U7EaezHyB98: Downloading m3u8 information\n",
      "itzy - escalator\n",
      "[youtube] Extracting URL: https://youtu.be/WimJ9MfCG_g?si=eDOXPrQ7j5hu0FH_\n",
      "[youtube] WimJ9MfCG_g: Downloading webpage\n",
      "[youtube] WimJ9MfCG_g: Downloading ios player API JSON\n",
      "[youtube] WimJ9MfCG_g: Downloading android player API JSON\n",
      "[youtube] WimJ9MfCG_g: Downloading player b46bb280\n"
     ]
    },
    {
     "name": "stderr",
     "output_type": "stream",
     "text": [
      "WARNING: [youtube] WimJ9MfCG_g: nsig extraction failed: You may experience throttling for some formats\n",
      "         n = m1qqkkFOCsiHuy8NJsh ; player = https://www.youtube.com/s/player/b46bb280/player_ias.vflset/en_US/base.js\n",
      "WARNING: [youtube] WimJ9MfCG_g: nsig extraction failed: You may experience throttling for some formats\n",
      "         n = iJcxXyYXMib5LCNsL7S ; player = https://www.youtube.com/s/player/b46bb280/player_ias.vflset/en_US/base.js\n"
     ]
    },
    {
     "name": "stdout",
     "output_type": "stream",
     "text": [
      "[youtube] WimJ9MfCG_g: Downloading m3u8 information\n",
      "nctdream - whenimwithyou\n",
      "[youtube] Extracting URL: https://youtu.be/z3Phxfwi5pg?si=MWER4Gon55SNWhj1\n",
      "[youtube] z3Phxfwi5pg: Downloading webpage\n",
      "[youtube] z3Phxfwi5pg: Downloading ios player API JSON\n",
      "[youtube] z3Phxfwi5pg: Downloading android player API JSON\n",
      "[youtube] z3Phxfwi5pg: Downloading player b46bb280\n"
     ]
    },
    {
     "name": "stderr",
     "output_type": "stream",
     "text": [
      "WARNING: [youtube] z3Phxfwi5pg: nsig extraction failed: You may experience throttling for some formats\n",
      "         n = 0J-8ZdvCZ8ZqTWHapaN ; player = https://www.youtube.com/s/player/b46bb280/player_ias.vflset/en_US/base.js\n",
      "WARNING: [youtube] z3Phxfwi5pg: nsig extraction failed: You may experience throttling for some formats\n",
      "         n = yJr0viNi-favggM_7J9 ; player = https://www.youtube.com/s/player/b46bb280/player_ias.vflset/en_US/base.js\n"
     ]
    },
    {
     "name": "stdout",
     "output_type": "stream",
     "text": [
      "[youtube] z3Phxfwi5pg: Downloading m3u8 information\n",
      "nctdream - istj\n",
      "[youtube] Extracting URL: https://youtu.be/es60T3k-tyM?si=OvDX-RUUNmfvSSPA\n",
      "[youtube] es60T3k-tyM: Downloading webpage\n",
      "[youtube] es60T3k-tyM: Downloading ios player API JSON\n",
      "[youtube] es60T3k-tyM: Downloading android player API JSON\n",
      "[youtube] es60T3k-tyM: Downloading player b46bb280\n"
     ]
    },
    {
     "name": "stderr",
     "output_type": "stream",
     "text": [
      "WARNING: [youtube] es60T3k-tyM: nsig extraction failed: You may experience throttling for some formats\n",
      "         n = VJnT6XbxM8TQRntciYK ; player = https://www.youtube.com/s/player/b46bb280/player_ias.vflset/en_US/base.js\n",
      "WARNING: [youtube] es60T3k-tyM: nsig extraction failed: You may experience throttling for some formats\n",
      "         n = otA_Da5QBltclk3vdJB ; player = https://www.youtube.com/s/player/b46bb280/player_ias.vflset/en_US/base.js\n"
     ]
    },
    {
     "name": "stdout",
     "output_type": "stream",
     "text": [
      "[youtube] es60T3k-tyM: Downloading m3u8 information\n",
      "key - toungetied\n",
      "[youtube] Extracting URL: https://youtu.be/3_4c--5Gi10?si=U3tDiqC-KUXxSYY6\n",
      "[youtube] 3_4c--5Gi10: Downloading webpage\n",
      "[youtube] 3_4c--5Gi10: Downloading ios player API JSON\n",
      "[youtube] 3_4c--5Gi10: Downloading android player API JSON\n",
      "[youtube] 3_4c--5Gi10: Downloading player b46bb280\n"
     ]
    },
    {
     "name": "stderr",
     "output_type": "stream",
     "text": [
      "WARNING: [youtube] 3_4c--5Gi10: nsig extraction failed: You may experience throttling for some formats\n",
      "         n = 7NDhj_RexNASbGVlzRP ; player = https://www.youtube.com/s/player/b46bb280/player_ias.vflset/en_US/base.js\n",
      "WARNING: [youtube] 3_4c--5Gi10: nsig extraction failed: You may experience throttling for some formats\n",
      "         n = i1AMdBRaTX04333dnvV ; player = https://www.youtube.com/s/player/b46bb280/player_ias.vflset/en_US/base.js\n"
     ]
    },
    {
     "name": "stdout",
     "output_type": "stream",
     "text": [
      "[youtube] 3_4c--5Gi10: Downloading m3u8 information\n",
      "kissoflife - nobodyknows\n",
      "[youtube] Extracting URL: https://youtu.be/alKYZLEXLrk?si=8ddQG7GQ0ha_w8QV\n",
      "[youtube] alKYZLEXLrk: Downloading webpage\n",
      "[youtube] alKYZLEXLrk: Downloading ios player API JSON\n",
      "[youtube] alKYZLEXLrk: Downloading android player API JSON\n",
      "[youtube] alKYZLEXLrk: Downloading player b46bb280\n"
     ]
    },
    {
     "name": "stderr",
     "output_type": "stream",
     "text": [
      "WARNING: [youtube] alKYZLEXLrk: nsig extraction failed: You may experience throttling for some formats\n",
      "         n = Dt8OAhQ_hJzBNAZS28y ; player = https://www.youtube.com/s/player/b46bb280/player_ias.vflset/en_US/base.js\n",
      "WARNING: [youtube] alKYZLEXLrk: nsig extraction failed: You may experience throttling for some formats\n",
      "         n = sN7_AuwI4O4IxLw7Z31 ; player = https://www.youtube.com/s/player/b46bb280/player_ias.vflset/en_US/base.js\n"
     ]
    },
    {
     "name": "stdout",
     "output_type": "stream",
     "text": [
      "[youtube] alKYZLEXLrk: Downloading m3u8 information\n",
      "txt - heaven\n",
      "[youtube] Extracting URL: https://youtu.be/8cko3UZrlsM?si=5Qw3DTFHtL7NMtS7\n",
      "[youtube] 8cko3UZrlsM: Downloading webpage\n",
      "[youtube] 8cko3UZrlsM: Downloading ios player API JSON\n",
      "[youtube] 8cko3UZrlsM: Downloading android player API JSON\n",
      "[youtube] 8cko3UZrlsM: Downloading player b46bb280\n"
     ]
    },
    {
     "name": "stderr",
     "output_type": "stream",
     "text": [
      "WARNING: [youtube] 8cko3UZrlsM: nsig extraction failed: You may experience throttling for some formats\n",
      "         n = Etzw1y15yKiZyb8VtxZ ; player = https://www.youtube.com/s/player/b46bb280/player_ias.vflset/en_US/base.js\n",
      "WARNING: [youtube] 8cko3UZrlsM: nsig extraction failed: You may experience throttling for some formats\n",
      "         n = utj0UVcKEbL-FCDkHwR ; player = https://www.youtube.com/s/player/b46bb280/player_ias.vflset/en_US/base.js\n"
     ]
    },
    {
     "name": "stdout",
     "output_type": "stream",
     "text": [
      "[youtube] 8cko3UZrlsM: Downloading m3u8 information\n",
      "exo - goingcrazy\n",
      "[youtube] Extracting URL: https://youtu.be/ush0XGzx-oQ?si=ZO41lpPZyF6o2Wr8\n",
      "[youtube] ush0XGzx-oQ: Downloading webpage\n",
      "[youtube] ush0XGzx-oQ: Downloading ios player API JSON\n",
      "[youtube] ush0XGzx-oQ: Downloading android player API JSON\n",
      "[youtube] ush0XGzx-oQ: Downloading player b46bb280\n"
     ]
    },
    {
     "name": "stderr",
     "output_type": "stream",
     "text": [
      "WARNING: [youtube] ush0XGzx-oQ: nsig extraction failed: You may experience throttling for some formats\n",
      "         n = J1hivWTu_uaYagLU0YR ; player = https://www.youtube.com/s/player/b46bb280/player_ias.vflset/en_US/base.js\n",
      "WARNING: [youtube] ush0XGzx-oQ: nsig extraction failed: You may experience throttling for some formats\n",
      "         n = ANYh75iVS_O8poCxL3E ; player = https://www.youtube.com/s/player/b46bb280/player_ias.vflset/en_US/base.js\n"
     ]
    },
    {
     "name": "stdout",
     "output_type": "stream",
     "text": [
      "[youtube] ush0XGzx-oQ: Downloading m3u8 information\n",
      "key - tonguetied\n",
      "[youtube] Extracting URL: https://youtu.be/3_4c--5Gi10?si=2UziUATmJCYpXtn2\n",
      "[youtube] 3_4c--5Gi10: Downloading webpage\n",
      "[youtube] 3_4c--5Gi10: Downloading ios player API JSON\n",
      "[youtube] 3_4c--5Gi10: Downloading android player API JSON\n",
      "[youtube] 3_4c--5Gi10: Downloading player b46bb280\n"
     ]
    },
    {
     "name": "stderr",
     "output_type": "stream",
     "text": [
      "WARNING: [youtube] 3_4c--5Gi10: nsig extraction failed: You may experience throttling for some formats\n",
      "         n = 51tQ9p1YPRJ2KrUAmhb ; player = https://www.youtube.com/s/player/b46bb280/player_ias.vflset/en_US/base.js\n",
      "WARNING: [youtube] 3_4c--5Gi10: nsig extraction failed: You may experience throttling for some formats\n",
      "         n = V1eUOUOAyfHqpQpJGiJ ; player = https://www.youtube.com/s/player/b46bb280/player_ias.vflset/en_US/base.js\n"
     ]
    },
    {
     "name": "stdout",
     "output_type": "stream",
     "text": [
      "[youtube] 3_4c--5Gi10: Downloading m3u8 information\n",
      "nuestw - dejavu\n",
      "[youtube] Extracting URL: https://youtu.be/aDANqbOzsdo?si=d-3_1nn_KtLmhn2i\n",
      "[youtube] aDANqbOzsdo: Downloading webpage\n",
      "[youtube] aDANqbOzsdo: Downloading ios player API JSON\n",
      "[youtube] aDANqbOzsdo: Downloading android player API JSON\n",
      "[youtube] aDANqbOzsdo: Downloading player 5fb5644b\n"
     ]
    },
    {
     "name": "stderr",
     "output_type": "stream",
     "text": [
      "WARNING: [youtube] aDANqbOzsdo: nsig extraction failed: You may experience throttling for some formats\n",
      "         n = V1802UXaPMjEHxZKdqS ; player = https://www.youtube.com/s/player/5fb5644b/player_ias.vflset/en_US/base.js\n",
      "WARNING: [youtube] aDANqbOzsdo: nsig extraction failed: You may experience throttling for some formats\n",
      "         n = fi6syZ_VH9PqUhsUE4W ; player = https://www.youtube.com/s/player/5fb5644b/player_ias.vflset/en_US/base.js\n"
     ]
    },
    {
     "name": "stdout",
     "output_type": "stream",
     "text": [
      "[youtube] aDANqbOzsdo: Downloading m3u8 information\n",
      "xg - howling\n",
      "[youtube] Extracting URL: https://youtu.be/L6ZEG0REwqQ?si=8NaAg9KUeuJQnbeo\n",
      "[youtube] L6ZEG0REwqQ: Downloading webpage\n",
      "[youtube] L6ZEG0REwqQ: Downloading ios player API JSON\n",
      "[youtube] L6ZEG0REwqQ: Downloading android player API JSON\n",
      "[youtube] L6ZEG0REwqQ: Downloading player 5fb5644b\n"
     ]
    },
    {
     "name": "stderr",
     "output_type": "stream",
     "text": [
      "WARNING: [youtube] L6ZEG0REwqQ: nsig extraction failed: You may experience throttling for some formats\n",
      "         n = v0EypvecnzfNeiJwaqA ; player = https://www.youtube.com/s/player/5fb5644b/player_ias.vflset/en_US/base.js\n",
      "WARNING: [youtube] L6ZEG0REwqQ: nsig extraction failed: You may experience throttling for some formats\n",
      "         n = C3JOLsuJAZz6EASowgi ; player = https://www.youtube.com/s/player/5fb5644b/player_ias.vflset/en_US/base.js\n"
     ]
    },
    {
     "name": "stdout",
     "output_type": "stream",
     "text": [
      "[youtube] L6ZEG0REwqQ: Downloading m3u8 information\n",
      "enhypen - moonstruck\n",
      "[youtube] Extracting URL: https://youtu.be/InC7wcQK25Y?si=pQQt641AY0ceGbaT\n",
      "[youtube] InC7wcQK25Y: Downloading webpage\n",
      "[youtube] InC7wcQK25Y: Downloading ios player API JSON\n",
      "[youtube] InC7wcQK25Y: Downloading android player API JSON\n",
      "[youtube] InC7wcQK25Y: Downloading player b46bb280\n"
     ]
    },
    {
     "name": "stderr",
     "output_type": "stream",
     "text": [
      "WARNING: [youtube] InC7wcQK25Y: nsig extraction failed: You may experience throttling for some formats\n",
      "         n = Et01t5tGW3NPUlkVQgI ; player = https://www.youtube.com/s/player/b46bb280/player_ias.vflset/en_US/base.js\n",
      "WARNING: [youtube] InC7wcQK25Y: nsig extraction failed: You may experience throttling for some formats\n",
      "         n = l1leen22IpDIwy4ZxIG ; player = https://www.youtube.com/s/player/b46bb280/player_ias.vflset/en_US/base.js\n"
     ]
    },
    {
     "name": "stdout",
     "output_type": "stream",
     "text": [
      "[youtube] InC7wcQK25Y: Downloading m3u8 information\n",
      "kep1er - shootingstar\n",
      "[youtube] Extracting URL: https://youtu.be/D0nycoXQ9ws?si=7Ap3f8fOn3bMo3Sw\n",
      "[youtube] D0nycoXQ9ws: Downloading webpage\n",
      "[youtube] D0nycoXQ9ws: Downloading ios player API JSON\n",
      "[youtube] D0nycoXQ9ws: Downloading android player API JSON\n",
      "[youtube] D0nycoXQ9ws: Downloading player b46bb280\n"
     ]
    },
    {
     "name": "stderr",
     "output_type": "stream",
     "text": [
      "WARNING: [youtube] D0nycoXQ9ws: nsig extraction failed: You may experience throttling for some formats\n",
      "         n = Ktvztcl0apUQSGrDCJd ; player = https://www.youtube.com/s/player/b46bb280/player_ias.vflset/en_US/base.js\n",
      "WARNING: [youtube] D0nycoXQ9ws: nsig extraction failed: You may experience throttling for some formats\n",
      "         n = XJt7you-6oRRmmo58Uv ; player = https://www.youtube.com/s/player/b46bb280/player_ias.vflset/en_US/base.js\n"
     ]
    },
    {
     "name": "stdout",
     "output_type": "stream",
     "text": [
      "[youtube] D0nycoXQ9ws: Downloading m3u8 information\n",
      "gidle - senorita\n",
      "[youtube] Extracting URL: https://youtu.be/33Js5FPEeKA?si=MIjsOKsYqGa-hb4_\n",
      "[youtube] 33Js5FPEeKA: Downloading webpage\n",
      "[youtube] 33Js5FPEeKA: Downloading ios player API JSON\n",
      "[youtube] 33Js5FPEeKA: Downloading android player API JSON\n",
      "[youtube] 33Js5FPEeKA: Downloading player b46bb280\n"
     ]
    },
    {
     "name": "stderr",
     "output_type": "stream",
     "text": [
      "WARNING: [youtube] 33Js5FPEeKA: nsig extraction failed: You may experience throttling for some formats\n",
      "         n = o13p_z9X1B1Qmysh0Zd ; player = https://www.youtube.com/s/player/b46bb280/player_ias.vflset/en_US/base.js\n",
      "WARNING: [youtube] 33Js5FPEeKA: nsig extraction failed: You may experience throttling for some formats\n",
      "         n = 4NJeJJyZolW-GRHHzsd ; player = https://www.youtube.com/s/player/b46bb280/player_ias.vflset/en_US/base.js\n"
     ]
    },
    {
     "name": "stdout",
     "output_type": "stream",
     "text": [
      "[youtube] 33Js5FPEeKA: Downloading m3u8 information\n",
      "nature - limbo\n",
      "[youtube] Extracting URL: https://youtu.be/WWztIhmotwc?si=aPO9Jj_iR_fTL_IU\n",
      "[youtube] WWztIhmotwc: Downloading webpage\n",
      "[youtube] WWztIhmotwc: Downloading ios player API JSON\n",
      "[youtube] WWztIhmotwc: Downloading android player API JSON\n",
      "[youtube] WWztIhmotwc: Downloading player b46bb280\n"
     ]
    },
    {
     "name": "stderr",
     "output_type": "stream",
     "text": [
      "WARNING: [youtube] WWztIhmotwc: nsig extraction failed: You may experience throttling for some formats\n",
      "         n = V1uiXfH-kHGOGNa-_xF ; player = https://www.youtube.com/s/player/b46bb280/player_ias.vflset/en_US/base.js\n",
      "WARNING: [youtube] WWztIhmotwc: nsig extraction failed: You may experience throttling for some formats\n",
      "         n = lJEjc8XN2JsQF3PFGKD ; player = https://www.youtube.com/s/player/b46bb280/player_ias.vflset/en_US/base.js\n"
     ]
    },
    {
     "name": "stdout",
     "output_type": "stream",
     "text": [
      "[youtube] WWztIhmotwc: Downloading m3u8 information\n",
      "waker - vanillachocoshake\n",
      "[youtube] Extracting URL: https://youtu.be/Qcl5xq9Xs-k?si=h2CLRMWD6CRTrHyn\n",
      "[youtube] Qcl5xq9Xs-k: Downloading webpage\n",
      "[youtube] Qcl5xq9Xs-k: Downloading ios player API JSON\n",
      "[youtube] Qcl5xq9Xs-k: Downloading android player API JSON\n",
      "[youtube] Qcl5xq9Xs-k: Downloading player b46bb280\n"
     ]
    },
    {
     "name": "stderr",
     "output_type": "stream",
     "text": [
      "WARNING: [youtube] Qcl5xq9Xs-k: nsig extraction failed: You may experience throttling for some formats\n",
      "         n = QNof73IOKBs-Ay9GAru ; player = https://www.youtube.com/s/player/b46bb280/player_ias.vflset/en_US/base.js\n",
      "WARNING: [youtube] Qcl5xq9Xs-k: nsig extraction failed: You may experience throttling for some formats\n",
      "         n = htaSw0YJB4KbGLzF-BT ; player = https://www.youtube.com/s/player/b46bb280/player_ias.vflset/en_US/base.js\n"
     ]
    },
    {
     "name": "stdout",
     "output_type": "stream",
     "text": [
      "[youtube] Qcl5xq9Xs-k: Downloading m3u8 information\n",
      "jo1 - shinealight\n",
      "[youtube] Extracting URL: https://youtu.be/9nzB30KzlEM?si=DsTztORbpXPACaNm\n",
      "[youtube] 9nzB30KzlEM: Downloading webpage\n",
      "[youtube] 9nzB30KzlEM: Downloading ios player API JSON\n",
      "[youtube] 9nzB30KzlEM: Downloading android player API JSON\n",
      "[youtube] 9nzB30KzlEM: Downloading player b46bb280\n"
     ]
    },
    {
     "name": "stderr",
     "output_type": "stream",
     "text": [
      "WARNING: [youtube] 9nzB30KzlEM: nsig extraction failed: You may experience throttling for some formats\n",
      "         n = CN8SykqXuH2Chd4azWa ; player = https://www.youtube.com/s/player/b46bb280/player_ias.vflset/en_US/base.js\n",
      "WARNING: [youtube] 9nzB30KzlEM: nsig extraction failed: You may experience throttling for some formats\n",
      "         n = _N52cFjAcTL8oecnn3E ; player = https://www.youtube.com/s/player/b46bb280/player_ias.vflset/en_US/base.js\n"
     ]
    },
    {
     "name": "stdout",
     "output_type": "stream",
     "text": [
      "[youtube] 9nzB30KzlEM: Downloading m3u8 information\n",
      "ateez - iceonmyteeth\n",
      "[youtube] Extracting URL: https://youtu.be/i_oeyE-IdB8?si=mxdxbwRy_qVIIDw_\n",
      "[youtube] i_oeyE-IdB8: Downloading webpage\n",
      "[youtube] i_oeyE-IdB8: Downloading ios player API JSON\n",
      "[youtube] i_oeyE-IdB8: Downloading android player API JSON\n",
      "[youtube] i_oeyE-IdB8: Downloading player b46bb280\n"
     ]
    },
    {
     "name": "stderr",
     "output_type": "stream",
     "text": [
      "WARNING: [youtube] i_oeyE-IdB8: nsig extraction failed: You may experience throttling for some formats\n",
      "         n = aJicDD8tkU9GsjYqt2- ; player = https://www.youtube.com/s/player/b46bb280/player_ias.vflset/en_US/base.js\n",
      "WARNING: [youtube] i_oeyE-IdB8: nsig extraction failed: You may experience throttling for some formats\n",
      "         n = Lt0ZPt9D_40GH83U7Qb ; player = https://www.youtube.com/s/player/b46bb280/player_ias.vflset/en_US/base.js\n"
     ]
    },
    {
     "name": "stdout",
     "output_type": "stream",
     "text": [
      "[youtube] i_oeyE-IdB8: Downloading m3u8 information\n",
      "babymonster - drip\n",
      "[youtube] Extracting URL: https://youtu.be/cXvi0qdC6FU?si=WQwKieGMc0FKr3Y6\n",
      "[youtube] cXvi0qdC6FU: Downloading webpage\n",
      "[youtube] cXvi0qdC6FU: Downloading ios player API JSON\n",
      "[youtube] cXvi0qdC6FU: Downloading android player API JSON\n",
      "[youtube] cXvi0qdC6FU: Downloading player b46bb280\n"
     ]
    },
    {
     "name": "stderr",
     "output_type": "stream",
     "text": [
      "WARNING: [youtube] cXvi0qdC6FU: nsig extraction failed: You may experience throttling for some formats\n",
      "         n = 8N3R0gtfs_TbpaoMgct ; player = https://www.youtube.com/s/player/b46bb280/player_ias.vflset/en_US/base.js\n",
      "WARNING: [youtube] cXvi0qdC6FU: nsig extraction failed: You may experience throttling for some formats\n",
      "         n = a1Q1N4xSthfFmFBOL7o ; player = https://www.youtube.com/s/player/b46bb280/player_ias.vflset/en_US/base.js\n"
     ]
    },
    {
     "name": "stdout",
     "output_type": "stream",
     "text": [
      "[youtube] cXvi0qdC6FU: Downloading m3u8 information\n",
      "wayv - frequency\n",
      "[youtube] Extracting URL: https://youtu.be/XHW2P48kqAE?si=CSwcezwUiE_dLgZh\n",
      "[youtube] XHW2P48kqAE: Downloading webpage\n",
      "[youtube] XHW2P48kqAE: Downloading ios player API JSON\n",
      "[youtube] XHW2P48kqAE: Downloading android player API JSON\n",
      "[youtube] XHW2P48kqAE: Downloading player 5fb5644b\n"
     ]
    },
    {
     "name": "stderr",
     "output_type": "stream",
     "text": [
      "WARNING: [youtube] XHW2P48kqAE: nsig extraction failed: You may experience throttling for some formats\n",
      "         n = hRdHf-9tbgob3rf5hkL ; player = https://www.youtube.com/s/player/5fb5644b/player_ias.vflset/en_US/base.js\n",
      "WARNING: [youtube] XHW2P48kqAE: nsig extraction failed: You may experience throttling for some formats\n",
      "         n = 5ALre3xJjmoT4Nvegke ; player = https://www.youtube.com/s/player/5fb5644b/player_ias.vflset/en_US/base.js\n"
     ]
    },
    {
     "name": "stdout",
     "output_type": "stream",
     "text": [
      "[youtube] XHW2P48kqAE: Downloading m3u8 information\n",
      "ateez - iceonmyteeth\n",
      "[youtube] Extracting URL: https://youtu.be/i_oeyE-IdB8?si=h1ZJvYfl4q8t2mxa\n",
      "[youtube] i_oeyE-IdB8: Downloading webpage\n",
      "[youtube] i_oeyE-IdB8: Downloading ios player API JSON\n",
      "[youtube] i_oeyE-IdB8: Downloading android player API JSON\n",
      "[youtube] i_oeyE-IdB8: Downloading player b46bb280\n"
     ]
    },
    {
     "name": "stderr",
     "output_type": "stream",
     "text": [
      "WARNING: [youtube] i_oeyE-IdB8: nsig extraction failed: You may experience throttling for some formats\n",
      "         n = zJ1BScrIAYv-njS1tJH ; player = https://www.youtube.com/s/player/b46bb280/player_ias.vflset/en_US/base.js\n",
      "WARNING: [youtube] i_oeyE-IdB8: nsig extraction failed: You may experience throttling for some formats\n",
      "         n = jNyw8KqYwGhJ9ixjKQY ; player = https://www.youtube.com/s/player/b46bb280/player_ias.vflset/en_US/base.js\n"
     ]
    },
    {
     "name": "stdout",
     "output_type": "stream",
     "text": [
      "[youtube] i_oeyE-IdB8: Downloading m3u8 information\n",
      "kard - icky\n",
      "[youtube] Extracting URL: https://youtu.be/5f6ZaDLE0Bc?si=r96LTvCnPlfSRsvT\n",
      "[youtube] 5f6ZaDLE0Bc: Downloading webpage\n",
      "[youtube] 5f6ZaDLE0Bc: Downloading ios player API JSON\n",
      "[youtube] 5f6ZaDLE0Bc: Downloading android player API JSON\n",
      "[youtube] 5f6ZaDLE0Bc: Downloading player 5fb5644b\n"
     ]
    },
    {
     "name": "stderr",
     "output_type": "stream",
     "text": [
      "WARNING: [youtube] 5f6ZaDLE0Bc: nsig extraction failed: You may experience throttling for some formats\n",
      "         n = qxHVplO78cL6Xf72Vuz ; player = https://www.youtube.com/s/player/5fb5644b/player_ias.vflset/en_US/base.js\n",
      "WARNING: [youtube] 5f6ZaDLE0Bc: nsig extraction failed: You may experience throttling for some formats\n",
      "         n = v13SnNFXN8fOoP0UTKJ ; player = https://www.youtube.com/s/player/5fb5644b/player_ias.vflset/en_US/base.js\n"
     ]
    },
    {
     "name": "stdout",
     "output_type": "stream",
     "text": [
      "[youtube] 5f6ZaDLE0Bc: Downloading m3u8 information\n",
      "baekhyun - ruridin\n",
      "[youtube] Extracting URL: https://youtu.be/R0hROm05C90?si=F8lAU4WnO-zRA_AW\n",
      "[youtube] R0hROm05C90: Downloading webpage\n",
      "[youtube] R0hROm05C90: Downloading ios player API JSON\n",
      "[youtube] R0hROm05C90: Downloading android player API JSON\n",
      "[youtube] R0hROm05C90: Downloading player b46bb280\n"
     ]
    },
    {
     "name": "stderr",
     "output_type": "stream",
     "text": [
      "WARNING: [youtube] R0hROm05C90: nsig extraction failed: You may experience throttling for some formats\n",
      "         n = jJ0g4vISjtCbKuOiPwj ; player = https://www.youtube.com/s/player/b46bb280/player_ias.vflset/en_US/base.js\n",
      "WARNING: [youtube] R0hROm05C90: nsig extraction failed: You may experience throttling for some formats\n",
      "         n = PNkm7V4bBR7g8NHqgXt ; player = https://www.youtube.com/s/player/b46bb280/player_ias.vflset/en_US/base.js\n"
     ]
    },
    {
     "name": "stdout",
     "output_type": "stream",
     "text": [
      "[youtube] R0hROm05C90: Downloading m3u8 information\n",
      "xg - iykyk\n",
      "[youtube] Extracting URL: https://youtu.be/53YiuL_fyX0?feature=shared\n",
      "[youtube] 53YiuL_fyX0: Downloading webpage\n",
      "[youtube] 53YiuL_fyX0: Downloading ios player API JSON\n",
      "[youtube] 53YiuL_fyX0: Downloading android player API JSON\n",
      "[youtube] 53YiuL_fyX0: Downloading player b46bb280\n"
     ]
    },
    {
     "name": "stderr",
     "output_type": "stream",
     "text": [
      "WARNING: [youtube] 53YiuL_fyX0: nsig extraction failed: You may experience throttling for some formats\n",
      "         n = otwoWZCLJ1qCLpdQk1_ ; player = https://www.youtube.com/s/player/b46bb280/player_ias.vflset/en_US/base.js\n",
      "WARNING: [youtube] 53YiuL_fyX0: nsig extraction failed: You may experience throttling for some formats\n",
      "         n = DtF3A-VTy5fKeqVYl-n ; player = https://www.youtube.com/s/player/b46bb280/player_ias.vflset/en_US/base.js\n"
     ]
    },
    {
     "name": "stdout",
     "output_type": "stream",
     "text": [
      "[youtube] 53YiuL_fyX0: Downloading m3u8 information\n",
      "bus - liar\n",
      "[youtube] Extracting URL: https://youtu.be/Nu4CqeLs1mY?si=kP9VypsbaFtTXG0N\n",
      "[youtube] Nu4CqeLs1mY: Downloading webpage\n",
      "[youtube] Nu4CqeLs1mY: Downloading ios player API JSON\n",
      "[youtube] Nu4CqeLs1mY: Downloading android player API JSON\n",
      "[youtube] Nu4CqeLs1mY: Downloading player b46bb280\n"
     ]
    },
    {
     "name": "stderr",
     "output_type": "stream",
     "text": [
      "WARNING: [youtube] Nu4CqeLs1mY: nsig extraction failed: You may experience throttling for some formats\n",
      "         n = xNC2SN_uRqbV3pUdd9m ; player = https://www.youtube.com/s/player/b46bb280/player_ias.vflset/en_US/base.js\n",
      "WARNING: [youtube] Nu4CqeLs1mY: nsig extraction failed: You may experience throttling for some formats\n",
      "         n = FJSGgemao5k7ns0J6w5 ; player = https://www.youtube.com/s/player/b46bb280/player_ias.vflset/en_US/base.js\n"
     ]
    },
    {
     "name": "stdout",
     "output_type": "stream",
     "text": [
      "[youtube] Nu4CqeLs1mY: Downloading m3u8 information\n",
      "yena - nemonemo\n",
      "[youtube] Extracting URL: https://youtu.be/v4ogFP9UnXs?si=K7gebgSJyGxYhXyW\n",
      "[youtube] v4ogFP9UnXs: Downloading webpage\n",
      "[youtube] v4ogFP9UnXs: Downloading ios player API JSON\n",
      "[youtube] v4ogFP9UnXs: Downloading android player API JSON\n",
      "[youtube] v4ogFP9UnXs: Downloading player b46bb280\n"
     ]
    },
    {
     "name": "stderr",
     "output_type": "stream",
     "text": [
      "WARNING: [youtube] v4ogFP9UnXs: nsig extraction failed: You may experience throttling for some formats\n",
      "         n = I1mp_sLYuoiJyU-6lco ; player = https://www.youtube.com/s/player/b46bb280/player_ias.vflset/en_US/base.js\n",
      "WARNING: [youtube] v4ogFP9UnXs: nsig extraction failed: You may experience throttling for some formats\n",
      "         n = sJaB3T917Psq1a74J8B ; player = https://www.youtube.com/s/player/b46bb280/player_ias.vflset/en_US/base.js\n"
     ]
    },
    {
     "name": "stdout",
     "output_type": "stream",
     "text": [
      "[youtube] v4ogFP9UnXs: Downloading m3u8 information\n",
      "billlie - remembrancecandy\n",
      "[youtube] Extracting URL: https://youtu.be/lAEoyjY8ieg?si=dm50qsI0uJbUr75Q\n",
      "[youtube] lAEoyjY8ieg: Downloading webpage\n",
      "[youtube] lAEoyjY8ieg: Downloading ios player API JSON\n",
      "[youtube] lAEoyjY8ieg: Downloading android player API JSON\n",
      "[youtube] lAEoyjY8ieg: Downloading player b46bb280\n"
     ]
    },
    {
     "name": "stderr",
     "output_type": "stream",
     "text": [
      "WARNING: [youtube] lAEoyjY8ieg: nsig extraction failed: You may experience throttling for some formats\n",
      "         n = kNPwdAAwsa-lFh9gbbh ; player = https://www.youtube.com/s/player/b46bb280/player_ias.vflset/en_US/base.js\n",
      "WARNING: [youtube] lAEoyjY8ieg: nsig extraction failed: You may experience throttling for some formats\n",
      "         n = l1OQDPIU5x5eK4DyFX4 ; player = https://www.youtube.com/s/player/b46bb280/player_ias.vflset/en_US/base.js\n"
     ]
    },
    {
     "name": "stdout",
     "output_type": "stream",
     "text": [
      "[youtube] lAEoyjY8ieg: Downloading m3u8 information\n",
      "treasure - move\n",
      "[youtube] Extracting URL: https://youtu.be/gWpUdXz57yk?si=pcpNWt50h3ihaCrt\n",
      "[youtube] gWpUdXz57yk: Downloading webpage\n",
      "[youtube] gWpUdXz57yk: Downloading ios player API JSON\n",
      "[youtube] gWpUdXz57yk: Downloading android player API JSON\n",
      "[youtube] gWpUdXz57yk: Downloading player 5fb5644b\n"
     ]
    },
    {
     "name": "stderr",
     "output_type": "stream",
     "text": [
      "WARNING: [youtube] gWpUdXz57yk: nsig extraction failed: You may experience throttling for some formats\n",
      "         n = _MjWDXLiQ5KexPjAC4E ; player = https://www.youtube.com/s/player/5fb5644b/player_ias.vflset/en_US/base.js\n",
      "WARNING: [youtube] gWpUdXz57yk: nsig extraction failed: You may experience throttling for some formats\n",
      "         n = heAP1zZGcV1FgfQQK8j ; player = https://www.youtube.com/s/player/5fb5644b/player_ias.vflset/en_US/base.js\n"
     ]
    },
    {
     "name": "stdout",
     "output_type": "stream",
     "text": [
      "[youtube] gWpUdXz57yk: Downloading m3u8 information\n",
      "p1harmony - scared\n",
      "[youtube] Extracting URL: https://youtu.be/38Z569-vGMY?si=pqeDd66tRwL35luk\n",
      "[youtube] 38Z569-vGMY: Downloading webpage\n",
      "[youtube] 38Z569-vGMY: Downloading ios player API JSON\n",
      "[youtube] 38Z569-vGMY: Downloading android player API JSON\n",
      "[youtube] 38Z569-vGMY: Downloading player b46bb280\n"
     ]
    },
    {
     "name": "stderr",
     "output_type": "stream",
     "text": [
      "WARNING: [youtube] 38Z569-vGMY: nsig extraction failed: You may experience throttling for some formats\n",
      "         n = AJn8NrLRMUCly6t-gIe ; player = https://www.youtube.com/s/player/b46bb280/player_ias.vflset/en_US/base.js\n",
      "WARNING: [youtube] 38Z569-vGMY: nsig extraction failed: You may experience throttling for some formats\n",
      "         n = ttCFj8Jxx7FFbbld2w0 ; player = https://www.youtube.com/s/player/b46bb280/player_ias.vflset/en_US/base.js\n"
     ]
    },
    {
     "name": "stdout",
     "output_type": "stream",
     "text": [
      "[youtube] 38Z569-vGMY: Downloading m3u8 information\n",
      "shinee - sherlockcluenote\n",
      "[youtube] Extracting URL: https://youtu.be/ehqVxQ7wzbY?si=NGNkzFrewl8Z5628\n",
      "[youtube] ehqVxQ7wzbY: Downloading webpage\n",
      "[youtube] ehqVxQ7wzbY: Downloading ios player API JSON\n",
      "[youtube] ehqVxQ7wzbY: Downloading android player API JSON\n",
      "[youtube] ehqVxQ7wzbY: Downloading player b46bb280\n"
     ]
    },
    {
     "name": "stderr",
     "output_type": "stream",
     "text": [
      "WARNING: [youtube] ehqVxQ7wzbY: nsig extraction failed: You may experience throttling for some formats\n",
      "         n = ZtFs0h35_Bp1WlZPEe3 ; player = https://www.youtube.com/s/player/b46bb280/player_ias.vflset/en_US/base.js\n",
      "WARNING: [youtube] ehqVxQ7wzbY: nsig extraction failed: You may experience throttling for some formats\n",
      "         n = _JlBH8Fp6aHOKIuGmsr ; player = https://www.youtube.com/s/player/b46bb280/player_ias.vflset/en_US/base.js\n"
     ]
    },
    {
     "name": "stdout",
     "output_type": "stream",
     "text": [
      "[youtube] ehqVxQ7wzbY: Downloading m3u8 information\n",
      "twice - doughnut\n",
      "[youtube] Extracting URL: https://youtu.be/-8B91PS6thk?si=HuoGTk2uL72hEvp7\n",
      "[youtube] -8B91PS6thk: Downloading webpage\n",
      "[youtube] -8B91PS6thk: Downloading ios player API JSON\n",
      "[youtube] -8B91PS6thk: Downloading android player API JSON\n",
      "[youtube] -8B91PS6thk: Downloading player 5fb5644b\n"
     ]
    },
    {
     "name": "stderr",
     "output_type": "stream",
     "text": [
      "WARNING: [youtube] -8B91PS6thk: nsig extraction failed: You may experience throttling for some formats\n",
      "         n = 7gddSZcWj1fsm3Oyu8R ; player = https://www.youtube.com/s/player/5fb5644b/player_ias.vflset/en_US/base.js\n",
      "WARNING: [youtube] -8B91PS6thk: nsig extraction failed: You may experience throttling for some formats\n",
      "         n = 1jGigKpxoe7MNeuRZ-3 ; player = https://www.youtube.com/s/player/5fb5644b/player_ias.vflset/en_US/base.js\n"
     ]
    },
    {
     "name": "stdout",
     "output_type": "stream",
     "text": [
      "[youtube] -8B91PS6thk: Downloading m3u8 information\n",
      "twice - gohard\n",
      "[youtube] Extracting URL: https://youtu.be/WNVgdbpNGEk?si=rSy3jlkhvWcveE2R\n",
      "[youtube] WNVgdbpNGEk: Downloading webpage\n",
      "[youtube] WNVgdbpNGEk: Downloading ios player API JSON\n",
      "[youtube] WNVgdbpNGEk: Downloading android player API JSON\n",
      "[youtube] WNVgdbpNGEk: Downloading player b46bb280\n"
     ]
    },
    {
     "name": "stderr",
     "output_type": "stream",
     "text": [
      "WARNING: [youtube] WNVgdbpNGEk: nsig extraction failed: You may experience throttling for some formats\n",
      "         n = kNuce-xgyR9QJ9ODJOc ; player = https://www.youtube.com/s/player/b46bb280/player_ias.vflset/en_US/base.js\n",
      "WARNING: [youtube] WNVgdbpNGEk: nsig extraction failed: You may experience throttling for some formats\n",
      "         n = _tEH-_qwmvKKiALRiRY ; player = https://www.youtube.com/s/player/b46bb280/player_ias.vflset/en_US/base.js\n"
     ]
    },
    {
     "name": "stdout",
     "output_type": "stream",
     "text": [
      "[youtube] WNVgdbpNGEk: Downloading m3u8 information\n",
      "gidle - tomboy\n",
      "[youtube] Extracting URL: https://youtu.be/t4obv0Arf2c?si=sCr8aDvOeJ2iVND-\n",
      "[youtube] t4obv0Arf2c: Downloading webpage\n",
      "[youtube] t4obv0Arf2c: Downloading ios player API JSON\n",
      "[youtube] t4obv0Arf2c: Downloading android player API JSON\n",
      "[youtube] t4obv0Arf2c: Downloading player b46bb280\n"
     ]
    },
    {
     "name": "stderr",
     "output_type": "stream",
     "text": [
      "WARNING: [youtube] t4obv0Arf2c: nsig extraction failed: You may experience throttling for some formats\n",
      "         n = W1vZ4raIEu3oSeI46ZO ; player = https://www.youtube.com/s/player/b46bb280/player_ias.vflset/en_US/base.js\n",
      "WARNING: [youtube] t4obv0Arf2c: nsig extraction failed: You may experience throttling for some formats\n",
      "         n = VNgB--ryJELGdwJpifF ; player = https://www.youtube.com/s/player/b46bb280/player_ias.vflset/en_US/base.js\n"
     ]
    },
    {
     "name": "stdout",
     "output_type": "stream",
     "text": [
      "[youtube] t4obv0Arf2c: Downloading m3u8 information\n",
      "nctdream - boom\n",
      "[youtube] Extracting URL: https://youtu.be/bTJkioQKXQA?si=CKsXTT5D6E2ZyD8h\n",
      "[youtube] bTJkioQKXQA: Downloading webpage\n",
      "[youtube] bTJkioQKXQA: Downloading ios player API JSON\n",
      "[youtube] bTJkioQKXQA: Downloading android player API JSON\n",
      "[youtube] bTJkioQKXQA: Downloading player b46bb280\n"
     ]
    },
    {
     "name": "stderr",
     "output_type": "stream",
     "text": [
      "WARNING: [youtube] bTJkioQKXQA: nsig extraction failed: You may experience throttling for some formats\n",
      "         n = JtlnTfEiO5U7vAuqZpK ; player = https://www.youtube.com/s/player/b46bb280/player_ias.vflset/en_US/base.js\n",
      "WARNING: [youtube] bTJkioQKXQA: nsig extraction failed: You may experience throttling for some formats\n",
      "         n = 81HEgyN4RNBcNurziWz ; player = https://www.youtube.com/s/player/b46bb280/player_ias.vflset/en_US/base.js\n"
     ]
    },
    {
     "name": "stdout",
     "output_type": "stream",
     "text": [
      "[youtube] bTJkioQKXQA: Downloading m3u8 information\n",
      "mytro - bombbombbomb\n",
      "[youtube] Extracting URL: https://youtu.be/x3Qo7XkvaqU?si=eWawXvJZWKv9f9G8\n",
      "[youtube] x3Qo7XkvaqU: Downloading webpage\n",
      "[youtube] x3Qo7XkvaqU: Downloading ios player API JSON\n",
      "[youtube] x3Qo7XkvaqU: Downloading android player API JSON\n",
      "[youtube] x3Qo7XkvaqU: Downloading player b46bb280\n"
     ]
    },
    {
     "name": "stderr",
     "output_type": "stream",
     "text": [
      "WARNING: [youtube] x3Qo7XkvaqU: nsig extraction failed: You may experience throttling for some formats\n",
      "         n = Ftpkcg-mFS06Wn9f83- ; player = https://www.youtube.com/s/player/b46bb280/player_ias.vflset/en_US/base.js\n",
      "WARNING: [youtube] x3Qo7XkvaqU: nsig extraction failed: You may experience throttling for some formats\n",
      "         n = aNnZcqqzbtaRfZI8fVE ; player = https://www.youtube.com/s/player/b46bb280/player_ias.vflset/en_US/base.js\n"
     ]
    },
    {
     "name": "stdout",
     "output_type": "stream",
     "text": [
      "[youtube] x3Qo7XkvaqU: Downloading m3u8 information\n",
      "tws - lastfestival\n",
      "[youtube] Extracting URL: https://youtu.be/OvWr2RVnCXE?si=mtTVirE-IpOML0T3\n",
      "[youtube] OvWr2RVnCXE: Downloading webpage\n",
      "[youtube] OvWr2RVnCXE: Downloading ios player API JSON\n",
      "[youtube] OvWr2RVnCXE: Downloading android player API JSON\n",
      "[youtube] OvWr2RVnCXE: Downloading player b46bb280\n"
     ]
    },
    {
     "name": "stderr",
     "output_type": "stream",
     "text": [
      "WARNING: [youtube] OvWr2RVnCXE: nsig extraction failed: You may experience throttling for some formats\n",
      "         n = L1hHvtQtaWqqtV2wJ9l ; player = https://www.youtube.com/s/player/b46bb280/player_ias.vflset/en_US/base.js\n",
      "WARNING: [youtube] OvWr2RVnCXE: nsig extraction failed: You may experience throttling for some formats\n",
      "         n = yJS375vPQfJmvjgrlje ; player = https://www.youtube.com/s/player/b46bb280/player_ias.vflset/en_US/base.js\n"
     ]
    },
    {
     "name": "stdout",
     "output_type": "stream",
     "text": [
      "[youtube] OvWr2RVnCXE: Downloading m3u8 information\n",
      "dalshabet - someonelikeu\n",
      "[youtube] Extracting URL: https://youtu.be/wCDYazlmzQs?si=LI-jCiVkWu6tqicr\n",
      "[youtube] wCDYazlmzQs: Downloading webpage\n",
      "[youtube] wCDYazlmzQs: Downloading ios player API JSON\n",
      "[youtube] wCDYazlmzQs: Downloading android player API JSON\n",
      "[youtube] wCDYazlmzQs: Downloading player 5fb5644b\n"
     ]
    },
    {
     "name": "stderr",
     "output_type": "stream",
     "text": [
      "WARNING: [youtube] wCDYazlmzQs: nsig extraction failed: You may experience throttling for some formats\n",
      "         n = DwSA30OYBA6NQ6TMMYF ; player = https://www.youtube.com/s/player/5fb5644b/player_ias.vflset/en_US/base.js\n",
      "WARNING: [youtube] wCDYazlmzQs: nsig extraction failed: You may experience throttling for some formats\n",
      "         n = t9a_bMwP4CaIrspoUe8 ; player = https://www.youtube.com/s/player/5fb5644b/player_ias.vflset/en_US/base.js\n"
     ]
    },
    {
     "name": "stdout",
     "output_type": "stream",
     "text": [
      "[youtube] wCDYazlmzQs: Downloading m3u8 information\n",
      "badvillain - 82\n",
      "[youtube] Extracting URL: https://youtu.be/euzwhRGdcfQ\n",
      "[youtube] euzwhRGdcfQ: Downloading webpage\n",
      "[youtube] euzwhRGdcfQ: Downloading ios player API JSON\n",
      "[youtube] euzwhRGdcfQ: Downloading android player API JSON\n",
      "[youtube] euzwhRGdcfQ: Downloading player b46bb280\n"
     ]
    },
    {
     "name": "stderr",
     "output_type": "stream",
     "text": [
      "WARNING: [youtube] euzwhRGdcfQ: nsig extraction failed: You may experience throttling for some formats\n",
      "         n = Yt78HCVeqKK90I1WbsR ; player = https://www.youtube.com/s/player/b46bb280/player_ias.vflset/en_US/base.js\n",
      "WARNING: [youtube] euzwhRGdcfQ: nsig extraction failed: You may experience throttling for some formats\n",
      "         n = bNDdPvvyj6qnBA44l29 ; player = https://www.youtube.com/s/player/b46bb280/player_ias.vflset/en_US/base.js\n"
     ]
    },
    {
     "name": "stdout",
     "output_type": "stream",
     "text": [
      "[youtube] euzwhRGdcfQ: Downloading m3u8 information\n",
      "winteraespa - spark\n",
      "[youtube] Extracting URL: https://youtu.be/JrQxqQ7QThw?si=KFRSlTo2o6S3XaN3\n",
      "[youtube] JrQxqQ7QThw: Downloading webpage\n",
      "[youtube] JrQxqQ7QThw: Downloading ios player API JSON\n",
      "[youtube] JrQxqQ7QThw: Downloading android player API JSON\n",
      "[youtube] JrQxqQ7QThw: Downloading player b46bb280\n"
     ]
    },
    {
     "name": "stderr",
     "output_type": "stream",
     "text": [
      "WARNING: [youtube] JrQxqQ7QThw: nsig extraction failed: You may experience throttling for some formats\n",
      "         n = Bt0QIdqm_0v1p-joIXz ; player = https://www.youtube.com/s/player/b46bb280/player_ias.vflset/en_US/base.js\n",
      "WARNING: [youtube] JrQxqQ7QThw: nsig extraction failed: You may experience throttling for some formats\n",
      "         n = wtWeZZX8H-IN8FMqYst ; player = https://www.youtube.com/s/player/b46bb280/player_ias.vflset/en_US/base.js\n"
     ]
    },
    {
     "name": "stdout",
     "output_type": "stream",
     "text": [
      "[youtube] JrQxqQ7QThw: Downloading m3u8 information\n",
      "viviz - shhh\n",
      "[youtube] Extracting URL: https://youtu.be/EiAELzg7btM?si=QBFIwsC7Rfywm99j\n",
      "[youtube] EiAELzg7btM: Downloading webpage\n",
      "[youtube] EiAELzg7btM: Downloading ios player API JSON\n",
      "[youtube] EiAELzg7btM: Downloading android player API JSON\n",
      "[youtube] EiAELzg7btM: Downloading player 5fb5644b\n"
     ]
    },
    {
     "name": "stderr",
     "output_type": "stream",
     "text": [
      "WARNING: [youtube] EiAELzg7btM: nsig extraction failed: You may experience throttling for some formats\n",
      "         n = 6i_x0kXgSWbudAMwH_P ; player = https://www.youtube.com/s/player/5fb5644b/player_ias.vflset/en_US/base.js\n",
      "WARNING: [youtube] EiAELzg7btM: nsig extraction failed: You may experience throttling for some formats\n",
      "         n = 3xiqqW9SLii_hxHflxi ; player = https://www.youtube.com/s/player/5fb5644b/player_ias.vflset/en_US/base.js\n"
     ]
    },
    {
     "name": "stdout",
     "output_type": "stream",
     "text": [
      "[youtube] EiAELzg7btM: Downloading m3u8 information\n",
      "seulgi - 28reasons\n",
      "[youtube] Extracting URL: https://youtu.be/Z_MW8lPTgM8?si=eJA8znArYbi-g-u_\n",
      "[youtube] Z_MW8lPTgM8: Downloading webpage\n",
      "[youtube] Z_MW8lPTgM8: Downloading ios player API JSON\n",
      "[youtube] Z_MW8lPTgM8: Downloading android player API JSON\n",
      "[youtube] Z_MW8lPTgM8: Downloading player b46bb280\n"
     ]
    },
    {
     "name": "stderr",
     "output_type": "stream",
     "text": [
      "WARNING: [youtube] Z_MW8lPTgM8: nsig extraction failed: You may experience throttling for some formats\n",
      "         n = f1n0NiSY1vQdJaF1A86 ; player = https://www.youtube.com/s/player/b46bb280/player_ias.vflset/en_US/base.js\n",
      "WARNING: [youtube] Z_MW8lPTgM8: nsig extraction failed: You may experience throttling for some formats\n",
      "         n = eJMOh4XXHdTVWRYwYsa ; player = https://www.youtube.com/s/player/b46bb280/player_ias.vflset/en_US/base.js\n"
     ]
    },
    {
     "name": "stdout",
     "output_type": "stream",
     "text": [
      "[youtube] Z_MW8lPTgM8: Downloading m3u8 information\n",
      "enhypen - criminallove\n",
      "[youtube] Extracting URL: https://youtu.be/Mw3yd6QAGKI?si=3j2NkJ6_oBbSAMXV\n",
      "[youtube] Mw3yd6QAGKI: Downloading webpage\n",
      "[youtube] Mw3yd6QAGKI: Downloading ios player API JSON\n",
      "[youtube] Mw3yd6QAGKI: Downloading android player API JSON\n",
      "[youtube] Mw3yd6QAGKI: Downloading player b46bb280\n"
     ]
    },
    {
     "name": "stderr",
     "output_type": "stream",
     "text": [
      "WARNING: [youtube] Mw3yd6QAGKI: nsig extraction failed: You may experience throttling for some formats\n",
      "         n = 0t6ex17C1R-wa5brvQV ; player = https://www.youtube.com/s/player/b46bb280/player_ias.vflset/en_US/base.js\n",
      "WARNING: [youtube] Mw3yd6QAGKI: nsig extraction failed: You may experience throttling for some formats\n",
      "         n = o1402aaJ9S47bG-aXse ; player = https://www.youtube.com/s/player/b46bb280/player_ias.vflset/en_US/base.js\n"
     ]
    },
    {
     "name": "stdout",
     "output_type": "stream",
     "text": [
      "[youtube] Mw3yd6QAGKI: Downloading m3u8 information\n",
      "kingdom - longlivetheking\n",
      "[youtube] Extracting URL: https://youtu.be/iEAnRJlo0Xg?si=SgN-Li42H2bMGUtq\n",
      "[youtube] iEAnRJlo0Xg: Downloading webpage\n",
      "[youtube] iEAnRJlo0Xg: Downloading ios player API JSON\n",
      "[youtube] iEAnRJlo0Xg: Downloading android player API JSON\n",
      "[youtube] iEAnRJlo0Xg: Downloading player b46bb280\n"
     ]
    },
    {
     "name": "stderr",
     "output_type": "stream",
     "text": [
      "WARNING: [youtube] iEAnRJlo0Xg: nsig extraction failed: You may experience throttling for some formats\n",
      "         n = MtQJ84AazB3lGnvVK7t ; player = https://www.youtube.com/s/player/b46bb280/player_ias.vflset/en_US/base.js\n",
      "WARNING: [youtube] iEAnRJlo0Xg: nsig extraction failed: You may experience throttling for some formats\n",
      "         n = O1y5qlnTYlI3mc-d_oc ; player = https://www.youtube.com/s/player/b46bb280/player_ias.vflset/en_US/base.js\n"
     ]
    },
    {
     "name": "stdout",
     "output_type": "stream",
     "text": [
      "[youtube] iEAnRJlo0Xg: Downloading m3u8 information\n",
      "browneyedgirls - abracadabra\n",
      "[youtube] Extracting URL: https://www.youtube.com/watch?v=dWsWbd7xauA\n",
      "[youtube] dWsWbd7xauA: Downloading webpage\n",
      "[youtube] dWsWbd7xauA: Downloading ios player API JSON\n",
      "[youtube] dWsWbd7xauA: Downloading android player API JSON\n",
      "[youtube] dWsWbd7xauA: Downloading player b46bb280\n"
     ]
    },
    {
     "name": "stderr",
     "output_type": "stream",
     "text": [
      "WARNING: [youtube] dWsWbd7xauA: nsig extraction failed: You may experience throttling for some formats\n",
      "         n = Tt59td1zp1N9Do7e-fA ; player = https://www.youtube.com/s/player/b46bb280/player_ias.vflset/en_US/base.js\n",
      "WARNING: [youtube] dWsWbd7xauA: nsig extraction failed: You may experience throttling for some formats\n",
      "         n = 6JDzkzpsvzMGpNurjb2 ; player = https://www.youtube.com/s/player/b46bb280/player_ias.vflset/en_US/base.js\n"
     ]
    },
    {
     "name": "stdout",
     "output_type": "stream",
     "text": [
      "[youtube] dWsWbd7xauA: Downloading m3u8 information\n",
      "taeyang - ringalinga\n",
      "[youtube] Extracting URL: https://youtu.be/bpJJNjEBcxg?si=_8Gx_uFwciKLKYBV\n",
      "[youtube] bpJJNjEBcxg: Downloading webpage\n",
      "[youtube] bpJJNjEBcxg: Downloading ios player API JSON\n",
      "[youtube] bpJJNjEBcxg: Downloading android player API JSON\n",
      "[youtube] bpJJNjEBcxg: Downloading player b46bb280\n"
     ]
    },
    {
     "name": "stderr",
     "output_type": "stream",
     "text": [
      "WARNING: [youtube] bpJJNjEBcxg: nsig extraction failed: You may experience throttling for some formats\n",
      "         n = YtXhr4DHQqvYomyq88B ; player = https://www.youtube.com/s/player/b46bb280/player_ias.vflset/en_US/base.js\n",
      "WARNING: [youtube] bpJJNjEBcxg: nsig extraction failed: You may experience throttling for some formats\n",
      "         n = yNiNdqiGg_kb08oLtUG ; player = https://www.youtube.com/s/player/b46bb280/player_ias.vflset/en_US/base.js\n"
     ]
    },
    {
     "name": "stdout",
     "output_type": "stream",
     "text": [
      "[youtube] bpJJNjEBcxg: Downloading m3u8 information\n"
     ]
    }
   ],
   "source": [
    "# Kontrolliert, ob YT Video mit Titel und Artist übereinstimmen\n",
    "count = 0\n",
    "csv_export = []\n",
    "for yt_video in song_wish:\n",
    "\n",
    "    count += 1\n",
    "\n",
    "    search_title1 = ''.join(e for e in str(yt_video[\"Title1\"]) if e.isalnum()).lower()\n",
    "    #search_title2 = ''.join(e for e in str(yt_video[\"Title2\"]) if e.isalnum()).lower()\n",
    "    search_artist1 = ''.join(e for e in str(yt_video[\"Artist1\"]) if e.isalnum()).lower()\n",
    "    #search_artist2 = ''.join(e for e in str(yt_video[\"Artist2\"]) if e.isalnum()).lower()\n",
    "\n",
    "    print(f\"{search_artist1} - {search_title1}\")\n",
    "\n",
    "    ydl_opts = {}\n",
    "    with yt_dlp.YoutubeDL(ydl_opts) as ydl:\n",
    "        info = ydl.extract_info(yt_video[\"YTURL1\"], download=False)\n",
    "\n",
    "        # ℹ️ ydl.sanitize_info makes the info json-serializable\n",
    "        yt_title1 = str(info['title'])\n",
    "        search_string1 = ''.join(e for e in yt_title1 if e.isalnum()).lower()\n",
    "\n",
    "    '''\n",
    "    print(f\"{search_artist2} - {search_title2}\")\n",
    "\n",
    "    with yt_dlp.YoutubeDL(ydl_opts) as ydl:\n",
    "        info = ydl.extract_info(yt_video[\"YTURL2\"], download=False)\n",
    "\n",
    "        # ℹ️ ydl.sanitize_info makes the info json-serializable\n",
    "        yt_title2 = str(info['title'])\n",
    "        search_string2 = ''.join(e for e in yt_title2 if e.isalnum()).lower()\n",
    "    '''\n",
    "    length1 = (yt_video[\"EndTimestamp1\"].hour * 60 + yt_video[\"EndTimestamp1\"].minute) - (yt_video[\"StartTimestamp1\"].hour * 60 + yt_video[\"StartTimestamp1\"].minute)\n",
    "    #length2 = (yt_video[\"EndTimestamp2\"].hour * 60 + yt_video[\"EndTimestamp2\"].minute) - (yt_video[\"StartTimestamp2\"].hour * 60 + yt_video[\"StartTimestamp2\"].minute)\n",
    "\n",
    "    all_valid = True\n",
    "\n",
    "    msg = \"\"\n",
    "    msg2 = \"\"\n",
    "    errors = \"\"\n",
    "\n",
    "    if \"Deutsch\" in yt_video[\"Language\"]:\n",
    "        msg = f\"\"\"Hallo {yt_video[\"Instagram\"]}! Hier ist Long vom RDG Stuttgart!\n",
    "\n",
    "Vielen Dank für deinen Songwunsch!\n",
    "\n",
    "Dein Songwunsch ist einer der ersten 50 Wünsche.\n",
    "\n",
    "Songwunsch 1 ({yt_video[\"Artist1\"]} - {yt_video[\"Title1\"]}):\n",
    "\"\"\"\n",
    "    elif \"English\" in yt_video[\"Language\"]:\n",
    "        msg = f\"\"\"Hello {yt_video[\"Instagram\"]}! This is Long from RDG Stuttgart!\n",
    "\n",
    "Thank you for your song request!\n",
    "\n",
    "Your song request is one of the first 50 requests.\n",
    "\n",
    "Song request 1 ({yt_video[\"Artist1\"]} - {yt_video[\"Title1\"]}):\n",
    "\"\"\"\n",
    "\n",
    "    if search_title1 not in search_string1:\n",
    "        errors += \"Song1_Title \"\n",
    "        if \"Deutsch\" in yt_video[\"Language\"]:\n",
    "            msg += f\"\"\"Der eingetragene Titel ({yt_video[\"Title1\"]}) ist nicht im Titel des YT-Videos ({yt_title1}) zu finden.\n",
    "\n",
    "\"\"\"\n",
    "        elif \"English\" in yt_video[\"Language\"]:\n",
    "            msg += f\"\"\"The entered title ({yt_video[\"Title1\"]}) cannot be found in the title of the YT video ({yt_title1}).\n",
    "\n",
    "\"\"\"\n",
    "\n",
    "    if search_artist1 not in search_string1:\n",
    "        errors += \"Song1_Artist \"\n",
    "        if \"Deutsch\" in yt_video[\"Language\"]:\n",
    "            msg += f\"\"\"Der eingetragene Künstler ({yt_video[\"Artist1\"]}) ist nicht im Titel des YT-Videos ({yt_title1}) zu finden.\n",
    "\n",
    "\"\"\"\n",
    "        elif \"English\" in yt_video[\"Language\"]:\n",
    "            msg += f\"\"\"The registered artist ({yt_video[\"Artist1\"]}) cannot be found in the title of the YT video ({yt_title1}).\n",
    "\n",
    "\"\"\"\n",
    "        \n",
    "    if \"lyric\" not in search_string1 and \"hanromeng\" not in search_string1 and \"colorcoded\" not in search_string1:\n",
    "        errors += \"Song1_LyricVideo \"\n",
    "        if \"Deutsch\" in yt_video[\"Language\"]:\n",
    "            msg += f\"\"\"Das eingereichte YT-Video ({yt_title1}) ist kein Lyric Video.\n",
    "\n",
    "\"\"\"\n",
    "        elif \"English\" in yt_video[\"Language\"]:\n",
    "            msg += f\"\"\"The submitted YT video ({yt_title1}) is not a lyric video.\n",
    "\n",
    "\"\"\"\n",
    "        \n",
    "    if length1 > 90:\n",
    "        errors += \"Song1_90Seconds \"\n",
    "        if \"Deutsch\" in yt_video[\"Language\"]:\n",
    "            msg += f\"\"\"Dein Songwunsch ist länger als 90 Sekunden. ({length1} Sekunden)\n",
    "\n",
    "\"\"\"\n",
    "        elif \"English\" in yt_video[\"Language\"]:\n",
    "            msg += f\"\"\"Your song request is longer than 90 seconds. ({length1} seconds)\n",
    "\n",
    "\"\"\"\n",
    "\n",
    "    if search_title1 in search_string1 and search_artist1 in search_string1 and (\"lyric\" in search_string1 or \"hanromeng\" in search_string1 or \"colorcoded\" in search_string1) and length1 <= 90:\n",
    "        if \"Deutsch\" in yt_video[\"Language\"]:\n",
    "            msg += f\"\"\"Die Angaben sind gültig.\n",
    "\"\"\"\n",
    "        elif \"English\" in yt_video[\"Language\"]:\n",
    "            msg += f\"\"\"This Song request is valid.\n",
    "\"\"\"\n",
    "    else:\n",
    "        all_valid = False\n",
    "\n",
    "    '''\n",
    "\n",
    "    if \"Deutsch\" in yt_video[\"Language\"]:\n",
    "        msg2 = f\"\"\"Songwunsch 2:\n",
    "\"\"\"\n",
    "    elif \"English\" in yt_video[\"Language\"]:\n",
    "        msg2 = f\"\"\"Song request 2:\n",
    "\"\"\"\n",
    "\n",
    "\n",
    "    if search_title2 not in search_string2:\n",
    "        errors += \"Song2_Title \"\n",
    "        if \"Deutsch\" in yt_video[\"Language\"]:\n",
    "            msg2 += f\"\"\"Der eingetragene Titel ({yt_video[\"Title2\"]}) ist nicht im Titel des YT-Videos ({yt_title2}) zu finden.\n",
    "\n",
    "\"\"\"\n",
    "        elif \"English\" in yt_video[\"Language\"]:\n",
    "            msg2 += f\"\"\"The entered title ({yt_video[\"Title2\"]}) cannot be found in the title of the YT video ({yt_title2}).\n",
    "\n",
    "\"\"\"\n",
    "\n",
    "    if search_artist2 not in search_string2:\n",
    "        errors += \"Song2_Artist \"\n",
    "        if \"Deutsch\" in yt_video[\"Language\"]:\n",
    "            msg2 += f\"\"\"Der eingetragene Künstler ({yt_video[\"Artist2\"]}) ist nicht im Titel des YT-Videos ({yt_title2}) zu finden.\n",
    "\n",
    "\"\"\"\n",
    "        elif \"English\" in yt_video[\"Language\"]:\n",
    "            msg2 += f\"\"\"The registered artist ({yt_video[\"Artist2\"]}) cannot be found in the title of the YT video ({yt_title2}).\n",
    "\n",
    "\"\"\"\n",
    "        \n",
    "    if \"lyric\" not in search_string2 and \"hanromeng\" not in search_string2 and \"colorcoded\" not in search_string2:\n",
    "        errors += \"Song2_LyricVideo \"\n",
    "        if \"Deutsch\" in yt_video[\"Language\"]:\n",
    "            msg2 += f\"\"\"Das eingereichte YT-Video ({yt_title2}) ist kein Lyric Video.\n",
    "\n",
    "\"\"\"\n",
    "        elif \"English\" in yt_video[\"Language\"]:\n",
    "            msg2 += f\"\"\"The submitted YT video ({yt_title2}) is not a lyric video.\n",
    "\n",
    "\"\"\"\n",
    "        \n",
    "    if length2 > 90:\n",
    "        errors += \"Song2_90Seconds \"\n",
    "        if \"Deutsch\" in yt_video[\"Language\"]:\n",
    "            msg2 += f\"\"\"Dein Songwunsch ist länger als 90 Sekunden. ({length2} Sekunden)\n",
    "\n",
    "\"\"\"\n",
    "        elif \"English\" in yt_video[\"Language\"]:\n",
    "            msg2 += f\"\"\"Your song request is longer than 90 seconds. ({length2} seconds)\n",
    "\n",
    "\"\"\"\n",
    "\n",
    "    if search_title2 in search_string2 and search_artist2 in search_string2 and (\"lyric\" in search_string2 or \"hanromeng\" in search_string2 or \"colorcoded\" in search_string2) and length2 <= 90:\n",
    "        if \"Deutsch\" in yt_video[\"Language\"]:\n",
    "            msg2 += f\"\"\"Die Angaben sind gültig.\n",
    "\"\"\"\n",
    "        elif \"English\" in yt_video[\"Language\"]:\n",
    "            msg2 += f\"\"\"This Song request is valid.\n",
    "\"\"\"\n",
    "    else:\n",
    "        all_valid = False\n",
    "    '''\n",
    "    \n",
    "    if \"Deutsch\" in yt_video[\"Language\"]:\n",
    "        msg2 = f\"\"\"Songwunsch 2:\n",
    "Wie in den überarbeiteten Regeln aufgeführt, wird der zweite Songwunsch der ersten 50 Anfragen NICHT mehr garantiert in die Playlist aufgenommen. \n",
    "Stattdessen wird er in den Pool aufgenommen, in den auch alle Songwünsche ab der 51. Anfrage gelangen.\n",
    "\"\"\"\n",
    "    elif \"English\" in yt_video[\"Language\"]:\n",
    "        msg2 = f\"\"\"Song request 2:\n",
    "As stated in the updated rules, the second song request of the first 50 requests is no longer guaranteed to be included in the playlist. \n",
    "Instead, it will be added to the pool, which will also include all song requests from the 51st request onwards.\n",
    "\"\"\"\n",
    "\n",
    "    '''\n",
    "    if all_valid is True:\n",
    "        if \"Deutsch\" in yt_video[\"Language\"]:\n",
    "            msg2 += f\"\"\"\n",
    "Beide deine Songwünsche sind gültig.\n",
    "Bitte antworte auf diese Nachricht, damit deine Songs auf die Playlist aufgenommen werden!\"\"\"\n",
    "        elif \"English\" in yt_video[\"Language\"]:\n",
    "            msg2 += f\"\"\"\n",
    "Both of your song requests are valid.\n",
    "Please reply to this message so that your songs can be added to the playlist!\"\"\"\n",
    "    else:\n",
    "        if \"Deutsch\" in yt_video[\"Language\"]:\n",
    "            msg2 += f\"\"\"\n",
    "Mindestens einer deiner Songwünsche ist leider fehlerhaft.\n",
    "\n",
    "Du kannst die fehlerhaften Songwünsche beim Songwunsch-Formular noch korrigieren: https://forms.gle/BMttuM5bcEehvsc87\n",
    "\n",
    "Wenn dein Songwunsch nach 7 Tagen immer noch ungültig ist, wird diese NICHT in die Playlist aufgenommen.\n",
    "\n",
    "Wenn deine Songwünsche alle Regeln erfüllen, aber trotzdem als ungültig aufgezählt werden, kannst du gerne auf diese Nachricht antworten.\"\"\"\n",
    "        elif \"English\" in yt_video[\"Language\"]:\n",
    "            msg2 += f\"\"\"\n",
    "At least one of your song requests is unfortunately incorrect.\n",
    "\n",
    "You can still correct the incorrect song requests in the song request form: https://forms.gle/BMttuM5bcEehvsc87\n",
    "\n",
    "If your song request is still invalid after 7 days, it will NOT be included in the playlist.\n",
    "\n",
    "If your song requests fulfill all the rules but are still listed as invalid, you are welcome to reply to this message.\"\"\"\n",
    "\n",
    "    '''\n",
    "\n",
    "    if all_valid is True:\n",
    "        if \"Deutsch\" in yt_video[\"Language\"]:\n",
    "            msg2 += f\"\"\"\n",
    "Bitte antworte auf diese Nachricht, damit dein Song auf die Playlist aufgenommen wird!\"\"\"\n",
    "        elif \"English\" in yt_video[\"Language\"]:\n",
    "            msg2 += f\"\"\"\n",
    "Please reply to this message so that your song can be added to the playlist!\"\"\"\n",
    "    else:\n",
    "        if \"Deutsch\" in yt_video[\"Language\"]:\n",
    "            msg2 += f\"\"\"\n",
    "Dein garantierter Songwunsch ist leider fehlerhaft.\n",
    "\n",
    "Du kannst den fehlerhaften Songwunsch beim Songwunsch-Formular noch korrigieren: https://forms.gle/BMttuM5bcEehvsc87\n",
    "\n",
    "Wenn dein Songwunsch nach 7 Tagen immer noch ungültig ist, wird diese NICHT in die Playlist aufgenommen.\n",
    "\n",
    "Wenn dein Songwunsch alle Regeln erfüllen, aber trotzdem als ungültig aufgezählt wird, kannst du gerne auf diese Nachricht antworten.\"\"\"\n",
    "        elif \"English\" in yt_video[\"Language\"]:\n",
    "            msg2 += f\"\"\"\n",
    "Your guaranteed song requests is unfortunately incorrect.\n",
    "\n",
    "You can still correct the incorrect song request in the song request form: https://forms.gle/BMttuM5bcEehvsc87\n",
    "\n",
    "If your song request is still invalid after 7 days, it will NOT be included in the playlist.\n",
    "\n",
    "If your song request fulfill all the rules but are still listed as invalid, you are welcome to reply to this message.\"\"\"\n",
    "\n",
    "\n",
    "    ig_phonenumber = \"\"\n",
    "    if yt_video[\"Instagram\"] != \"\":\n",
    "        ig_phonenumber = yt_video[\"InstagramProfileURL\"]\n",
    "    else:\n",
    "        ig_phonenumber = yt_video[\"WhatsAppURL\"]\n",
    "\n",
    "    csv_export.append({\n",
    "        \"AllValid\": all_valid,\n",
    "        \"Errors\": errors,\n",
    "        \"Communication\": yt_video[\"PreferredCommunication\"],\n",
    "        \"IG/PhoneNumber\": ig_phonenumber,\n",
    "        \"Message\": msg,\n",
    "        \"Message2\": msg2\n",
    "    })\n",
    "    \n",
    "\n",
    "    "
   ]
  },
  {
   "cell_type": "code",
   "execution_count": 8,
   "metadata": {},
   "outputs": [],
   "source": [
    "df = pandas.DataFrame(data=csv_export)\n",
    "# df = (df.T)\n",
    "df.to_excel('dict1.xlsx')"
   ]
  },
  {
   "cell_type": "code",
   "execution_count": null,
   "metadata": {},
   "outputs": [],
   "source": []
  }
 ],
 "metadata": {
  "kernelspec": {
   "display_name": ".venv",
   "language": "python",
   "name": "python3"
  },
  "language_info": {
   "codemirror_mode": {
    "name": "ipython",
    "version": 3
   },
   "file_extension": ".py",
   "mimetype": "text/x-python",
   "name": "python",
   "nbconvert_exporter": "python",
   "pygments_lexer": "ipython3",
   "version": "3.11.3"
  }
 },
 "nbformat": 4,
 "nbformat_minor": 2
}
