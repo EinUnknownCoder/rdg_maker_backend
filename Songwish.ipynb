{
 "cells": [
  {
   "cell_type": "code",
   "execution_count": 7,
   "metadata": {},
   "outputs": [],
   "source": [
    "from openpyxl import load_workbook\n",
    "import yt_dlp\n",
    "import pandas"
   ]
  },
  {
   "cell_type": "code",
   "execution_count": 8,
   "metadata": {},
   "outputs": [
    {
     "name": "stdout",
     "output_type": "stream",
     "text": [
      "{'SubmitDateTime': datetime.datetime(2024, 3, 8, 20, 1, 46), 'Mail': 'ilaydaerbil0@gmail.com', 'Language': '🇩🇪 Deutsch', 'PreferredCommunication': 'Instagram', 'Instagram': 'ilosch_stgt', 'InstagramProfileURL': 'https://www.instagram.com/ilosch_stgt/', 'WhatsApp': '', 'WhatsAppURL': '', 'FurtherContact': None, 'YTURL1': 'https://youtu.be/L8lnkNBoEI8?si=4d2rSL0rK0-GcSop', 'Artist1': 'Kep1er', 'Title1': 'Problem', 'Part1': 'Chorus 1', 'StartTimestamp1': datetime.time(0, 45), 'EndTimestamp1': datetime.time(1, 15), 'Additional1': None, 'YTURL2': 'https://youtu.be/GS44Qxh8yzU?si=gho7OrZKp_Ft2RMU', 'Artist2': 'Kiss of life', 'Title2': 'Sticky', 'Part2': 'Chorus 1', 'StartTimestamp2': datetime.time(0, 30), 'EndTimestamp2': datetime.time(1, 0), 'Additional2': None}\n",
      "{'SubmitDateTime': datetime.datetime(2024, 3, 8, 20, 2, 7), 'Mail': 'canigliamaria44@gmail.com', 'Language': '🇩🇪 Deutsch', 'PreferredCommunication': 'Instagram', 'Instagram': 'mariac_caniglia', 'InstagramProfileURL': 'https://www.instagram.com/mariac_caniglia/', 'WhatsApp': '', 'WhatsAppURL': '', 'FurtherContact': None, 'YTURL1': 'https://youtu.be/hXa_iautETc?si=e24dpSI2v8Dh1f5J', 'Artist1': 'Runext', 'Title1': 'R.U.N', 'Part1': 'Chorus 1', 'StartTimestamp1': datetime.time(0, 55), 'EndTimestamp1': datetime.time(1, 27), 'Additional1': None, 'YTURL2': 'https://youtu.be/vtfljd-1sBk?si=5-3dREKsfDdwZX2l', 'Artist2': 'Ive', 'Title2': 'Eleven', 'Part2': 'Chorus 1', 'StartTimestamp2': datetime.time(0, 32), 'EndTimestamp2': datetime.time(0, 59), 'Additional2': None}\n",
      "{'SubmitDateTime': datetime.datetime(2024, 3, 8, 20, 2, 17), 'Mail': '57idemircan@gmail.com', 'Language': '🇩🇪 Deutsch', 'PreferredCommunication': 'WhatsApp', 'Instagram': '', 'InstagramProfileURL': '', 'WhatsApp': '1772390592', 'WhatsAppURL': 'https://wa.me/1772390592', 'FurtherContact': None, 'YTURL1': 'https://youtu.be/Qcl5xq9Xs-k?si=h2CLRMWD6CRTrHyn', 'Artist1': 'WAKER', 'Title1': 'Vanilla Choco Shake', 'Part1': 'Chorus 1', 'StartTimestamp1': datetime.time(0, 53), 'EndTimestamp1': datetime.time(1, 27), 'Additional1': None, 'YTURL2': 'https://youtu.be/-7jLJmpnKLI?si=8pfUd8kIDemOyYhO', 'Artist2': 'ATEEZ', 'Title2': 'Wave', 'Part2': 'Chorus 1', 'StartTimestamp2': datetime.time(1, 0), 'EndTimestamp2': datetime.time(1, 30), 'Additional2': None}\n",
      "{'SubmitDateTime': datetime.datetime(2024, 3, 8, 20, 2, 57), 'Mail': 'anni04nagel@gmail.com', 'Language': '🇩🇪 Deutsch', 'PreferredCommunication': 'WhatsApp', 'Instagram': 'Tjay.weird0', 'InstagramProfileURL': 'https://www.instagram.com/Tjay.weird0/', 'WhatsApp': '1774892405', 'WhatsAppURL': 'https://wa.me/1774892405', 'FurtherContact': None, 'YTURL1': 'https://youtu.be/GIUXZJni1cc?si=YKw6jn0zK1L4aAOb', 'Artist1': \"E'last\", 'Title1': 'Gasoline', 'Part1': 'Chorus 1', 'StartTimestamp1': datetime.time(0, 35), 'EndTimestamp1': datetime.time(1, 6), 'Additional1': None, 'YTURL2': 'https://youtu.be/YVGKoXRX4yA?si=cNzuVAC_At6N1ZXU', 'Artist2': 'ACE', 'Title2': 'My Girl', 'Part2': 'Chorus 1', 'StartTimestamp2': datetime.time(1, 0), 'EndTimestamp2': datetime.time(1, 48), 'Additional2': None}\n",
      "{'SubmitDateTime': datetime.datetime(2024, 3, 8, 20, 3), 'Mail': 'xsuhejla@gmail.com', 'Language': '🇩🇪 Deutsch', 'PreferredCommunication': 'Instagram', 'Instagram': 'sqhejla', 'InstagramProfileURL': 'https://www.instagram.com/sqhejla/', 'WhatsApp': '', 'WhatsAppURL': '', 'FurtherContact': None, 'YTURL1': 'https://youtu.be/4iT1Zer6kKU?si=bGNZaZynsaRtJiLw', 'Artist1': 'DINO', 'Title1': 'WAIT', 'Part1': 'Chorus 1, Pre-chorus', 'StartTimestamp1': datetime.time(0, 15), 'EndTimestamp1': datetime.time(1, 2), 'Additional1': None, 'YTURL2': 'https://youtu.be/yLIXn_XVHVI?si=AyV1mRPzIwiv9PUw', 'Artist2': 'HYO', 'Title2': 'DESSERT', 'Part2': 'Chorus 2', 'StartTimestamp2': datetime.time(1, 23), 'EndTimestamp2': datetime.time(2, 6), 'Additional2': None}\n",
      "{'SubmitDateTime': datetime.datetime(2024, 3, 8, 20, 3, 15), 'Mail': 'annalena.ch2002@gmail.com', 'Language': '🇩🇪 Deutsch', 'PreferredCommunication': 'WhatsApp', 'Instagram': '', 'InstagramProfileURL': '', 'WhatsApp': '15783486166', 'WhatsAppURL': 'https://wa.me/15783486166', 'FurtherContact': None, 'YTURL1': 'https://youtu.be/LjF4TDhJJ-Q?si=tYaEnjCFicjsdvAi ', 'Artist1': 'The KingDom', 'Title1': 'Flip that Coin', 'Part1': 'Chorus 1', 'StartTimestamp1': datetime.time(0, 35), 'EndTimestamp1': datetime.time(1, 10), 'Additional1': None, 'YTURL2': 'https://youtu.be/VNl8PFup-hM?si=seQYa-3xlYYaJ1mR', 'Artist2': 'Infinite', 'Title2': 'The Chaser', 'Part2': 'Chorus 1', 'StartTimestamp2': datetime.time(0, 39), 'EndTimestamp2': datetime.time(1, 2), 'Additional2': None}\n",
      "{'SubmitDateTime': datetime.datetime(2024, 3, 8, 20, 3, 31), 'Mail': 'demontair99@gmail.com', 'Language': '🇬🇧 English', 'PreferredCommunication': '@d_e_m_o_n_t_a_i_r', 'Instagram': '@d_e_m_o_n_t_a_i_r', 'InstagramProfileURL': 'https://www.instagram.com/d_e_m_o_n_t_a_i_r/', 'WhatsApp': '4915115647427', 'WhatsAppURL': 'https://wa.me/4915115647427', 'FurtherContact': 'Auch +49 172 3097639', 'YTURL1': 'https://youtu.be/sG9RiH7Xpvg', 'Artist1': 'IVE', 'Title1': 'Accendio', 'Part1': 'Pre-Chorus(1)', 'StartTimestamp1': datetime.time(0, 15), 'EndTimestamp1': datetime.time(1, 20), 'Additional1': None, 'YTURL2': 'https://youtu.be/sG9RiH7Xpvg', 'Artist2': 'IVE', 'Title2': 'Accendio', 'Part2': 'Dancebreak', 'StartTimestamp2': datetime.time(2, 20), 'EndTimestamp2': datetime.time(3, 12), 'Additional2': None}\n",
      "{'SubmitDateTime': datetime.datetime(2024, 3, 8, 20, 3, 32), 'Mail': 'salina.by5959@gmail.com', 'Language': '🇩🇪 Deutsch', 'PreferredCommunication': 'Instagram', 'Instagram': 'li.na_0610', 'InstagramProfileURL': 'https://www.instagram.com/li.na_0610/', 'WhatsApp': '', 'WhatsAppURL': '', 'FurtherContact': None, 'YTURL1': 'https://youtu.be/1mHAjV49cog?si=wzB85yAjbpKf6-Ph', 'Artist1': 'TWS', 'Title1': 'Double Take', 'Part1': 'Chorus 1', 'StartTimestamp1': datetime.time(0, 20), 'EndTimestamp1': datetime.time(0, 55), 'Additional1': None, 'YTURL2': 'https://youtu.be/H9I6045-Zl0?si=djJhL0v7sQKJd59N', 'Artist2': 'Jo Yuri', 'Title2': 'Love Shhh!', 'Part2': 'Chorus 1', 'StartTimestamp2': datetime.time(0, 20), 'EndTimestamp2': datetime.time(1, 20), 'Additional2': None}\n",
      "{'SubmitDateTime': datetime.datetime(2024, 3, 8, 20, 3, 57), 'Mail': 'bottadriana2713@gmail.com', 'Language': '🇩🇪 Deutsch', 'PreferredCommunication': 'Instagram', 'Instagram': '@_adri_2210', 'InstagramProfileURL': 'https://www.instagram.com/_adri_2210/', 'WhatsApp': '', 'WhatsAppURL': '', 'FurtherContact': None, 'YTURL1': 'https://youtu.be/r8c3bGsDdS8?si=T3TlaOzrsoaRgtTY', 'Artist1': 'Baekhyun', 'Title1': 'Get You Alone', 'Part1': 'Chorus 1', 'StartTimestamp1': datetime.time(0, 53), 'EndTimestamp1': datetime.time(1, 40), 'Additional1': None, 'YTURL2': 'https://youtu.be/b1pp4mE57gI?si=1CC5mphH_Ff6m8RH', 'Artist2': 'EXO', 'Title2': 'Tempo', 'Part2': 'Chorus 1', 'StartTimestamp2': datetime.time(0, 0), 'EndTimestamp2': datetime.time(0, 42), 'Additional2': None}\n",
      "{'SubmitDateTime': datetime.datetime(2024, 3, 8, 20, 4, 37), 'Mail': 'aboalzhraa75@gmail.com', 'Language': '🇬🇧 English', 'PreferredCommunication': 'Instagram', 'Instagram': '@jourjoy05', 'InstagramProfileURL': 'https://www.instagram.com/jourjoy05/', 'WhatsApp': '4915771997122', 'WhatsAppURL': 'https://wa.me/4915771997122', 'FurtherContact': None, 'YTURL1': 'https://youtu.be/tQjQe_4kX4M?si=mmGhPXkgFcAG0tAt', 'Artist1': 'The Boyz', 'Title1': 'Gibberish', 'Part1': 'Chorus 1', 'StartTimestamp1': datetime.time(0, 41), 'EndTimestamp1': datetime.time(1, 13), 'Additional1': None, 'YTURL2': 'https://youtu.be/a857W_sify8?si=Ci32hq5IMXScZlkc', 'Artist2': 'XG', 'Title2': \"SOMETHING AIN'T RIGHT\", 'Part2': 'Chorus 1', 'StartTimestamp2': datetime.time(0, 42), 'EndTimestamp2': datetime.time(1, 19), 'Additional2': None}\n",
      "{'SubmitDateTime': datetime.datetime(2024, 3, 8, 20, 5, 1), 'Mail': 'romy.schletter@gmail.com', 'Language': '🇩🇪 Deutsch', 'PreferredCommunication': 'Instagram', 'Instagram': 'love4romy', 'InstagramProfileURL': 'https://www.instagram.com/love4romy/', 'WhatsApp': '', 'WhatsAppURL': '', 'FurtherContact': None, 'YTURL1': 'https://youtu.be/_ah370LXxZg?si=CRRfaeyw883qI-Wg', 'Artist1': 'gugudan oguogu', 'Title1': 'ICE CHU', 'Part1': 'Chorus 1', 'StartTimestamp1': datetime.time(0, 48), 'EndTimestamp1': datetime.time(1, 29), 'Additional1': None, 'YTURL2': 'https://youtu.be/I9aDYGCAmc8?si=rwFDawZzXVdz_xqD', 'Artist2': 'ICHILLIN', 'Title2': 'KICK-START', 'Part2': 'Chorus 2, Dancebreak', 'StartTimestamp2': datetime.time(1, 40), 'EndTimestamp2': datetime.time(2, 29), 'Additional2': None}\n",
      "{'SubmitDateTime': datetime.datetime(2024, 3, 8, 20, 6, 6), 'Mail': 'pvvzklee@gmail.com', 'Language': '🇬🇧 English', 'PreferredCommunication': 'Instagram', 'Instagram': 'paavzk', 'InstagramProfileURL': 'https://www.instagram.com/paavzk/', 'WhatsApp': '380502493650', 'WhatsAppURL': 'https://wa.me/380502493650', 'FurtherContact': None, 'YTURL1': 'https://youtu.be/etmPtqTgHFU?si=aN0Eg4yP95_tGinI', 'Artist1': 'xikers', 'Title1': 'red sun', 'Part1': 'Dancebreak', 'StartTimestamp1': datetime.time(2, 35), 'EndTimestamp1': datetime.time(3, 24), 'Additional1': None, 'YTURL2': 'https://youtu.be/tl_ltp70GAM?si=YkS1EVanHqGS0e6B', 'Artist2': 'Lucas', 'Title2': 'dip it low', 'Part2': 'Chorus 1', 'StartTimestamp2': datetime.time(0, 15), 'EndTimestamp2': datetime.time(1, 8), 'Additional2': None}\n",
      "{'SubmitDateTime': datetime.datetime(2024, 3, 8, 20, 6, 24), 'Mail': 'susupernova79@gmail.com', 'Language': '🇩🇪 Deutsch', 'PreferredCommunication': 'Instagram', 'Instagram': '@kurakisse.s', 'InstagramProfileURL': 'https://www.instagram.com/kurakisse.s/', 'WhatsApp': '4915754468234', 'WhatsAppURL': 'https://wa.me/4915754468234', 'FurtherContact': None, 'YTURL1': 'https://youtu.be/9PZp0t5xrhc?si=6A14B_SwT0G0EMa9', 'Artist1': 'CHUNGHA', 'Title1': 'Snapping', 'Part1': 'Chorus 1, Pree chorus', 'StartTimestamp1': datetime.time(0, 28), 'EndTimestamp1': datetime.time(1, 23), 'Additional1': None, 'YTURL2': 'https://youtu.be/B94Ya_6QS7g?si=a6K9SiudzDTLjyH_', 'Artist2': 'HYOYEON', 'Title2': 'Wannabe', 'Part2': 'Chorus 1', 'StartTimestamp2': datetime.time(0, 37), 'EndTimestamp2': datetime.time(1, 6), 'Additional2': None}\n",
      "{'SubmitDateTime': datetime.datetime(2024, 3, 8, 20, 6, 40), 'Mail': 'pffiipp@gmail.com', 'Language': '🇬🇧 English', 'PreferredCommunication': 'Instagram', 'Instagram': 'wittaiie', 'InstagramProfileURL': 'https://www.instagram.com/wittaiie/', 'WhatsApp': '666387993', 'WhatsAppURL': 'https://wa.me/666387993', 'FurtherContact': None, 'YTURL1': 'https://youtu.be/6mTa_slnn10?si=12VItfqFyD_anMYq', 'Artist1': 'ARrc', 'Title1': 'dummy', 'Part1': 'Chorus 1', 'StartTimestamp1': datetime.time(0, 30), 'EndTimestamp1': datetime.time(1, 4), 'Additional1': None, 'YTURL2': 'https://youtu.be/4ef4ztv44uE?si=-NwQOn4ch01LKjSP', 'Artist2': '82MAJOR', 'Title2': 'choke', 'Part2': 'Chorus 1', 'StartTimestamp2': datetime.time(0, 34), 'EndTimestamp2': datetime.time(1, 8), 'Additional2': None}\n",
      "{'SubmitDateTime': datetime.datetime(2024, 3, 8, 20, 6, 55), 'Mail': 'abc.tuxel@gmail.com', 'Language': '🇩🇪 Deutsch', 'PreferredCommunication': 'WhatsApp', 'Instagram': '', 'InstagramProfileURL': '', 'WhatsApp': '491713476614', 'WhatsAppURL': 'https://wa.me/491713476614', 'FurtherContact': None, 'YTURL1': 'https://youtu.be/WEwCHTOx3RE?si=jTOKYpJr4mFDHO4h', 'Artist1': 'Taemin', 'Title1': 'Idea', 'Part1': 'Chorus 2', 'StartTimestamp1': datetime.time(0, 56), 'EndTimestamp1': datetime.time(1, 51), 'Additional1': 'Mit Pre-Chorus', 'YTURL2': 'https://youtu.be/r8c3bGsDdS8?si=T3TlaOzrsoaRgtTY', 'Artist2': 'Hoshi', 'Title2': 'Spider', 'Part2': 'Chorus 1', 'StartTimestamp2': datetime.time(0, 39), 'EndTimestamp2': datetime.time(1, 29), 'Additional2': None}\n",
      "{'SubmitDateTime': datetime.datetime(2024, 3, 8, 20, 6, 59), 'Mail': 'ioannakoukoumpiki2008@gmail.com', 'Language': '🇩🇪 Deutsch', 'PreferredCommunication': 'Instagram', 'Instagram': 'ioannnnnna', 'InstagramProfileURL': 'https://www.instagram.com/ioannnnnna/', 'WhatsApp': '15221998098', 'WhatsAppURL': 'https://wa.me/15221998098', 'FurtherContact': None, 'YTURL1': 'https://youtu.be/3xJYmM_NWgo?si=T8xAH7e220TcwB_2', 'Artist1': 'Boa', 'Title1': 'My name', 'Part1': 'Dancebreak, + endlich', 'StartTimestamp1': datetime.time(2, 5), 'EndTimestamp1': datetime.time(3, 12), 'Additional1': None, 'YTURL2': 'https://youtu.be/3xJYmM_NWgo?si=T8xAH7e220TcwB_2', 'Artist2': 'Seventeen', 'Title2': 'Ready to love', 'Part2': 'Dancebreak', 'StartTimestamp2': datetime.time(2, 21), 'EndTimestamp2': datetime.time(2, 59), 'Additional2': None}\n",
      "{'SubmitDateTime': datetime.datetime(2024, 3, 8, 20, 7, 2), 'Mail': 'anja24092003@gmail.com', 'Language': '🇩🇪 Deutsch', 'PreferredCommunication': 'WhatsApp', 'Instagram': '', 'InstagramProfileURL': '', 'WhatsApp': '380964246568', 'WhatsAppURL': 'https://wa.me/380964246568', 'FurtherContact': None, 'YTURL1': 'https://youtu.be/33Js5FPEeKA?si=xW6CWkzkw8V6EHbJ', 'Artist1': 'G idle', 'Title1': 'Senorita', 'Part1': 'Pre Chorus', 'StartTimestamp1': datetime.time(0, 35), 'EndTimestamp1': datetime.time(1, 40), 'Additional1': None, 'YTURL2': 'https://youtu.be/-BuY9LyDZow?si=QeSewp_wrMPjl0Ib', 'Artist2': 'Key', 'Title2': 'Gasoline', 'Part2': 'Chorus 1', 'StartTimestamp2': datetime.time(0, 50), 'EndTimestamp2': datetime.time(1, 30), 'Additional2': None}\n",
      "{'SubmitDateTime': datetime.datetime(2024, 3, 8, 20, 7, 37), 'Mail': 'larinaskz@gmail.com', 'Language': '🇩🇪 Deutsch', 'PreferredCommunication': 'Instagram', 'Instagram': 'mara_5373', 'InstagramProfileURL': 'https://www.instagram.com/mara_5373/', 'WhatsApp': '', 'WhatsAppURL': '', 'FurtherContact': None, 'YTURL1': 'https://youtu.be/oRMwv5oE-xQ?si=VD-oEcFLsPeTEhYY', 'Artist1': 'Stray kids', 'Title1': 'Chk chk boom', 'Part1': 'Dancebreak', 'StartTimestamp1': datetime.time(1, 34), 'EndTimestamp1': datetime.time(2, 25), 'Additional1': None, 'YTURL2': 'https://youtu.be/CD2S-RfxZTA?si=o-HcZNtdWfP0x37P', 'Artist2': 'Nayeon', 'Title2': 'ABCD', 'Part2': 'Chorus 1', 'StartTimestamp2': datetime.time(0, 31), 'EndTimestamp2': datetime.time(1, 9), 'Additional2': None}\n",
      "{'SubmitDateTime': datetime.datetime(2024, 3, 8, 20, 7, 50), 'Mail': 'bottascela@gmail.com', 'Language': '🇩🇪 Deutsch', 'PreferredCommunication': 'WhatsApp', 'Instagram': '', 'InstagramProfileURL': '', 'WhatsApp': '4915153106530', 'WhatsAppURL': 'https://wa.me/4915153106530', 'FurtherContact': None, 'YTURL1': 'https://youtu.be/g58oEJBO6nE?si=kUQbBXbFSgPBwt63', 'Artist1': 'SuperM', 'Title1': 'Tiger Inside', 'Part1': 'Chorus 2', 'StartTimestamp1': datetime.time(1, 27), 'EndTimestamp1': datetime.time(2, 13), 'Additional1': None, 'YTURL2': 'https://youtu.be/1RtXsC3hot0?si=U2O3wYDkwfpt9RTz', 'Artist2': 'Ten', 'Title2': 'Birthday', 'Part2': 'Chorus 1', 'StartTimestamp2': datetime.time(0, 37), 'EndTimestamp2': datetime.time(1, 16), 'Additional2': None}\n",
      "{'SubmitDateTime': datetime.datetime(2024, 3, 8, 20, 8, 6), 'Mail': 'acake.dance@gmail.com', 'Language': '🇬🇧 English', 'PreferredCommunication': 'WhatsApp', 'Instagram': 'acake.dance', 'InstagramProfileURL': 'https://www.instagram.com/acake.dance/', 'WhatsApp': '4915215448041', 'WhatsAppURL': 'https://wa.me/4915215448041', 'FurtherContact': None, 'YTURL1': 'https://youtu.be/9U4OYUmZPtU?si=v3i3RyasSzGzb0ME', 'Artist1': 'All (H)ours', 'Title1': 'Shock', 'Part1': 'Chorus 1, Pre-Chorus 1', 'StartTimestamp1': datetime.time(0, 27), 'EndTimestamp1': datetime.time(1, 11), 'Additional1': None, 'YTURL2': 'https://youtu.be/bc0LfTiPx9s?si=CYDuonSkL1vC2ovw', 'Artist2': 'Golden Child', 'Title2': 'Ra Pam Pam', 'Part2': 'Chorus 1, Pre-chorus 1', 'StartTimestamp2': datetime.time(0, 33), 'EndTimestamp2': datetime.time(1, 26), 'Additional2': None}\n",
      "{'SubmitDateTime': datetime.datetime(2024, 3, 8, 20, 8, 10), 'Mail': 'susadakoetsuk074@gmail.com', 'Language': '🇩🇪 Deutsch', 'PreferredCommunication': 'Instagram', 'Instagram': '02.d3em', 'InstagramProfileURL': 'https://www.instagram.com/02.d3em/', 'WhatsApp': '17631619425', 'WhatsAppURL': 'https://wa.me/17631619425', 'FurtherContact': None, 'YTURL1': 'https://youtu.be/dGs5gAar0iw?si=hhQMWTmN4hT3ws-_', 'Artist1': 'Riize', 'Title1': 'Be my next', 'Part1': 'Chorus 1', 'StartTimestamp1': datetime.time(0, 42), 'EndTimestamp1': datetime.time(1, 17), 'Additional1': None, 'YTURL2': 'https://youtu.be/uO_GkE8Ym38?si=LCcV5b9MvPuBaNhU', 'Artist2': 'ENHYPEN', 'Title2': 'Brought the heat back', 'Part2': 'Chorus 2, Dancebreak', 'StartTimestamp2': datetime.time(1, 30), 'EndTimestamp2': datetime.time(2, 58), 'Additional2': None}\n",
      "{'SubmitDateTime': datetime.datetime(2024, 3, 8, 20, 8, 47), 'Mail': 'dustin.sauer0406@gmail.com', 'Language': '🇩🇪 Deutsch', 'PreferredCommunication': 'Instagram', 'Instagram': 'm4gnetlc', 'InstagramProfileURL': 'https://www.instagram.com/m4gnetlc/', 'WhatsApp': '15226910524', 'WhatsAppURL': 'https://wa.me/15226910524', 'FurtherContact': None, 'YTURL1': 'https://youtu.be/_g9lboU8cOg?si=HDfx56tKsnKq-_oJ', 'Artist1': 'Kep1er', 'Title1': 'Back to the City', 'Part1': 'Chorus 1', 'StartTimestamp1': datetime.time(0, 42), 'EndTimestamp1': datetime.time(1, 18), 'Additional1': None, 'YTURL2': 'https://youtu.be/D0nycoXQ9ws?si=doaM3exQSt967cde', 'Artist2': 'Kep1er', 'Title2': 'Shooting Star', 'Part2': 'Chorus 1', 'StartTimestamp2': datetime.time(0, 45), 'EndTimestamp2': datetime.time(1, 22), 'Additional2': None}\n",
      "{'SubmitDateTime': datetime.datetime(2024, 3, 8, 20, 10, 8), 'Mail': 'anastasiastephan2904@gmail.com', 'Language': '🇩🇪 Deutsch', 'PreferredCommunication': 'WhatsApp', 'Instagram': '@anastasia_.29', 'InstagramProfileURL': 'https://www.instagram.com/anastasia_.29/', 'WhatsApp': '01783289726', 'WhatsAppURL': 'https://wa.me/01783289726', 'FurtherContact': None, 'YTURL1': 'https://youtu.be/VnWo9-Dioik?si=dGL9aDYUqJSdjRye', 'Artist1': 'BTS', 'Title1': 'ON', 'Part1': 'Dancebreak, Last Chorus', 'StartTimestamp1': datetime.time(3, 21), 'EndTimestamp1': datetime.time(4, 46), 'Additional1': None, 'YTURL2': 'https://youtu.be/Gh1rFTpxAog?feature=shared', 'Artist2': 'NCT U', 'Title2': 'Make A Wish', 'Part2': 'Dancebreak, Last Chorus', 'StartTimestamp2': datetime.time(2, 25), 'EndTimestamp2': datetime.time(3, 49), 'Additional2': None}\n",
      "{'SubmitDateTime': datetime.datetime(2024, 3, 8, 20, 9, 48), 'Mail': 'jessica.dg04@gmail.com', 'Language': '🇩🇪 Deutsch', 'PreferredCommunication': 'Instagram', 'Instagram': 'jessiidg', 'InstagramProfileURL': 'https://www.instagram.com/jessiidg/', 'WhatsApp': '', 'WhatsAppURL': '', 'FurtherContact': None, 'YTURL1': 'https://youtu.be/j0ZhFD2DUE0?si=uJMSoD5lFN8MwR4G', 'Artist1': 'P1Harmony', 'Title1': 'Late Night Calls', 'Part1': 'Chorus 1', 'StartTimestamp1': datetime.time(0, 30), 'EndTimestamp1': datetime.time(1, 9), 'Additional1': None, 'YTURL2': 'https://youtu.be/dJXI-qB5EpA?si=rBj38qF06M76FYCT', 'Artist2': 'P1Harmony', 'Title2': 'Killin’ It', 'Part2': 'Chorus 1', 'StartTimestamp2': datetime.time(0, 48), 'EndTimestamp2': datetime.time(1, 16), 'Additional2': None}\n",
      "{'SubmitDateTime': datetime.datetime(2024, 3, 8, 20, 11, 11), 'Mail': 'briannaakua@gmail.com', 'Language': '🇩🇪 Deutsch', 'PreferredCommunication': 'Instagram', 'Instagram': '@brixnnxhh', 'InstagramProfileURL': 'https://www.instagram.com/brixnnxhh/', 'WhatsApp': '', 'WhatsAppURL': '', 'FurtherContact': None, 'YTURL1': 'https://youtu.be/dXcNuRkNWpo?si=BfSWoNWhKuj_tlav', 'Artist1': 'TWICE', 'Title1': 'DANCE THE NIGHT AWAY', 'Part1': 'Dancebreak', 'StartTimestamp1': datetime.time(2, 12), 'EndTimestamp1': datetime.time(3, 1), 'Additional1': None, 'YTURL2': 'https://youtu.be/vfuM3xX7h-I?si=VYCuzpnzwRTohLw-', 'Artist2': 'Twice', 'Title2': 'DIVE', 'Part2': 'Chorus 2', 'StartTimestamp2': datetime.time(1, 28), 'EndTimestamp2': datetime.time(2, 7), 'Additional2': None}\n",
      "{'SubmitDateTime': datetime.datetime(2024, 3, 8, 20, 11, 33), 'Mail': 'victorialami15@gmail.com', 'Language': '🇩🇪 Deutsch', 'PreferredCommunication': 'Instagram', 'Instagram': 'microtoria', 'InstagramProfileURL': 'https://www.instagram.com/microtoria/', 'WhatsApp': '', 'WhatsAppURL': '', 'FurtherContact': None, 'YTURL1': 'https://youtu.be/Q2pWPvUOwYQ?si=5e7DN-Yq8vWfC829', 'Artist1': 'ONF', 'Title1': 'Bye My Monster', 'Part1': 'Chorus 1', 'StartTimestamp1': datetime.time(0, 35), 'EndTimestamp1': datetime.time(1, 20), 'Additional1': None, 'YTURL2': 'https://youtu.be/AB0mYkRCBO8?si=NvUqCYVBAaOWb6yE', 'Artist2': 'WJSN', 'Title2': 'Done', 'Part2': 'Chorus 1', 'StartTimestamp2': datetime.time(0, 30), 'EndTimestamp2': datetime.time(1, 20), 'Additional2': None}\n",
      "{'SubmitDateTime': datetime.datetime(2024, 3, 8, 20, 13, 8), 'Mail': 'jasminfischer377@gmail.com', 'Language': '🇩🇪 Deutsch', 'PreferredCommunication': 'Instagram', 'Instagram': 'Jas_fsr', 'InstagramProfileURL': 'https://www.instagram.com/Jas_fsr/', 'WhatsApp': '', 'WhatsAppURL': '', 'FurtherContact': None, 'YTURL1': 'https://youtu.be/qWTf2IIQL3Y?si=j3jm4AodZka3z2WT', 'Artist1': 'BLITZERS', 'Title1': 'Macarena', 'Part1': 'Chorus 1', 'StartTimestamp1': datetime.time(1, 0), 'EndTimestamp1': datetime.time(1, 30), 'Additional1': 'Bitte in die erste Playlist, danke', 'YTURL2': 'https://youtu.be/Y0nnEz1hKoE?si=B9-1_czPTLdXINKJ', 'Artist2': 'MCND', 'Title2': '#MOOD', 'Part2': 'Chorus 1', 'StartTimestamp2': datetime.time(0, 43), 'EndTimestamp2': datetime.time(1, 9), 'Additional2': 'Bitte in die erste Playlist, danne'}\n",
      "{'SubmitDateTime': datetime.datetime(2024, 3, 8, 20, 15, 32), 'Mail': 'stellarchladjei@gmail.com', 'Language': '🇩🇪 Deutsch', 'PreferredCommunication': 'Instagram', 'Instagram': 'estra_lly_', 'InstagramProfileURL': 'https://www.instagram.com/estra_lly_/', 'WhatsApp': '', 'WhatsAppURL': '', 'FurtherContact': None, 'YTURL1': 'https://youtu.be/SOKliuZfuFQ?si=4-k1_8Z7VcJcniRV', 'Artist1': 'NCT 127', 'Title1': 'WALK', 'Part1': 'Dancebreak', 'StartTimestamp1': datetime.time(1, 55), 'EndTimestamp1': datetime.time(3, 10), 'Additional1': None, 'YTURL2': 'https://youtu.be/chTzVH24ybE?si=Tni69xbKmPHWen-u', 'Artist2': 'MISAMO', 'Title2': 'Do Not touch', 'Part2': 'Chorus 3', 'StartTimestamp2': datetime.time(2, 3), 'EndTimestamp2': datetime.time(3, 1), 'Additional2': None}\n",
      "{'SubmitDateTime': datetime.datetime(2024, 3, 8, 20, 15, 48), 'Mail': 'lmueller@mamwheels.de', 'Language': '🇩🇪 Deutsch', 'PreferredCommunication': 'Instagram', 'Instagram': 'you.2are', 'InstagramProfileURL': 'https://www.instagram.com/you.2are/', 'WhatsApp': '', 'WhatsAppURL': '', 'FurtherContact': None, 'YTURL1': 'https://youtu.be/EytFcsJLQfI?si=QMDjkPmiosI96hmU', 'Artist1': 'XG', 'Title1': 'TGIF', 'Part1': 'Chorus 1', 'StartTimestamp1': datetime.time(0, 30), 'EndTimestamp1': datetime.time(0, 59), 'Additional1': 'Bitte 1. oder 2. Playlist', 'YTURL2': 'https://youtu.be/1UO9Do8uMDU?si=y7LxX4e-bVDqfN3S', 'Artist2': 'KATSEYE', 'Title2': 'Touch', 'Part2': 'Chorus 1', 'StartTimestamp2': datetime.time(0, 35), 'EndTimestamp2': datetime.time(1, 10), 'Additional2': 'Bitte 1. oder 2. Playlist'}\n",
      "{'SubmitDateTime': datetime.datetime(2024, 3, 8, 20, 19, 24), 'Mail': 'anika.frank06@gmail.com', 'Language': '🇩🇪 Deutsch', 'PreferredCommunication': 'WhatsApp', 'Instagram': '@anika_lea.24', 'InstagramProfileURL': 'https://www.instagram.com/anika_lea.24/', 'WhatsApp': '4915736483248', 'WhatsAppURL': 'https://wa.me/4915736483248', 'FurtherContact': None, 'YTURL1': 'https://youtu.be/EURY1nTRnoU?si=XCN_pO18AcRjv0xC', 'Artist1': 'Shinee', 'Title1': 'Lucifer', 'Part1': 'Anfang Tutting Part', 'StartTimestamp1': datetime.time(0, 17), 'EndTimestamp1': datetime.time(0, 55), 'Additional1': None, 'YTURL2': 'https://youtu.be/XlMG_gvM8uA?si=g8NhMdzWoSpDpLvy', 'Artist2': 'Stray Kids', 'Title2': 'Red Lights', 'Part2': 'Chorus 1', 'StartTimestamp2': datetime.time(0, 23), 'EndTimestamp2': datetime.time(1, 27), 'Additional2': None}\n",
      "{'SubmitDateTime': datetime.datetime(2024, 3, 8, 20, 21, 26), 'Mail': 'josephine.hanke@gmx.net', 'Language': '🇩🇪 Deutsch', 'PreferredCommunication': 'Instagram', 'Instagram': 'josephine_hanke', 'InstagramProfileURL': 'https://www.instagram.com/josephine_hanke/', 'WhatsApp': '', 'WhatsAppURL': '', 'FurtherContact': None, 'YTURL1': 'https://youtu.be/M5aEiDSx7kI?si=2WC8jjJCOCz9bVNF', 'Artist1': 'New Jeans', 'Title1': 'Supernatural', 'Part1': 'Chorus 1', 'StartTimestamp1': datetime.time(0, 52), 'EndTimestamp1': datetime.time(1, 19), 'Additional1': 'Bitte in eine der ersten beiden Playlists packen ;) danke!!', 'YTURL2': 'https://youtu.be/heduzJKSKvk?si=y44hf4Kxb78JPGf0', 'Artist2': '(G)Idle', 'Title2': 'Hwa', 'Part2': 'Dancebreak', 'StartTimestamp2': datetime.time(2, 42), 'EndTimestamp2': datetime.time(3, 13), 'Additional2': 'Bitte in die erste Playlist packen :) danke!!'}\n",
      "{'SubmitDateTime': datetime.datetime(2024, 3, 8, 20, 25, 7), 'Mail': 'tsimpou.katerina@googlemail.com', 'Language': '🇩🇪 Deutsch', 'PreferredCommunication': 'Instagram', 'Instagram': 'ilxuuuu_', 'InstagramProfileURL': 'https://www.instagram.com/ilxuuuu_/', 'WhatsApp': '491608197019', 'WhatsAppURL': 'https://wa.me/491608197019', 'FurtherContact': None, 'YTURL1': 'https://youtu.be/3xJYmM_NWgo?si=T8x', 'Artist1': 'Seventeen', 'Title1': 'Ready to love', 'Part1': 'Dancebreak', 'StartTimestamp1': datetime.time(2, 21), 'EndTimestamp1': datetime.time(2, 59), 'Additional1': None, 'YTURL2': 'https://youtu.be/eCusz7lML9Q?si=j36s7Pgz_iMo1w4g', 'Artist2': 'Boa', 'Title2': 'My Name', 'Part2': 'Dancebreak, Ending', 'StartTimestamp2': datetime.time(2, 5), 'EndTimestamp2': datetime.time(3, 12), 'Additional2': None}\n",
      "{'SubmitDateTime': datetime.datetime(2024, 3, 8, 20, 33, 23), 'Mail': 'elzeant07@gmail.com', 'Language': '🇩🇪 Deutsch', 'PreferredCommunication': 'Instagram', 'Instagram': 'ncity_26dream', 'InstagramProfileURL': 'https://www.instagram.com/ncity_26dream/', 'WhatsApp': '', 'WhatsAppURL': '', 'FurtherContact': None, 'YTURL1': 'https://youtu.be/SpRIsXsUfl8?si=VGnQRbFuwdRrHTVR', 'Artist1': 'AB6IX', 'Title1': 'Breathe', 'Part1': 'Chorus 1', 'StartTimestamp1': datetime.time(0, 52), 'EndTimestamp1': datetime.time(1, 38), 'Additional1': None, 'YTURL2': 'https://youtu.be/ApXo3D5npc8?si=KmU5MpSbCzE8b7iB', 'Artist2': 'TXT', 'Title2': 'Opening Sequence', 'Part2': 'Chorus 1', 'StartTimestamp2': datetime.time(0, 26), 'EndTimestamp2': datetime.time(1, 10), 'Additional2': None}\n",
      "{'SubmitDateTime': datetime.datetime(2024, 3, 8, 20, 33), 'Mail': 'jasminstephan.js@gmail.com', 'Language': '🇩🇪 Deutsch', 'PreferredCommunication': 'Instagram', 'Instagram': '@amazingjasi', 'InstagramProfileURL': 'https://www.instagram.com/amazingjasi/', 'WhatsApp': '015750324967', 'WhatsAppURL': 'https://wa.me/015750324967', 'FurtherContact': None, 'YTURL1': 'https://youtu.be/2cKjYLHXRwI?si=LTVjvxmi46g1Em_j', 'Artist1': 'Stray Kids', 'Title1': 'Back door', 'Part1': 'Dancebreak', 'StartTimestamp1': datetime.time(2, 5), 'EndTimestamp1': datetime.time(3, 8), 'Additional1': None, 'YTURL2': 'https://youtu.be/RMc9qFrCqno?si=dzX0jD5VYq2ZWO1N', 'Artist2': 'Blackpink', 'Title2': 'Ddu-du Ddu-du', 'Part2': 'Chorus 2, Dancebreak', 'StartTimestamp2': datetime.time(2, 0), 'EndTimestamp2': datetime.time(3, 27), 'Additional2': None}\n",
      "{'SubmitDateTime': datetime.datetime(2024, 3, 8, 20, 34, 9), 'Mail': 'weilerlenja0@gmail.com', 'Language': '🇬🇧 English', 'PreferredCommunication': 'Instagram', 'Instagram': 'Riki._.ni', 'InstagramProfileURL': 'https://www.instagram.com/Riki._.ni/', 'WhatsApp': '', 'WhatsAppURL': '', 'FurtherContact': None, 'YTURL1': 'https://youtu.be/vdW2UzdcG3Q?si=rHuapvqFbq42GHa4', 'Artist1': 'Enhypen', 'Title1': 'Brought the heat back', 'Part1': 'Chorus 1', 'StartTimestamp1': datetime.time(0, 0), 'EndTimestamp1': datetime.time(0, 35), 'Additional1': None, 'YTURL2': 'https://youtu.be/Y_IgKYeRGNw?si=2oXNlUoL5Sho51RL', 'Artist2': 'Lee chayeon', 'Title2': \"Don't\", 'Part2': 'Chorus 1', 'StartTimestamp2': datetime.time(0, 35), 'EndTimestamp2': datetime.time(1, 10), 'Additional2': None}\n",
      "{'SubmitDateTime': datetime.datetime(2024, 3, 8, 20, 41, 2), 'Mail': 'noahweyer115@gmail.com', 'Language': '🇩🇪 Deutsch', 'PreferredCommunication': 'Instagram', 'Instagram': 'Watanabe_n0ah', 'InstagramProfileURL': 'https://www.instagram.com/Watanabe_n0ah/', 'WhatsApp': '', 'WhatsAppURL': '', 'FurtherContact': None, 'YTURL1': 'https://youtu.be/ND-10FG3X_c?si=V1rBTWdSzodAk6EU', 'Artist1': 'Treasure', 'Title1': 'Bona bona', 'Part1': 'TikTok Challenge', 'StartTimestamp1': datetime.time(1, 7), 'EndTimestamp1': datetime.time(1, 17), 'Additional1': None, 'YTURL2': 'https://youtu.be/ND-10FG3X_c?si=V1rBTWdSzodAk6EU', 'Artist2': 'Treasure', 'Title2': 'Bona bona', 'Part2': 'Chorus 1', 'StartTimestamp2': datetime.time(1, 7), 'EndTimestamp2': datetime.time(1, 17), 'Additional2': None}\n",
      "{'SubmitDateTime': datetime.datetime(2024, 3, 8, 20, 44, 36), 'Mail': 'emely.j1609@gmail.com', 'Language': '🇩🇪 Deutsch', 'PreferredCommunication': 'WhatsApp', 'Instagram': '', 'InstagramProfileURL': '', 'WhatsApp': '15758092945', 'WhatsAppURL': 'https://wa.me/15758092945', 'FurtherContact': None, 'YTURL1': 'https://youtu.be/D0GaZFwNdlU?si=rZyFfMEfRB8_0o70', 'Artist1': 'Stray kids', 'Title1': 'Chk Chk boom', 'Part1': 'Chorus 2, Dancebreak', 'StartTimestamp1': datetime.time(1, 36), 'EndTimestamp1': datetime.time(2, 28), 'Additional1': None, 'YTURL2': 'https://youtu.be/fAdA8rW_UuY?si=VJ738oH7o1sgZceS', 'Artist2': '(G)I-DLE', 'Title2': 'Klaxon', 'Part2': 'Chorus 1', 'StartTimestamp2': datetime.time(0, 40), 'EndTimestamp2': datetime.time(1, 17), 'Additional2': None}\n",
      "{'SubmitDateTime': datetime.datetime(2024, 3, 8, 20, 46, 1), 'Mail': 'dashaocher2002@gmail.com', 'Language': '🇬🇧 English', 'PreferredCommunication': 'Instagram', 'Instagram': '@doooorado', 'InstagramProfileURL': 'https://www.instagram.com/doooorado/', 'WhatsApp': '', 'WhatsAppURL': '', 'FurtherContact': None, 'YTURL1': 'https://youtu.be/ZOfSeRadXZ0?si=aQvfnJNqlv-HobHA', 'Artist1': 'HIGHLIGHT', 'Title1': 'Body', 'Part1': 'Chorus 1', 'StartTimestamp1': datetime.time(0, 40), 'EndTimestamp1': datetime.time(1, 16), 'Additional1': None, 'YTURL2': 'https://youtu.be/OcKV-js0m7w?si=RFcZdjVuFHsqRiVJ', 'Artist2': '3YE', 'Title2': 'Queen', 'Part2': 'Chorus 1', 'StartTimestamp2': datetime.time(0, 46), 'EndTimestamp2': datetime.time(1, 30), 'Additional2': None}\n",
      "{'SubmitDateTime': datetime.datetime(2024, 3, 8, 20, 46, 28), 'Mail': 'its4thuyanh@gmail.com', 'Language': '🇩🇪 Deutsch', 'PreferredCommunication': 'Instagram', 'Instagram': 'anhcupoftea', 'InstagramProfileURL': 'https://www.instagram.com/anhcupoftea/', 'WhatsApp': '', 'WhatsAppURL': 'https://wa.me/', 'FurtherContact': None, 'YTURL1': 'https://youtu.be/sG9RiH7Xpvg?si=ND6qWVjCdKREQ_Yl', 'Artist1': 'IVE', 'Title1': 'Accendio', 'Part1': 'Chorus 1', 'StartTimestamp1': datetime.time(0, 20), 'EndTimestamp1': datetime.time(1, 18), 'Additional1': None, 'YTURL2': 'https://youtu.be/yjXuXx401mU?si=lsqa8WCCbbt0oL4C', 'Artist2': 'Kiss of life', 'Title2': 'Sticky', 'Part2': 'Chorus 1', 'StartTimestamp2': datetime.time(0, 36), 'EndTimestamp2': datetime.time(0, 58), 'Additional2': None}\n",
      "{'SubmitDateTime': datetime.datetime(2024, 3, 8, 21, 3, 4), 'Mail': 'eschenalina28@gmail.com', 'Language': '🇩🇪 Deutsch', 'PreferredCommunication': 'Instagram', 'Instagram': 'linmorecloser', 'InstagramProfileURL': 'https://www.instagram.com/linmorecloser/', 'WhatsApp': '', 'WhatsAppURL': '', 'FurtherContact': None, 'YTURL1': 'https://youtu.be/qUKFrNXnA6M?si=Ikypyt92R-HMUcJc', 'Artist1': 'Unis', 'Title1': 'Superwoman', 'Part1': 'Chorus 1', 'StartTimestamp1': datetime.time(0, 25), 'EndTimestamp1': datetime.time(1, 7), 'Additional1': None, 'YTURL2': 'https://youtu.be/D0GaZFwNdlU?si=q1NrA_SkOWFiphFA', 'Artist2': 'Straykids', 'Title2': 'Chk chk boom', 'Part2': 'Chorus 2, Dancebreak', 'StartTimestamp2': datetime.time(1, 43), 'EndTimestamp2': datetime.time(2, 22), 'Additional2': None}\n",
      "{'SubmitDateTime': datetime.datetime(2024, 3, 8, 21, 3, 59), 'Mail': 'vanessa.beoceka@googlemail.com', 'Language': '🇩🇪 Deutsch', 'PreferredCommunication': 'Instagram', 'Instagram': 'noioiu_', 'InstagramProfileURL': 'https://www.instagram.com/noioiu_/', 'WhatsApp': '', 'WhatsAppURL': '', 'FurtherContact': None, 'YTURL1': 'https://youtu.be/U36B7zIJY0Q?si=EH4Z-_vNhF6_E3Aw', 'Artist1': 'SF9', 'Title1': 'Trauma', 'Part1': 'Chorus 2', 'StartTimestamp1': datetime.time(1, 35), 'EndTimestamp1': datetime.time(2, 28), 'Additional1': None, 'YTURL2': 'https://youtu.be/FfJqO54DHyE?si=IH3ixS0kynYjeWgU', 'Artist2': 'TVXQ!', 'Title2': 'Rebel', 'Part2': 'Chorus 2, Dancebreak', 'StartTimestamp2': datetime.time(1, 40), 'EndTimestamp2': datetime.time(2, 45), 'Additional2': None}\n",
      "{'SubmitDateTime': datetime.datetime(2024, 3, 8, 21, 25, 24), 'Mail': 'teresapolito40@gmail.com', 'Language': '🇬🇧 English', 'PreferredCommunication': 'Instagram', 'Instagram': 'terryinie.xo', 'InstagramProfileURL': 'https://www.instagram.com/terryinie.xo/', 'WhatsApp': '491723776391', 'WhatsAppURL': 'https://wa.me/491723776391', 'FurtherContact': None, 'YTURL1': 'https://youtu.be/Rlls35qWZxQ?si=tP3izrVKnbRsWfow', 'Artist1': 'CLASS:y', 'Title1': 'Shut Down', 'Part1': 'Chorus 1', 'StartTimestamp1': datetime.time(0, 39), 'EndTimestamp1': datetime.time(1, 25), 'Additional1': None, 'YTURL2': 'https://youtu.be/9U4OYUmZPtU?si=T5A55jU9G6g1v_QC', 'Artist2': 'ALL(H)OURS', 'Title2': 'SHOCK', 'Part2': 'Chorus 1', 'StartTimestamp2': datetime.time(0, 31), 'EndTimestamp2': datetime.time(1, 11), 'Additional2': None}\n",
      "{'SubmitDateTime': datetime.datetime(2024, 3, 8, 21, 29, 30), 'Mail': 'mariapolito09@gmail.com', 'Language': '🇬🇧 English', 'PreferredCommunication': 'Instagram', 'Instagram': '@marryp._', 'InstagramProfileURL': 'https://www.instagram.com/marryp._/', 'WhatsApp': '', 'WhatsAppURL': '', 'FurtherContact': None, 'YTURL1': 'https://youtu.be/vdW2UzdcG3Q?si=Ihv3Yw6-QYel33ga', 'Artist1': 'Enhypen', 'Title1': 'Brought the heat back', 'Part1': 'Chorus 2', 'StartTimestamp1': datetime.time(0, 42), 'EndTimestamp1': datetime.time(1, 17), 'Additional1': None, 'YTURL2': 'https://youtu.be/MD3_TtxoL9Y?si=g3EENuZINP1wXU6u', 'Artist2': 'Enhypen', 'Title2': 'XO (only if you say yes)', 'Part2': 'Chorus 2', 'StartTimestamp2': datetime.time(2, 9), 'EndTimestamp2': datetime.time(3, 9), 'Additional2': None}\n",
      "{'SubmitDateTime': datetime.datetime(2024, 3, 8, 21, 45, 52), 'Mail': 'oriflakowski@gmail.com', 'Language': '🇩🇪 Deutsch', 'PreferredCommunication': 'Instagram', 'Instagram': 'dasmoosbaellchen', 'InstagramProfileURL': 'https://www.instagram.com/dasmoosbaellchen/', 'WhatsApp': '', 'WhatsAppURL': '', 'FurtherContact': None, 'YTURL1': 'https://youtu.be/eM-TmvV_G2o?si=9FrCXumM04Q5NDBm', 'Artist1': 'Seventeen', 'Title1': 'Maestro', 'Part1': 'Dancebreak', 'StartTimestamp1': datetime.time(2, 43), 'EndTimestamp1': datetime.time(3, 19), 'Additional1': None, 'YTURL2': 'https://youtu.be/aKWxw9NNo88?si=9ruyATqQsv6KICtA', 'Artist2': 'Artms', 'Title2': 'Butterfly Effect', 'Part2': 'Chorus 1', 'StartTimestamp2': datetime.time(0, 52), 'EndTimestamp2': datetime.time(1, 29), 'Additional2': None}\n",
      "{'SubmitDateTime': datetime.datetime(2024, 3, 8, 21, 46, 45), 'Mail': 'saralenk50@gmail.com', 'Language': '🇩🇪 Deutsch', 'PreferredCommunication': 'Instagram', 'Instagram': '0711.sara', 'InstagramProfileURL': 'https://www.instagram.com/0711.sara/', 'WhatsApp': '', 'WhatsAppURL': '', 'FurtherContact': None, 'YTURL1': 'https://youtu.be/us0xfxXf0fg?si=YJRTJwhhVATuUqAZ', 'Artist1': 'Straykids', 'Title1': 'Get cool', 'Part1': 'Chorus 1', 'StartTimestamp1': datetime.time(0, 45), 'EndTimestamp1': datetime.time(1, 16), 'Additional1': None, 'YTURL2': 'https://youtu.be/eEv8lpVTmZI?si=7GOcTLa31gDI9F5B', 'Artist2': 'Straykids', 'Title2': 'Surfin', 'Part2': 'Chorus 1', 'StartTimestamp2': datetime.time(1, 12), 'EndTimestamp2': datetime.time(1, 31), 'Additional2': None}\n",
      "{'SubmitDateTime': datetime.datetime(2024, 3, 8, 22, 0, 44), 'Mail': 'preugschatlea03@gmail.com', 'Language': '🇩🇪 Deutsch', 'PreferredCommunication': 'Instagram', 'Instagram': 'this.is.lea_', 'InstagramProfileURL': 'https://www.instagram.com/this.is.lea_/', 'WhatsApp': '', 'WhatsAppURL': '', 'FurtherContact': None, 'YTURL1': 'https://youtu.be/RPb_uct_R7Q?si=cyetH8tFKWEUuHGa', 'Artist1': 'AIMERS', 'Title1': 'Colors', 'Part1': 'Chorus 1', 'StartTimestamp1': datetime.time(1, 3), 'EndTimestamp1': datetime.time(1, 41), 'Additional1': None, 'YTURL2': 'https://youtu.be/RqnlKzlkiBI?si=PSegBT0w10Ly5bCC', 'Artist2': 'P1HARMONY', 'Title2': 'Doom du doom', 'Part2': 'Chorus 1', 'StartTimestamp2': datetime.time(0, 40), 'EndTimestamp2': datetime.time(1, 20), 'Additional2': None}\n",
      "{'SubmitDateTime': datetime.datetime(2024, 3, 8, 22, 15, 6), 'Mail': 'sofia@milonas.de', 'Language': '🇩🇪 Deutsch', 'PreferredCommunication': 'Instagram', 'Instagram': '@soap_snax', 'InstagramProfileURL': 'https://www.instagram.com/soap_snax/', 'WhatsApp': '', 'WhatsAppURL': '', 'FurtherContact': None, 'YTURL1': 'https://youtu.be/CD2S-RfxZTA?si=Y5ksybPkkyYlqlpl', 'Artist1': 'Nayeon', 'Title1': 'ABCD', 'Part1': 'Chorus 1', 'StartTimestamp1': datetime.time(0, 37), 'EndTimestamp1': datetime.time(1, 10), 'Additional1': None, 'YTURL2': 'https://youtu.be/DwsTPix2zYU?si=pXmfuRK6IApsBMYD', 'Artist2': 'Stray Kids', 'Title2': 'Case 143', 'Part2': 'Chorus 1', 'StartTimestamp2': datetime.time(0, 35), 'EndTimestamp2': datetime.time(1, 4), 'Additional2': None}\n",
      "{'SubmitDateTime': datetime.datetime(2024, 3, 8, 22, 18, 41), 'Mail': 'lizdy039@gmail.com', 'Language': '🇩🇪 Deutsch', 'PreferredCommunication': 'Instagram', 'Instagram': 'selenfhz', 'InstagramProfileURL': 'https://www.instagram.com/selenfhz/', 'WhatsApp': '', 'WhatsAppURL': '', 'FurtherContact': None, 'YTURL1': 'https://youtu.be/a1myc1Ap7Q8?si=ICC2xC0KyW_vy2bk', 'Artist1': 'ENHYPEN', 'Title1': 'Bite me', 'Part1': 'Chorus 1', 'StartTimestamp1': datetime.time(0, 27), 'EndTimestamp1': datetime.time(1, 14), 'Additional1': None, 'YTURL2': 'https://youtu.be/b23_UkBrrQk?si=Euh_NOtBV1a2w0j8', 'Artist2': 'BTS', 'Title2': 'blood sweet and tears', 'Part2': 'Chorus 2', 'StartTimestamp2': datetime.time(1, 6), 'EndTimestamp2': datetime.time(1, 49), 'Additional2': None}\n",
      "{'SubmitDateTime': datetime.datetime(2024, 3, 8, 22, 21, 6), 'Mail': 'aurora.l.belvedere@gmail.com', 'Language': '🇩🇪 Deutsch', 'PreferredCommunication': 'Instagram', 'Instagram': 'rori_bvx', 'InstagramProfileURL': 'https://www.instagram.com/rori_bvx/', 'WhatsApp': '', 'WhatsAppURL': '', 'FurtherContact': None, 'YTURL1': 'https://youtu.be/NPNfcVfPUkc?si=ARWc8kMt_NFP_obf', 'Artist1': 'Katseye', 'Title1': 'Debut', 'Part1': 'Chorus 1', 'StartTimestamp1': datetime.time(0, 30), 'EndTimestamp1': datetime.time(0, 59), 'Additional1': None, 'YTURL2': 'https://youtu.be/qt81CWVHgjI?si=7UWYgw4rc5arr49T', 'Artist2': 'Blackpink', 'Title2': 'Lovesick girls', 'Part2': 'Chorus 1', 'StartTimestamp2': datetime.time(0, 44), 'EndTimestamp2': datetime.time(1, 20), 'Additional2': None}\n",
      "{'SubmitDateTime': datetime.datetime(2024, 3, 8, 22, 33, 39), 'Mail': 'sayehrmz@gmail.com', 'Language': '🇩🇪 Deutsch', 'PreferredCommunication': 'Instagram', 'Instagram': 'Sayeh.rmz', 'InstagramProfileURL': 'https://www.instagram.com/Sayeh.rmz/', 'WhatsApp': '', 'WhatsAppURL': '', 'FurtherContact': None, 'YTURL1': 'https://youtu.be/D0GaZFwNdlU?si=P6USfEIWAMplef2I', 'Artist1': 'Stray Kids', 'Title1': 'Chk chk boom', 'Part1': 'Chorus & dancebreak', 'StartTimestamp1': datetime.time(1, 36), 'EndTimestamp1': datetime.time(2, 28), 'Additional1': None, 'YTURL2': 'https://youtu.be/jqp8BakNeU8?si=cj86FqKbQjEzKCLd', 'Artist2': 'XG', 'Title2': 'Tippy Toes', 'Part2': 'Chorus 1', 'StartTimestamp2': datetime.time(0, 29), 'EndTimestamp2': datetime.time(1, 15), 'Additional2': None}\n",
      "{'SubmitDateTime': datetime.datetime(2024, 3, 8, 22, 35, 51), 'Mail': 'se.oeruen@gmail.com', 'Language': '🇩🇪 Deutsch', 'PreferredCommunication': 'WhatsApp', 'Instagram': 'babyygixrl', 'InstagramProfileURL': 'https://www.instagram.com/babyygixrl/', 'WhatsApp': '1632039113', 'WhatsAppURL': 'https://wa.me/1632039113', 'FurtherContact': None, 'YTURL1': 'https://youtu.be/1UO9Do8uMDU?si=MWtU95nEMKSYOCC-', 'Artist1': 'KATSEYE', 'Title1': 'Touch', 'Part1': 'Chorus 1', 'StartTimestamp1': datetime.time(0, 35), 'EndTimestamp1': datetime.time(1, 12), 'Additional1': None, 'YTURL2': 'https://youtu.be/9UsfSpQqQ6c?si=8vhXzA3cux1BOh5d', 'Artist2': 'ILLIT', 'Title2': 'Magnetic', 'Part2': 'Chorus 1', 'StartTimestamp2': datetime.time(0, 22), 'EndTimestamp2': datetime.time(1, 8), 'Additional2': None}\n",
      "{'SubmitDateTime': datetime.datetime(2024, 3, 8, 22, 51, 15), 'Mail': 'pia.sukatsch@gmail.com', 'Language': '🇬🇧 English', 'PreferredCommunication': 'WhatsApp', 'Instagram': '', 'InstagramProfileURL': '', 'WhatsApp': '4917653632546', 'WhatsAppURL': 'https://wa.me/4917653632546', 'FurtherContact': None, 'YTURL1': 'https://youtube.com/watch?v=GUe3wRkPYyM&pp=ygUTdHJvdWJsZW1ha2VyIGx5cmljcw%3D%3D', 'Artist1': 'Trouble Maker (Hyuna & Hyunseung)', 'Title1': 'Trouble Maker', 'Part1': 'Chorus 1', 'StartTimestamp1': datetime.time(0, 9), 'EndTimestamp1': datetime.time(1, 15), 'Additional1': None, 'YTURL2': 'https://youtube.com/watch?v=D0GaZFwNdlU&pp=ygUTY2hrIGNoayBib29tIGx5cmljcw%3D%3D', 'Artist2': 'Stray Kids', 'Title2': 'Chk Chk Boom', 'Part2': 'Chorus 2, Dancebreak', 'StartTimestamp2': datetime.time(1, 33), 'EndTimestamp2': datetime.time(2, 25), 'Additional2': '(Timestamp is length of Chorus 2 + Dancebreak)'}\n",
      "{'SubmitDateTime': datetime.datetime(2024, 3, 8, 22, 51, 32), 'Mail': 'jaquelinesklarek@gmail.com', 'Language': '🇩🇪 Deutsch', 'PreferredCommunication': 'WhatsApp', 'Instagram': '', 'InstagramProfileURL': '', 'WhatsApp': '4915204158717', 'WhatsAppURL': 'https://wa.me/4915204158717', 'FurtherContact': None, 'YTURL1': 'https://youtu.be/uTEu9gqjLGY?si=xXTO4WaJQskz3Msx', 'Artist1': 'ateez', 'Title1': 'It‘s you', 'Part1': 'Dancebreak', 'StartTimestamp1': datetime.time(2, 45), 'EndTimestamp1': datetime.time(3, 35), 'Additional1': None, 'YTURL2': 'https://youtu.be/VMKeCj6RZN8?si=-Wl4Zr-t7lhWCaC_', 'Artist2': 'exo', 'Title2': 'growl', 'Part2': 'Chorus 2', 'StartTimestamp2': datetime.time(1, 31), 'EndTimestamp2': datetime.time(2, 16), 'Additional2': None}\n",
      "{'SubmitDateTime': datetime.datetime(2024, 3, 8, 22, 55, 37), 'Mail': 'lerachaban06@gmail.com', 'Language': '🇩🇪 Deutsch', 'PreferredCommunication': 'Instagram', 'Instagram': 'lee_h0__', 'InstagramProfileURL': 'https://www.instagram.com/lee_h0__/', 'WhatsApp': '', 'WhatsAppURL': '', 'FurtherContact': None, 'YTURL1': 'https://youtu.be/CD2S-RfxZTA?si=IpEn9v-8NCmg2dMx', 'Artist1': 'NAYEON', 'Title1': 'ABCD', 'Part1': 'Chorus 1', 'StartTimestamp1': datetime.time(0, 37), 'EndTimestamp1': datetime.time(1, 11), 'Additional1': None, 'YTURL2': 'https://youtu.be/xWYqQfCKH24?si=zgNshGtclJluqTdb', 'Artist2': 'TXT', 'Title2': 'Deja Vu', 'Part2': 'Chorus 1', 'StartTimestamp2': datetime.time(0, 37), 'EndTimestamp2': datetime.time(1, 22), 'Additional2': None}\n",
      "{'SubmitDateTime': datetime.datetime(2024, 3, 8, 23, 5, 29), 'Mail': 'durhagerkonstantin@gmail.com', 'Language': '🇩🇪 Deutsch', 'PreferredCommunication': 'Instagram', 'Instagram': 'yuxchuu', 'InstagramProfileURL': 'https://www.instagram.com/yuxchuu/', 'WhatsApp': '', 'WhatsAppURL': '', 'FurtherContact': None, 'YTURL1': 'https://youtu.be/1UO9Do8uMDU?si=5uUTB7DZyPLns5L8', 'Artist1': 'Katseye', 'Title1': 'Touch', 'Part1': 'Chorus 1', 'StartTimestamp1': datetime.time(0, 38), 'EndTimestamp1': datetime.time(1, 10), 'Additional1': None, 'YTURL2': 'https://youtu.be/rx8P4FvgOWI?si=VfAnwc9Sc7iodKL0', 'Artist2': 'Everglow', 'Title2': 'Ladida', 'Part2': 'Dancebreak', 'StartTimestamp2': datetime.time(2, 23), 'EndTimestamp2': datetime.time(3, 35), 'Additional2': 'Bitte bis zum Ende laufen lassen💗'}\n",
      "{'SubmitDateTime': datetime.datetime(2024, 3, 8, 23, 11, 31), 'Mail': 'sofiroann@gmail.com', 'Language': '🇩🇪 Deutsch', 'PreferredCommunication': 'Instagram', 'Instagram': '@Hnandychuu', 'InstagramProfileURL': 'https://www.instagram.com/Hnandychuu/', 'WhatsApp': '4915140785364', 'WhatsAppURL': 'https://wa.me/4915140785364', 'FurtherContact': None, 'YTURL1': 'https://youtu.be/-rbZevzjpR0?si=7vu-voK9gvNGWSOr', 'Artist1': 'Txt', 'Title1': 'Cat&Dog', 'Part1': 'Chorus 2, Dancebreak', 'StartTimestamp1': datetime.time(2, 1), 'EndTimestamp1': datetime.time(3, 4), 'Additional1': None, 'YTURL2': 'https://youtu.be/qOzGVI8bt0E?si=j7h-MSKyLuO_5Wjn', 'Artist2': 'Itzy', 'Title2': 'Not shy', 'Part2': 'Dancebreak', 'StartTimestamp2': datetime.time(2, 15), 'EndTimestamp2': datetime.time(3, 0), 'Additional2': None}\n",
      "{'SubmitDateTime': datetime.datetime(2024, 3, 8, 23, 12, 53), 'Mail': 'majaaskoorzak@gmail.com', 'Language': '🇩🇪 Deutsch', 'PreferredCommunication': 'Instagram', 'Instagram': '@majaatheebee', 'InstagramProfileURL': 'https://www.instagram.com/majaatheebee/', 'WhatsApp': '', 'WhatsAppURL': 'https://wa.me/', 'FurtherContact': '/', 'YTURL1': 'https://youtu.be/etmPtqTgHFU?si=4yt4p9lp4AEFM40O', 'Artist1': 'Xikers', 'Title1': 'Red sun', 'Part1': 'Chorus 1', 'StartTimestamp1': datetime.time(0, 50), 'EndTimestamp1': datetime.time(1, 27), 'Additional1': '/', 'YTURL2': 'https://youtu.be/7tJqneCeGi8?si=SS8DvJxrE4zu2RXP', 'Artist2': 'Dreamcatcher', 'Title2': 'Justice', 'Part2': 'Chorus 1', 'StartTimestamp2': datetime.time(0, 40), 'EndTimestamp2': datetime.time(1, 21), 'Additional2': '/'}\n",
      "{'SubmitDateTime': datetime.datetime(2024, 3, 8, 23, 51, 44), 'Mail': 'manuelawinchenbach@gmail.com', 'Language': '🇬🇧 English', 'PreferredCommunication': 'WhatsApp', 'Instagram': '', 'InstagramProfileURL': '', 'WhatsApp': '4915222728894', 'WhatsAppURL': 'https://wa.me/4915222728894', 'FurtherContact': None, 'YTURL1': 'https://youtu.be/D0GaZFwNdlU?si=iojkIiOwinvXrZdl', 'Artist1': 'Stray Kids', 'Title1': 'Chk Chk Boom', 'Part1': 'Chorus 2, Dancebreak', 'StartTimestamp1': datetime.time(1, 40), 'EndTimestamp1': datetime.time(2, 22), 'Additional1': None, 'YTURL2': 'https://youtu.be/jR6P_8-xp8U?si=LWuToLJlgmXWW5YW', 'Artist2': 'BABYMONSTER', 'Title2': 'FOREVER', 'Part2': 'Chorus 1', 'StartTimestamp2': datetime.time(0, 50), 'EndTimestamp2': datetime.time(1, 25), 'Additional2': None}\n"
     ]
    }
   ],
   "source": [
    "wb = load_workbook(filename=\"songwish.xlsx\", data_only=True)\n",
    "sheet = wb[\"Songwish\"]\n",
    "\n",
    "song_wish = []\n",
    "\n",
    "for x in range(2, sheet.max_row + 1):\n",
    "\n",
    "    nickname = \"\"\n",
    "    ig_profile_url = \"\"\n",
    "    if sheet.cell(x,5).value != None:\n",
    "        nickname = sheet.cell(x,5).value\n",
    "        if nickname[0] == \"@\":\n",
    "            ig_profile_url = f\"https://www.instagram.com/{nickname[1:]}/\"\n",
    "        else:\n",
    "            ig_profile_url = f\"https://www.instagram.com/{nickname}/\"\n",
    "    \n",
    "    whatsApp = \"\"\n",
    "    whatsApp_url = \"\"\n",
    "    if sheet.cell(x,6).value != None:\n",
    "        whatsApp = ''.join(e for e in str(str(sheet.cell(x,6).value)) if e.isalnum()).lower()\n",
    "        whatsApp_url = f\"https://wa.me/{whatsApp}\"\n",
    "\n",
    "    \n",
    "\n",
    "\n",
    "    song_wish.append({\n",
    "        \"SubmitDateTime\": sheet.cell(x,1).value,\n",
    "        \"Mail\": sheet.cell(x,2).value,\n",
    "        \"Language\": sheet.cell(x,3).value,\n",
    "        \"PreferredCommunication\": sheet.cell(x,4).value,\n",
    "        \"Instagram\": nickname,\n",
    "        \"InstagramProfileURL\": ig_profile_url,\n",
    "        \"WhatsApp\": whatsApp,\n",
    "        \"WhatsAppURL\": whatsApp_url,\n",
    "        \"FurtherContact\": sheet.cell(x,7).value,\n",
    "        \"YTURL1\": sheet.cell(x,8).value,\n",
    "        \"Artist1\": sheet.cell(x,9).value,\n",
    "        \"Title1\": sheet.cell(x,10).value,\n",
    "        \"Part1\": sheet.cell(x,11).value,\n",
    "        \"StartTimestamp1\": sheet.cell(x,12).value,\n",
    "        \"EndTimestamp1\": sheet.cell(x,13).value,\n",
    "        \"Additional1\": sheet.cell(x,14).value,\n",
    "        \"YTURL2\": sheet.cell(x,15).value,\n",
    "        \"Artist2\": sheet.cell(x,16).value,\n",
    "        \"Title2\": sheet.cell(x,17).value,\n",
    "        \"Part2\": sheet.cell(x,18).value,\n",
    "        \"StartTimestamp2\": sheet.cell(x,19).value,\n",
    "        \"EndTimestamp2\": sheet.cell(x,20).value,\n",
    "        \"Additional2\": sheet.cell(x,21).value\n",
    "    })\n",
    "\n",
    "wb.close()\n",
    "\n",
    "for x in song_wish:\n",
    "    print(x)"
   ]
  },
  {
   "cell_type": "code",
   "execution_count": 9,
   "metadata": {},
   "outputs": [
    {
     "name": "stdout",
     "output_type": "stream",
     "text": [
      "kep1er - problem\n",
      "[youtube] Extracting URL: https://youtu.be/L8lnkNBoEI8?si=4d2rSL0rK0-GcSop\n",
      "[youtube] L8lnkNBoEI8: Downloading webpage\n",
      "[youtube] L8lnkNBoEI8: Downloading ios player API JSON\n",
      "[youtube] L8lnkNBoEI8: Downloading android player API JSON\n"
     ]
    },
    {
     "name": "stderr",
     "output_type": "stream",
     "text": [
      "WARNING: [youtube] L8lnkNBoEI8: nsig extraction failed: You may experience throttling for some formats\n",
      "         Install PhantomJS to workaround the issue. Please download it from https://phantomjs.org/download.html\n",
      "         n = VU8gc_yZfz8-9kt-9 ; player = https://www.youtube.com/s/player/28fd7348/player_ias.vflset/en_US/base.js\n",
      "WARNING: [youtube] L8lnkNBoEI8: nsig extraction failed: You may experience throttling for some formats\n",
      "         Install PhantomJS to workaround the issue. Please download it from https://phantomjs.org/download.html\n",
      "         n = 5j4VnD47joELU0TQL ; player = https://www.youtube.com/s/player/28fd7348/player_ias.vflset/en_US/base.js\n"
     ]
    },
    {
     "name": "stdout",
     "output_type": "stream",
     "text": [
      "[youtube] L8lnkNBoEI8: Downloading m3u8 information\n",
      "kissoflife - sticky\n",
      "[youtube] Extracting URL: https://youtu.be/GS44Qxh8yzU?si=gho7OrZKp_Ft2RMU\n",
      "[youtube] GS44Qxh8yzU: Downloading webpage\n",
      "[youtube] GS44Qxh8yzU: Downloading ios player API JSON\n",
      "[youtube] GS44Qxh8yzU: Downloading android player API JSON\n"
     ]
    },
    {
     "name": "stderr",
     "output_type": "stream",
     "text": [
      "WARNING: [youtube] GS44Qxh8yzU: nsig extraction failed: You may experience throttling for some formats\n",
      "         Install PhantomJS to workaround the issue. Please download it from https://phantomjs.org/download.html\n",
      "         n = FkzAXQj9t579t7YoR ; player = https://www.youtube.com/s/player/28fd7348/player_ias.vflset/en_US/base.js\n",
      "WARNING: [youtube] GS44Qxh8yzU: nsig extraction failed: You may experience throttling for some formats\n",
      "         Install PhantomJS to workaround the issue. Please download it from https://phantomjs.org/download.html\n",
      "         n = jEo2sED5_w68LyWqf ; player = https://www.youtube.com/s/player/28fd7348/player_ias.vflset/en_US/base.js\n"
     ]
    },
    {
     "name": "stdout",
     "output_type": "stream",
     "text": [
      "[youtube] GS44Qxh8yzU: Downloading m3u8 information\n",
      "runext - run\n",
      "[youtube] Extracting URL: https://youtu.be/hXa_iautETc?si=e24dpSI2v8Dh1f5J\n",
      "[youtube] hXa_iautETc: Downloading webpage\n",
      "[youtube] hXa_iautETc: Downloading ios player API JSON\n",
      "[youtube] hXa_iautETc: Downloading android player API JSON\n"
     ]
    },
    {
     "name": "stderr",
     "output_type": "stream",
     "text": [
      "WARNING: [youtube] hXa_iautETc: nsig extraction failed: You may experience throttling for some formats\n",
      "         Install PhantomJS to workaround the issue. Please download it from https://phantomjs.org/download.html\n",
      "         n = jMl2pqPMf-CWY87_J ; player = https://www.youtube.com/s/player/28fd7348/player_ias.vflset/en_US/base.js\n",
      "WARNING: [youtube] hXa_iautETc: nsig extraction failed: You may experience throttling for some formats\n",
      "         Install PhantomJS to workaround the issue. Please download it from https://phantomjs.org/download.html\n",
      "         n = qGSFZ6LBVxE1GMGWN ; player = https://www.youtube.com/s/player/28fd7348/player_ias.vflset/en_US/base.js\n"
     ]
    },
    {
     "name": "stdout",
     "output_type": "stream",
     "text": [
      "[youtube] hXa_iautETc: Downloading m3u8 information\n",
      "ive - eleven\n",
      "[youtube] Extracting URL: https://youtu.be/vtfljd-1sBk?si=5-3dREKsfDdwZX2l\n",
      "[youtube] vtfljd-1sBk: Downloading webpage\n",
      "[youtube] vtfljd-1sBk: Downloading ios player API JSON\n",
      "[youtube] vtfljd-1sBk: Downloading android player API JSON\n"
     ]
    },
    {
     "name": "stderr",
     "output_type": "stream",
     "text": [
      "WARNING: [youtube] vtfljd-1sBk: nsig extraction failed: You may experience throttling for some formats\n",
      "         Install PhantomJS to workaround the issue. Please download it from https://phantomjs.org/download.html\n",
      "         n = MikzzfcSWikO31h01 ; player = https://www.youtube.com/s/player/28fd7348/player_ias.vflset/en_US/base.js\n",
      "WARNING: [youtube] vtfljd-1sBk: nsig extraction failed: You may experience throttling for some formats\n",
      "         Install PhantomJS to workaround the issue. Please download it from https://phantomjs.org/download.html\n",
      "         n = wSfLYzUjW5aLCpHUB ; player = https://www.youtube.com/s/player/28fd7348/player_ias.vflset/en_US/base.js\n"
     ]
    },
    {
     "name": "stdout",
     "output_type": "stream",
     "text": [
      "[youtube] vtfljd-1sBk: Downloading m3u8 information\n",
      "waker - vanillachocoshake\n",
      "[youtube] Extracting URL: https://youtu.be/Qcl5xq9Xs-k?si=h2CLRMWD6CRTrHyn\n",
      "[youtube] Qcl5xq9Xs-k: Downloading webpage\n",
      "[youtube] Qcl5xq9Xs-k: Downloading ios player API JSON\n",
      "[youtube] Qcl5xq9Xs-k: Downloading android player API JSON\n"
     ]
    },
    {
     "name": "stderr",
     "output_type": "stream",
     "text": [
      "WARNING: [youtube] Qcl5xq9Xs-k: nsig extraction failed: You may experience throttling for some formats\n",
      "         Install PhantomJS to workaround the issue. Please download it from https://phantomjs.org/download.html\n",
      "         n = PZAvzB2WCPIp8BmcA ; player = https://www.youtube.com/s/player/28fd7348/player_ias.vflset/en_US/base.js\n",
      "WARNING: [youtube] Qcl5xq9Xs-k: nsig extraction failed: You may experience throttling for some formats\n",
      "         Install PhantomJS to workaround the issue. Please download it from https://phantomjs.org/download.html\n",
      "         n = wbogiHnemn827ybAP ; player = https://www.youtube.com/s/player/28fd7348/player_ias.vflset/en_US/base.js\n"
     ]
    },
    {
     "name": "stdout",
     "output_type": "stream",
     "text": [
      "[youtube] Qcl5xq9Xs-k: Downloading m3u8 information\n",
      "ateez - wave\n",
      "[youtube] Extracting URL: https://youtu.be/-7jLJmpnKLI?si=8pfUd8kIDemOyYhO\n",
      "[youtube] -7jLJmpnKLI: Downloading webpage\n",
      "[youtube] -7jLJmpnKLI: Downloading ios player API JSON\n",
      "[youtube] -7jLJmpnKLI: Downloading android player API JSON\n"
     ]
    },
    {
     "name": "stderr",
     "output_type": "stream",
     "text": [
      "WARNING: [youtube] -7jLJmpnKLI: nsig extraction failed: You may experience throttling for some formats\n",
      "         Install PhantomJS to workaround the issue. Please download it from https://phantomjs.org/download.html\n",
      "         n = iopAbgLC1IudqB3Bz ; player = https://www.youtube.com/s/player/28fd7348/player_ias.vflset/en_US/base.js\n",
      "WARNING: [youtube] -7jLJmpnKLI: nsig extraction failed: You may experience throttling for some formats\n",
      "         Install PhantomJS to workaround the issue. Please download it from https://phantomjs.org/download.html\n",
      "         n = eztLo-nKllnAb7vsK ; player = https://www.youtube.com/s/player/28fd7348/player_ias.vflset/en_US/base.js\n"
     ]
    },
    {
     "name": "stdout",
     "output_type": "stream",
     "text": [
      "[youtube] -7jLJmpnKLI: Downloading m3u8 information\n",
      "elast - gasoline\n",
      "[youtube] Extracting URL: https://youtu.be/GIUXZJni1cc?si=YKw6jn0zK1L4aAOb\n",
      "[youtube] GIUXZJni1cc: Downloading webpage\n",
      "[youtube] GIUXZJni1cc: Downloading ios player API JSON\n",
      "[youtube] GIUXZJni1cc: Downloading android player API JSON\n"
     ]
    },
    {
     "name": "stderr",
     "output_type": "stream",
     "text": [
      "WARNING: [youtube] GIUXZJni1cc: nsig extraction failed: You may experience throttling for some formats\n",
      "         Install PhantomJS to workaround the issue. Please download it from https://phantomjs.org/download.html\n",
      "         n = MopgOJvZOKDSLyOln ; player = https://www.youtube.com/s/player/28fd7348/player_ias.vflset/en_US/base.js\n",
      "WARNING: [youtube] GIUXZJni1cc: nsig extraction failed: You may experience throttling for some formats\n",
      "         Install PhantomJS to workaround the issue. Please download it from https://phantomjs.org/download.html\n",
      "         n = Nvwi6HFuSrPlhBby4 ; player = https://www.youtube.com/s/player/28fd7348/player_ias.vflset/en_US/base.js\n"
     ]
    },
    {
     "name": "stdout",
     "output_type": "stream",
     "text": [
      "[youtube] GIUXZJni1cc: Downloading m3u8 information\n",
      "ace - mygirl\n",
      "[youtube] Extracting URL: https://youtu.be/YVGKoXRX4yA?si=cNzuVAC_At6N1ZXU\n",
      "[youtube] YVGKoXRX4yA: Downloading webpage\n",
      "[youtube] YVGKoXRX4yA: Downloading ios player API JSON\n",
      "[youtube] YVGKoXRX4yA: Downloading android player API JSON\n"
     ]
    },
    {
     "name": "stderr",
     "output_type": "stream",
     "text": [
      "WARNING: [youtube] YVGKoXRX4yA: nsig extraction failed: You may experience throttling for some formats\n",
      "         Install PhantomJS to workaround the issue. Please download it from https://phantomjs.org/download.html\n",
      "         n = Cv6L-is5KwqHSIoba ; player = https://www.youtube.com/s/player/28fd7348/player_ias.vflset/en_US/base.js\n",
      "WARNING: [youtube] YVGKoXRX4yA: nsig extraction failed: You may experience throttling for some formats\n",
      "         Install PhantomJS to workaround the issue. Please download it from https://phantomjs.org/download.html\n",
      "         n = -FkUxUMTHwYMxBxm5 ; player = https://www.youtube.com/s/player/28fd7348/player_ias.vflset/en_US/base.js\n"
     ]
    },
    {
     "name": "stdout",
     "output_type": "stream",
     "text": [
      "[youtube] YVGKoXRX4yA: Downloading m3u8 information\n",
      "dino - wait\n",
      "[youtube] Extracting URL: https://youtu.be/4iT1Zer6kKU?si=bGNZaZynsaRtJiLw\n",
      "[youtube] 4iT1Zer6kKU: Downloading webpage\n",
      "[youtube] 4iT1Zer6kKU: Downloading ios player API JSON\n",
      "[youtube] 4iT1Zer6kKU: Downloading android player API JSON\n"
     ]
    },
    {
     "name": "stderr",
     "output_type": "stream",
     "text": [
      "WARNING: [youtube] 4iT1Zer6kKU: nsig extraction failed: You may experience throttling for some formats\n",
      "         Install PhantomJS to workaround the issue. Please download it from https://phantomjs.org/download.html\n",
      "         n = mJ7geRhBMInxq6g5r ; player = https://www.youtube.com/s/player/28fd7348/player_ias.vflset/en_US/base.js\n",
      "WARNING: [youtube] 4iT1Zer6kKU: nsig extraction failed: You may experience throttling for some formats\n",
      "         Install PhantomJS to workaround the issue. Please download it from https://phantomjs.org/download.html\n",
      "         n = wzrbSjU9nyB_MGyMp ; player = https://www.youtube.com/s/player/28fd7348/player_ias.vflset/en_US/base.js\n"
     ]
    },
    {
     "name": "stdout",
     "output_type": "stream",
     "text": [
      "[youtube] 4iT1Zer6kKU: Downloading m3u8 information\n",
      "hyo - dessert\n",
      "[youtube] Extracting URL: https://youtu.be/yLIXn_XVHVI?si=AyV1mRPzIwiv9PUw\n",
      "[youtube] yLIXn_XVHVI: Downloading webpage\n",
      "[youtube] yLIXn_XVHVI: Downloading ios player API JSON\n",
      "[youtube] yLIXn_XVHVI: Downloading android player API JSON\n"
     ]
    },
    {
     "name": "stderr",
     "output_type": "stream",
     "text": [
      "WARNING: [youtube] yLIXn_XVHVI: nsig extraction failed: You may experience throttling for some formats\n",
      "         Install PhantomJS to workaround the issue. Please download it from https://phantomjs.org/download.html\n",
      "         n = 6Kg_NsehsnzTaUoTG ; player = https://www.youtube.com/s/player/28fd7348/player_ias.vflset/en_US/base.js\n",
      "WARNING: [youtube] yLIXn_XVHVI: nsig extraction failed: You may experience throttling for some formats\n",
      "         Install PhantomJS to workaround the issue. Please download it from https://phantomjs.org/download.html\n",
      "         n = UyrnkhZAk189UCfeG ; player = https://www.youtube.com/s/player/28fd7348/player_ias.vflset/en_US/base.js\n"
     ]
    },
    {
     "name": "stdout",
     "output_type": "stream",
     "text": [
      "[youtube] yLIXn_XVHVI: Downloading m3u8 information\n",
      "thekingdom - flipthatcoin\n",
      "[youtube] Extracting URL: https://youtu.be/LjF4TDhJJ-Q?si=tYaEnjCFicjsdvAi \n",
      "[youtube] LjF4TDhJJ-Q: Downloading webpage\n",
      "[youtube] LjF4TDhJJ-Q: Downloading ios player API JSON\n",
      "[youtube] LjF4TDhJJ-Q: Downloading android player API JSON\n"
     ]
    },
    {
     "name": "stderr",
     "output_type": "stream",
     "text": [
      "WARNING: [youtube] LjF4TDhJJ-Q: nsig extraction failed: You may experience throttling for some formats\n",
      "         Install PhantomJS to workaround the issue. Please download it from https://phantomjs.org/download.html\n",
      "         n = NtqKBib1cin8e4v_9 ; player = https://www.youtube.com/s/player/28fd7348/player_ias.vflset/en_US/base.js\n",
      "WARNING: [youtube] LjF4TDhJJ-Q: nsig extraction failed: You may experience throttling for some formats\n",
      "         Install PhantomJS to workaround the issue. Please download it from https://phantomjs.org/download.html\n",
      "         n = xJWIuquUxjiN2NXPX ; player = https://www.youtube.com/s/player/28fd7348/player_ias.vflset/en_US/base.js\n"
     ]
    },
    {
     "name": "stdout",
     "output_type": "stream",
     "text": [
      "[youtube] LjF4TDhJJ-Q: Downloading m3u8 information\n",
      "infinite - thechaser\n",
      "[youtube] Extracting URL: https://youtu.be/VNl8PFup-hM?si=seQYa-3xlYYaJ1mR\n",
      "[youtube] VNl8PFup-hM: Downloading webpage\n",
      "[youtube] VNl8PFup-hM: Downloading ios player API JSON\n",
      "[youtube] VNl8PFup-hM: Downloading android player API JSON\n"
     ]
    },
    {
     "name": "stderr",
     "output_type": "stream",
     "text": [
      "WARNING: [youtube] VNl8PFup-hM: nsig extraction failed: You may experience throttling for some formats\n",
      "         Install PhantomJS to workaround the issue. Please download it from https://phantomjs.org/download.html\n",
      "         n = ns9ooBYNXMzu4mumG ; player = https://www.youtube.com/s/player/28fd7348/player_ias.vflset/en_US/base.js\n",
      "WARNING: [youtube] VNl8PFup-hM: nsig extraction failed: You may experience throttling for some formats\n",
      "         Install PhantomJS to workaround the issue. Please download it from https://phantomjs.org/download.html\n",
      "         n = 14sJcN1PGWcRXVgO9 ; player = https://www.youtube.com/s/player/28fd7348/player_ias.vflset/en_US/base.js\n"
     ]
    },
    {
     "name": "stdout",
     "output_type": "stream",
     "text": [
      "[youtube] VNl8PFup-hM: Downloading m3u8 information\n",
      "ive - accendio\n",
      "[youtube] Extracting URL: https://youtu.be/sG9RiH7Xpvg\n",
      "[youtube] sG9RiH7Xpvg: Downloading webpage\n",
      "[youtube] sG9RiH7Xpvg: Downloading ios player API JSON\n",
      "[youtube] sG9RiH7Xpvg: Downloading android player API JSON\n"
     ]
    },
    {
     "name": "stderr",
     "output_type": "stream",
     "text": [
      "WARNING: [youtube] sG9RiH7Xpvg: nsig extraction failed: You may experience throttling for some formats\n",
      "         Install PhantomJS to workaround the issue. Please download it from https://phantomjs.org/download.html\n",
      "         n = ofSL60bX0H3QmWrUi ; player = https://www.youtube.com/s/player/28fd7348/player_ias.vflset/en_US/base.js\n",
      "WARNING: [youtube] sG9RiH7Xpvg: nsig extraction failed: You may experience throttling for some formats\n",
      "         Install PhantomJS to workaround the issue. Please download it from https://phantomjs.org/download.html\n",
      "         n = Hd_NOsdhknZ-xn7W5 ; player = https://www.youtube.com/s/player/28fd7348/player_ias.vflset/en_US/base.js\n"
     ]
    },
    {
     "name": "stdout",
     "output_type": "stream",
     "text": [
      "[youtube] sG9RiH7Xpvg: Downloading m3u8 information\n",
      "ive - accendio\n",
      "[youtube] Extracting URL: https://youtu.be/sG9RiH7Xpvg\n",
      "[youtube] sG9RiH7Xpvg: Downloading webpage\n",
      "[youtube] sG9RiH7Xpvg: Downloading ios player API JSON\n",
      "[youtube] sG9RiH7Xpvg: Downloading android player API JSON\n"
     ]
    },
    {
     "name": "stderr",
     "output_type": "stream",
     "text": [
      "WARNING: [youtube] sG9RiH7Xpvg: nsig extraction failed: You may experience throttling for some formats\n",
      "         Install PhantomJS to workaround the issue. Please download it from https://phantomjs.org/download.html\n",
      "         n = Q1CCQz514Sa0RIAGo ; player = https://www.youtube.com/s/player/28fd7348/player_ias.vflset/en_US/base.js\n",
      "WARNING: [youtube] sG9RiH7Xpvg: nsig extraction failed: You may experience throttling for some formats\n",
      "         Install PhantomJS to workaround the issue. Please download it from https://phantomjs.org/download.html\n",
      "         n = cFCK3bNgidxFve0DP ; player = https://www.youtube.com/s/player/28fd7348/player_ias.vflset/en_US/base.js\n"
     ]
    },
    {
     "name": "stdout",
     "output_type": "stream",
     "text": [
      "[youtube] sG9RiH7Xpvg: Downloading m3u8 information\n",
      "tws - doubletake\n",
      "[youtube] Extracting URL: https://youtu.be/1mHAjV49cog?si=wzB85yAjbpKf6-Ph\n",
      "[youtube] 1mHAjV49cog: Downloading webpage\n",
      "[youtube] 1mHAjV49cog: Downloading ios player API JSON\n",
      "[youtube] 1mHAjV49cog: Downloading android player API JSON\n"
     ]
    },
    {
     "name": "stderr",
     "output_type": "stream",
     "text": [
      "WARNING: [youtube] 1mHAjV49cog: nsig extraction failed: You may experience throttling for some formats\n",
      "         Install PhantomJS to workaround the issue. Please download it from https://phantomjs.org/download.html\n",
      "         n = mDL_AnGMJDsajoBXl ; player = https://www.youtube.com/s/player/28fd7348/player_ias.vflset/en_US/base.js\n",
      "WARNING: [youtube] 1mHAjV49cog: nsig extraction failed: You may experience throttling for some formats\n",
      "         Install PhantomJS to workaround the issue. Please download it from https://phantomjs.org/download.html\n",
      "         n = wvAkDufqmmOO58xCB ; player = https://www.youtube.com/s/player/28fd7348/player_ias.vflset/en_US/base.js\n"
     ]
    },
    {
     "name": "stdout",
     "output_type": "stream",
     "text": [
      "[youtube] 1mHAjV49cog: Downloading m3u8 information\n",
      "joyuri - loveshhh\n",
      "[youtube] Extracting URL: https://youtu.be/H9I6045-Zl0?si=djJhL0v7sQKJd59N\n",
      "[youtube] H9I6045-Zl0: Downloading webpage\n",
      "[youtube] H9I6045-Zl0: Downloading ios player API JSON\n",
      "[youtube] H9I6045-Zl0: Downloading android player API JSON\n"
     ]
    },
    {
     "name": "stderr",
     "output_type": "stream",
     "text": [
      "WARNING: [youtube] H9I6045-Zl0: nsig extraction failed: You may experience throttling for some formats\n",
      "         Install PhantomJS to workaround the issue. Please download it from https://phantomjs.org/download.html\n",
      "         n = -2yjl-rm96FM-oDRY ; player = https://www.youtube.com/s/player/28fd7348/player_ias.vflset/en_US/base.js\n",
      "WARNING: [youtube] H9I6045-Zl0: nsig extraction failed: You may experience throttling for some formats\n",
      "         Install PhantomJS to workaround the issue. Please download it from https://phantomjs.org/download.html\n",
      "         n = et9Plpv410oE4Xx9t ; player = https://www.youtube.com/s/player/28fd7348/player_ias.vflset/en_US/base.js\n"
     ]
    },
    {
     "name": "stdout",
     "output_type": "stream",
     "text": [
      "[youtube] H9I6045-Zl0: Downloading m3u8 information\n",
      "baekhyun - getyoualone\n",
      "[youtube] Extracting URL: https://youtu.be/r8c3bGsDdS8?si=T3TlaOzrsoaRgtTY\n",
      "[youtube] r8c3bGsDdS8: Downloading webpage\n",
      "[youtube] r8c3bGsDdS8: Downloading ios player API JSON\n",
      "[youtube] r8c3bGsDdS8: Downloading android player API JSON\n"
     ]
    },
    {
     "name": "stderr",
     "output_type": "stream",
     "text": [
      "WARNING: [youtube] r8c3bGsDdS8: nsig extraction failed: You may experience throttling for some formats\n",
      "         Install PhantomJS to workaround the issue. Please download it from https://phantomjs.org/download.html\n",
      "         n = rUhSDpWP2GwHo7BmR ; player = https://www.youtube.com/s/player/28fd7348/player_ias.vflset/en_US/base.js\n",
      "WARNING: [youtube] r8c3bGsDdS8: nsig extraction failed: You may experience throttling for some formats\n",
      "         Install PhantomJS to workaround the issue. Please download it from https://phantomjs.org/download.html\n",
      "         n = ZfX_ZUi3VQIh6MFxN ; player = https://www.youtube.com/s/player/28fd7348/player_ias.vflset/en_US/base.js\n"
     ]
    },
    {
     "name": "stdout",
     "output_type": "stream",
     "text": [
      "[youtube] r8c3bGsDdS8: Downloading m3u8 information\n",
      "exo - tempo\n",
      "[youtube] Extracting URL: https://youtu.be/b1pp4mE57gI?si=1CC5mphH_Ff6m8RH\n",
      "[youtube] b1pp4mE57gI: Downloading webpage\n",
      "[youtube] b1pp4mE57gI: Downloading ios player API JSON\n",
      "[youtube] b1pp4mE57gI: Downloading android player API JSON\n"
     ]
    },
    {
     "name": "stderr",
     "output_type": "stream",
     "text": [
      "WARNING: [youtube] b1pp4mE57gI: nsig extraction failed: You may experience throttling for some formats\n",
      "         Install PhantomJS to workaround the issue. Please download it from https://phantomjs.org/download.html\n",
      "         n = ZzgdqyeuSYE3uBEXT ; player = https://www.youtube.com/s/player/28fd7348/player_ias.vflset/en_US/base.js\n",
      "WARNING: [youtube] b1pp4mE57gI: nsig extraction failed: You may experience throttling for some formats\n",
      "         Install PhantomJS to workaround the issue. Please download it from https://phantomjs.org/download.html\n",
      "         n = InUZgtTXpflWBARt3 ; player = https://www.youtube.com/s/player/28fd7348/player_ias.vflset/en_US/base.js\n"
     ]
    },
    {
     "name": "stdout",
     "output_type": "stream",
     "text": [
      "[youtube] b1pp4mE57gI: Downloading m3u8 information\n",
      "theboyz - gibberish\n",
      "[youtube] Extracting URL: https://youtu.be/tQjQe_4kX4M?si=mmGhPXkgFcAG0tAt\n",
      "[youtube] tQjQe_4kX4M: Downloading webpage\n",
      "[youtube] tQjQe_4kX4M: Downloading ios player API JSON\n",
      "[youtube] tQjQe_4kX4M: Downloading android player API JSON\n"
     ]
    },
    {
     "name": "stderr",
     "output_type": "stream",
     "text": [
      "WARNING: [youtube] tQjQe_4kX4M: nsig extraction failed: You may experience throttling for some formats\n",
      "         Install PhantomJS to workaround the issue. Please download it from https://phantomjs.org/download.html\n",
      "         n = k0MWZ3Ag3WR1WzPzB ; player = https://www.youtube.com/s/player/28fd7348/player_ias.vflset/en_US/base.js\n",
      "WARNING: [youtube] tQjQe_4kX4M: nsig extraction failed: You may experience throttling for some formats\n",
      "         Install PhantomJS to workaround the issue. Please download it from https://phantomjs.org/download.html\n",
      "         n = 0It2KkBpEhY2fk5s8 ; player = https://www.youtube.com/s/player/28fd7348/player_ias.vflset/en_US/base.js\n"
     ]
    },
    {
     "name": "stdout",
     "output_type": "stream",
     "text": [
      "[youtube] tQjQe_4kX4M: Downloading m3u8 information\n",
      "xg - somethingaintright\n",
      "[youtube] Extracting URL: https://youtu.be/a857W_sify8?si=Ci32hq5IMXScZlkc\n",
      "[youtube] a857W_sify8: Downloading webpage\n",
      "[youtube] a857W_sify8: Downloading ios player API JSON\n",
      "[youtube] a857W_sify8: Downloading android player API JSON\n"
     ]
    },
    {
     "name": "stderr",
     "output_type": "stream",
     "text": [
      "WARNING: [youtube] a857W_sify8: nsig extraction failed: You may experience throttling for some formats\n",
      "         Install PhantomJS to workaround the issue. Please download it from https://phantomjs.org/download.html\n",
      "         n = i3jReceK4d22vcN9D ; player = https://www.youtube.com/s/player/28fd7348/player_ias.vflset/en_US/base.js\n",
      "WARNING: [youtube] a857W_sify8: nsig extraction failed: You may experience throttling for some formats\n",
      "         Install PhantomJS to workaround the issue. Please download it from https://phantomjs.org/download.html\n",
      "         n = PNqnCHRYbQH4tpMrL ; player = https://www.youtube.com/s/player/28fd7348/player_ias.vflset/en_US/base.js\n"
     ]
    },
    {
     "name": "stdout",
     "output_type": "stream",
     "text": [
      "[youtube] a857W_sify8: Downloading m3u8 information\n",
      "gugudanoguogu - icechu\n",
      "[youtube] Extracting URL: https://youtu.be/_ah370LXxZg?si=CRRfaeyw883qI-Wg\n",
      "[youtube] _ah370LXxZg: Downloading webpage\n",
      "[youtube] _ah370LXxZg: Downloading ios player API JSON\n",
      "[youtube] _ah370LXxZg: Downloading android player API JSON\n"
     ]
    },
    {
     "name": "stderr",
     "output_type": "stream",
     "text": [
      "WARNING: [youtube] _ah370LXxZg: nsig extraction failed: You may experience throttling for some formats\n",
      "         Install PhantomJS to workaround the issue. Please download it from https://phantomjs.org/download.html\n",
      "         n = GwtrlwXkOnD-CUQo9 ; player = https://www.youtube.com/s/player/28fd7348/player_ias.vflset/en_US/base.js\n",
      "WARNING: [youtube] _ah370LXxZg: nsig extraction failed: You may experience throttling for some formats\n",
      "         Install PhantomJS to workaround the issue. Please download it from https://phantomjs.org/download.html\n",
      "         n = raxbnu8x-awatEB9a ; player = https://www.youtube.com/s/player/28fd7348/player_ias.vflset/en_US/base.js\n"
     ]
    },
    {
     "name": "stdout",
     "output_type": "stream",
     "text": [
      "[youtube] _ah370LXxZg: Downloading m3u8 information\n",
      "ichillin - kickstart\n",
      "[youtube] Extracting URL: https://youtu.be/I9aDYGCAmc8?si=rwFDawZzXVdz_xqD\n",
      "[youtube] I9aDYGCAmc8: Downloading webpage\n",
      "[youtube] I9aDYGCAmc8: Downloading ios player API JSON\n",
      "[youtube] I9aDYGCAmc8: Downloading android player API JSON\n"
     ]
    },
    {
     "name": "stderr",
     "output_type": "stream",
     "text": [
      "WARNING: [youtube] I9aDYGCAmc8: nsig extraction failed: You may experience throttling for some formats\n",
      "         Install PhantomJS to workaround the issue. Please download it from https://phantomjs.org/download.html\n",
      "         n = Moa15rQDz4AVvlxV3 ; player = https://www.youtube.com/s/player/28fd7348/player_ias.vflset/en_US/base.js\n",
      "WARNING: [youtube] I9aDYGCAmc8: nsig extraction failed: You may experience throttling for some formats\n",
      "         Install PhantomJS to workaround the issue. Please download it from https://phantomjs.org/download.html\n",
      "         n = Mm6dzmasRN2j9qk1K ; player = https://www.youtube.com/s/player/28fd7348/player_ias.vflset/en_US/base.js\n"
     ]
    },
    {
     "name": "stdout",
     "output_type": "stream",
     "text": [
      "[youtube] I9aDYGCAmc8: Downloading m3u8 information\n",
      "xikers - redsun\n",
      "[youtube] Extracting URL: https://youtu.be/etmPtqTgHFU?si=aN0Eg4yP95_tGinI\n",
      "[youtube] etmPtqTgHFU: Downloading webpage\n",
      "[youtube] etmPtqTgHFU: Downloading ios player API JSON\n",
      "[youtube] etmPtqTgHFU: Downloading android player API JSON\n"
     ]
    },
    {
     "name": "stderr",
     "output_type": "stream",
     "text": [
      "WARNING: [youtube] etmPtqTgHFU: nsig extraction failed: You may experience throttling for some formats\n",
      "         Install PhantomJS to workaround the issue. Please download it from https://phantomjs.org/download.html\n",
      "         n = oxOi3-aXxd1YJYg4G ; player = https://www.youtube.com/s/player/28fd7348/player_ias.vflset/en_US/base.js\n",
      "WARNING: [youtube] etmPtqTgHFU: nsig extraction failed: You may experience throttling for some formats\n",
      "         Install PhantomJS to workaround the issue. Please download it from https://phantomjs.org/download.html\n",
      "         n = FQh0Rj1UaW-bihbKT ; player = https://www.youtube.com/s/player/28fd7348/player_ias.vflset/en_US/base.js\n"
     ]
    },
    {
     "name": "stdout",
     "output_type": "stream",
     "text": [
      "[youtube] etmPtqTgHFU: Downloading m3u8 information\n",
      "lucas - dipitlow\n",
      "[youtube] Extracting URL: https://youtu.be/tl_ltp70GAM?si=YkS1EVanHqGS0e6B\n",
      "[youtube] tl_ltp70GAM: Downloading webpage\n",
      "[youtube] tl_ltp70GAM: Downloading ios player API JSON\n",
      "[youtube] tl_ltp70GAM: Downloading android player API JSON\n"
     ]
    },
    {
     "name": "stderr",
     "output_type": "stream",
     "text": [
      "WARNING: [youtube] tl_ltp70GAM: nsig extraction failed: You may experience throttling for some formats\n",
      "         Install PhantomJS to workaround the issue. Please download it from https://phantomjs.org/download.html\n",
      "         n = xBq5lQEAUbtBLtI0O ; player = https://www.youtube.com/s/player/28fd7348/player_ias.vflset/en_US/base.js\n",
      "WARNING: [youtube] tl_ltp70GAM: nsig extraction failed: You may experience throttling for some formats\n",
      "         Install PhantomJS to workaround the issue. Please download it from https://phantomjs.org/download.html\n",
      "         n = 3ILaYC31vOOhjwo_6 ; player = https://www.youtube.com/s/player/28fd7348/player_ias.vflset/en_US/base.js\n"
     ]
    },
    {
     "name": "stdout",
     "output_type": "stream",
     "text": [
      "[youtube] tl_ltp70GAM: Downloading m3u8 information\n",
      "chungha - snapping\n",
      "[youtube] Extracting URL: https://youtu.be/9PZp0t5xrhc?si=6A14B_SwT0G0EMa9\n",
      "[youtube] 9PZp0t5xrhc: Downloading webpage\n",
      "[youtube] 9PZp0t5xrhc: Downloading ios player API JSON\n",
      "[youtube] 9PZp0t5xrhc: Downloading android player API JSON\n"
     ]
    },
    {
     "name": "stderr",
     "output_type": "stream",
     "text": [
      "WARNING: [youtube] 9PZp0t5xrhc: nsig extraction failed: You may experience throttling for some formats\n",
      "         Install PhantomJS to workaround the issue. Please download it from https://phantomjs.org/download.html\n",
      "         n = kR-1RCgqhVFQ0WSFq ; player = https://www.youtube.com/s/player/28fd7348/player_ias.vflset/en_US/base.js\n",
      "WARNING: [youtube] 9PZp0t5xrhc: nsig extraction failed: You may experience throttling for some formats\n",
      "         Install PhantomJS to workaround the issue. Please download it from https://phantomjs.org/download.html\n",
      "         n = ULRDbcQg2r3CmWOFo ; player = https://www.youtube.com/s/player/28fd7348/player_ias.vflset/en_US/base.js\n"
     ]
    },
    {
     "name": "stdout",
     "output_type": "stream",
     "text": [
      "[youtube] 9PZp0t5xrhc: Downloading m3u8 information\n",
      "hyoyeon - wannabe\n",
      "[youtube] Extracting URL: https://youtu.be/B94Ya_6QS7g?si=a6K9SiudzDTLjyH_\n",
      "[youtube] B94Ya_6QS7g: Downloading webpage\n",
      "[youtube] B94Ya_6QS7g: Downloading ios player API JSON\n",
      "[youtube] B94Ya_6QS7g: Downloading android player API JSON\n"
     ]
    },
    {
     "name": "stderr",
     "output_type": "stream",
     "text": [
      "WARNING: [youtube] B94Ya_6QS7g: nsig extraction failed: You may experience throttling for some formats\n",
      "         Install PhantomJS to workaround the issue. Please download it from https://phantomjs.org/download.html\n",
      "         n = 3jeo6m3NfMuSD1M1N ; player = https://www.youtube.com/s/player/28fd7348/player_ias.vflset/en_US/base.js\n"
     ]
    },
    {
     "name": "stdout",
     "output_type": "stream",
     "text": [
      "[youtube] B94Ya_6QS7g: Downloading m3u8 information\n",
      "arrc - dummy\n",
      "[youtube] Extracting URL: https://youtu.be/6mTa_slnn10?si=12VItfqFyD_anMYq\n",
      "[youtube] 6mTa_slnn10: Downloading webpage\n",
      "[youtube] 6mTa_slnn10: Downloading ios player API JSON\n",
      "[youtube] 6mTa_slnn10: Downloading android player API JSON\n"
     ]
    },
    {
     "name": "stderr",
     "output_type": "stream",
     "text": [
      "WARNING: [youtube] 6mTa_slnn10: nsig extraction failed: You may experience throttling for some formats\n",
      "         Install PhantomJS to workaround the issue. Please download it from https://phantomjs.org/download.html\n",
      "         n = dH1OQb7GDY_ITCGqX ; player = https://www.youtube.com/s/player/28fd7348/player_ias.vflset/en_US/base.js\n",
      "WARNING: [youtube] 6mTa_slnn10: nsig extraction failed: You may experience throttling for some formats\n",
      "         Install PhantomJS to workaround the issue. Please download it from https://phantomjs.org/download.html\n",
      "         n = nZPbP2VY0MbaVuPrN ; player = https://www.youtube.com/s/player/28fd7348/player_ias.vflset/en_US/base.js\n"
     ]
    },
    {
     "name": "stdout",
     "output_type": "stream",
     "text": [
      "[youtube] 6mTa_slnn10: Downloading m3u8 information\n",
      "82major - choke\n",
      "[youtube] Extracting URL: https://youtu.be/4ef4ztv44uE?si=-NwQOn4ch01LKjSP\n",
      "[youtube] 4ef4ztv44uE: Downloading webpage\n",
      "[youtube] 4ef4ztv44uE: Downloading ios player API JSON\n",
      "[youtube] 4ef4ztv44uE: Downloading android player API JSON\n"
     ]
    },
    {
     "name": "stderr",
     "output_type": "stream",
     "text": [
      "WARNING: [youtube] 4ef4ztv44uE: nsig extraction failed: You may experience throttling for some formats\n",
      "         Install PhantomJS to workaround the issue. Please download it from https://phantomjs.org/download.html\n",
      "         n = GgN6aRkR32G3iyqJ9 ; player = https://www.youtube.com/s/player/28fd7348/player_ias.vflset/en_US/base.js\n",
      "WARNING: [youtube] 4ef4ztv44uE: nsig extraction failed: You may experience throttling for some formats\n",
      "         Install PhantomJS to workaround the issue. Please download it from https://phantomjs.org/download.html\n",
      "         n = I_23EMuA_OWJXygkX ; player = https://www.youtube.com/s/player/28fd7348/player_ias.vflset/en_US/base.js\n"
     ]
    },
    {
     "name": "stdout",
     "output_type": "stream",
     "text": [
      "[youtube] 4ef4ztv44uE: Downloading m3u8 information\n",
      "taemin - idea\n",
      "[youtube] Extracting URL: https://youtu.be/WEwCHTOx3RE?si=jTOKYpJr4mFDHO4h\n",
      "[youtube] WEwCHTOx3RE: Downloading webpage\n",
      "[youtube] WEwCHTOx3RE: Downloading ios player API JSON\n",
      "[youtube] WEwCHTOx3RE: Downloading android player API JSON\n"
     ]
    },
    {
     "name": "stderr",
     "output_type": "stream",
     "text": [
      "WARNING: [youtube] WEwCHTOx3RE: nsig extraction failed: You may experience throttling for some formats\n",
      "         Install PhantomJS to workaround the issue. Please download it from https://phantomjs.org/download.html\n",
      "         n = sFGeNfLzsA56BPlUo ; player = https://www.youtube.com/s/player/28fd7348/player_ias.vflset/en_US/base.js\n",
      "WARNING: [youtube] WEwCHTOx3RE: nsig extraction failed: You may experience throttling for some formats\n",
      "         Install PhantomJS to workaround the issue. Please download it from https://phantomjs.org/download.html\n",
      "         n = g1bWpVXxGFv_Xj675 ; player = https://www.youtube.com/s/player/28fd7348/player_ias.vflset/en_US/base.js\n"
     ]
    },
    {
     "name": "stdout",
     "output_type": "stream",
     "text": [
      "[youtube] WEwCHTOx3RE: Downloading m3u8 information\n",
      "hoshi - spider\n",
      "[youtube] Extracting URL: https://youtu.be/r8c3bGsDdS8?si=T3TlaOzrsoaRgtTY\n",
      "[youtube] r8c3bGsDdS8: Downloading webpage\n",
      "[youtube] r8c3bGsDdS8: Downloading ios player API JSON\n",
      "[youtube] r8c3bGsDdS8: Downloading android player API JSON\n"
     ]
    },
    {
     "name": "stderr",
     "output_type": "stream",
     "text": [
      "WARNING: [youtube] r8c3bGsDdS8: nsig extraction failed: You may experience throttling for some formats\n",
      "         Install PhantomJS to workaround the issue. Please download it from https://phantomjs.org/download.html\n",
      "         n = _GCkGrkiF_kS5nbYg ; player = https://www.youtube.com/s/player/28fd7348/player_ias.vflset/en_US/base.js\n",
      "WARNING: [youtube] r8c3bGsDdS8: nsig extraction failed: You may experience throttling for some formats\n",
      "         Install PhantomJS to workaround the issue. Please download it from https://phantomjs.org/download.html\n",
      "         n = PPH0jSYJZpLiqxctv ; player = https://www.youtube.com/s/player/28fd7348/player_ias.vflset/en_US/base.js\n"
     ]
    },
    {
     "name": "stdout",
     "output_type": "stream",
     "text": [
      "[youtube] r8c3bGsDdS8: Downloading m3u8 information\n",
      "boa - myname\n",
      "[youtube] Extracting URL: https://youtu.be/3xJYmM_NWgo?si=T8xAH7e220TcwB_2\n",
      "[youtube] 3xJYmM_NWgo: Downloading webpage\n",
      "[youtube] 3xJYmM_NWgo: Downloading ios player API JSON\n",
      "[youtube] 3xJYmM_NWgo: Downloading android player API JSON\n"
     ]
    },
    {
     "name": "stderr",
     "output_type": "stream",
     "text": [
      "WARNING: [youtube] 3xJYmM_NWgo: nsig extraction failed: You may experience throttling for some formats\n",
      "         Install PhantomJS to workaround the issue. Please download it from https://phantomjs.org/download.html\n",
      "         n = FfYnct4QK-dZICkCp ; player = https://www.youtube.com/s/player/28fd7348/player_ias.vflset/en_US/base.js\n",
      "WARNING: [youtube] 3xJYmM_NWgo: nsig extraction failed: You may experience throttling for some formats\n",
      "         Install PhantomJS to workaround the issue. Please download it from https://phantomjs.org/download.html\n",
      "         n = xFxXnxY31qPsJhROJ ; player = https://www.youtube.com/s/player/28fd7348/player_ias.vflset/en_US/base.js\n"
     ]
    },
    {
     "name": "stdout",
     "output_type": "stream",
     "text": [
      "[youtube] 3xJYmM_NWgo: Downloading m3u8 information\n",
      "seventeen - readytolove\n",
      "[youtube] Extracting URL: https://youtu.be/3xJYmM_NWgo?si=T8xAH7e220TcwB_2\n",
      "[youtube] 3xJYmM_NWgo: Downloading webpage\n",
      "[youtube] 3xJYmM_NWgo: Downloading ios player API JSON\n",
      "[youtube] 3xJYmM_NWgo: Downloading android player API JSON\n"
     ]
    },
    {
     "name": "stderr",
     "output_type": "stream",
     "text": [
      "WARNING: [youtube] 3xJYmM_NWgo: nsig extraction failed: You may experience throttling for some formats\n",
      "         Install PhantomJS to workaround the issue. Please download it from https://phantomjs.org/download.html\n",
      "         n = UdE3a4okhtX5HrRA5 ; player = https://www.youtube.com/s/player/28fd7348/player_ias.vflset/en_US/base.js\n",
      "WARNING: [youtube] 3xJYmM_NWgo: nsig extraction failed: You may experience throttling for some formats\n",
      "         Install PhantomJS to workaround the issue. Please download it from https://phantomjs.org/download.html\n",
      "         n = PH9NfJAhfTVyxcKG- ; player = https://www.youtube.com/s/player/28fd7348/player_ias.vflset/en_US/base.js\n"
     ]
    },
    {
     "name": "stdout",
     "output_type": "stream",
     "text": [
      "[youtube] 3xJYmM_NWgo: Downloading m3u8 information\n",
      "gidle - senorita\n",
      "[youtube] Extracting URL: https://youtu.be/33Js5FPEeKA?si=xW6CWkzkw8V6EHbJ\n",
      "[youtube] 33Js5FPEeKA: Downloading webpage\n",
      "[youtube] 33Js5FPEeKA: Downloading ios player API JSON\n",
      "[youtube] 33Js5FPEeKA: Downloading android player API JSON\n"
     ]
    },
    {
     "name": "stderr",
     "output_type": "stream",
     "text": [
      "WARNING: [youtube] 33Js5FPEeKA: nsig extraction failed: You may experience throttling for some formats\n",
      "         Install PhantomJS to workaround the issue. Please download it from https://phantomjs.org/download.html\n",
      "         n = aTORUS6eM40yX8i0T ; player = https://www.youtube.com/s/player/28fd7348/player_ias.vflset/en_US/base.js\n",
      "WARNING: [youtube] 33Js5FPEeKA: nsig extraction failed: You may experience throttling for some formats\n",
      "         Install PhantomJS to workaround the issue. Please download it from https://phantomjs.org/download.html\n",
      "         n = 0vywtCOpvGRJGLjXQ ; player = https://www.youtube.com/s/player/28fd7348/player_ias.vflset/en_US/base.js\n"
     ]
    },
    {
     "name": "stdout",
     "output_type": "stream",
     "text": [
      "[youtube] 33Js5FPEeKA: Downloading m3u8 information\n",
      "key - gasoline\n",
      "[youtube] Extracting URL: https://youtu.be/-BuY9LyDZow?si=QeSewp_wrMPjl0Ib\n",
      "[youtube] -BuY9LyDZow: Downloading webpage\n",
      "[youtube] -BuY9LyDZow: Downloading ios player API JSON\n",
      "[youtube] -BuY9LyDZow: Downloading android player API JSON\n"
     ]
    },
    {
     "name": "stderr",
     "output_type": "stream",
     "text": [
      "WARNING: [youtube] -BuY9LyDZow: nsig extraction failed: You may experience throttling for some formats\n",
      "         Install PhantomJS to workaround the issue. Please download it from https://phantomjs.org/download.html\n",
      "         n = vySNcPBNYzR1JVdmk ; player = https://www.youtube.com/s/player/28fd7348/player_ias.vflset/en_US/base.js\n",
      "WARNING: [youtube] -BuY9LyDZow: nsig extraction failed: You may experience throttling for some formats\n",
      "         Install PhantomJS to workaround the issue. Please download it from https://phantomjs.org/download.html\n",
      "         n = NK-FTWHe_BvJA9ADX ; player = https://www.youtube.com/s/player/28fd7348/player_ias.vflset/en_US/base.js\n"
     ]
    },
    {
     "name": "stdout",
     "output_type": "stream",
     "text": [
      "[youtube] -BuY9LyDZow: Downloading m3u8 information\n",
      "straykids - chkchkboom\n",
      "[youtube] Extracting URL: https://youtu.be/oRMwv5oE-xQ?si=VD-oEcFLsPeTEhYY\n",
      "[youtube] oRMwv5oE-xQ: Downloading webpage\n",
      "[youtube] oRMwv5oE-xQ: Downloading ios player API JSON\n",
      "[youtube] oRMwv5oE-xQ: Downloading android player API JSON\n"
     ]
    },
    {
     "name": "stderr",
     "output_type": "stream",
     "text": [
      "WARNING: [youtube] oRMwv5oE-xQ: nsig extraction failed: You may experience throttling for some formats\n",
      "         Install PhantomJS to workaround the issue. Please download it from https://phantomjs.org/download.html\n",
      "         n = GbTkkCB32QjI562iL ; player = https://www.youtube.com/s/player/28fd7348/player_ias.vflset/en_US/base.js\n",
      "WARNING: [youtube] oRMwv5oE-xQ: nsig extraction failed: You may experience throttling for some formats\n",
      "         Install PhantomJS to workaround the issue. Please download it from https://phantomjs.org/download.html\n",
      "         n = 3dnAedkoRepFRN6Nd ; player = https://www.youtube.com/s/player/28fd7348/player_ias.vflset/en_US/base.js\n"
     ]
    },
    {
     "name": "stdout",
     "output_type": "stream",
     "text": [
      "[youtube] oRMwv5oE-xQ: Downloading m3u8 information\n",
      "nayeon - abcd\n",
      "[youtube] Extracting URL: https://youtu.be/CD2S-RfxZTA?si=o-HcZNtdWfP0x37P\n",
      "[youtube] CD2S-RfxZTA: Downloading webpage\n",
      "[youtube] CD2S-RfxZTA: Downloading ios player API JSON\n",
      "[youtube] CD2S-RfxZTA: Downloading android player API JSON\n"
     ]
    },
    {
     "name": "stderr",
     "output_type": "stream",
     "text": [
      "WARNING: [youtube] CD2S-RfxZTA: nsig extraction failed: You may experience throttling for some formats\n",
      "         Install PhantomJS to workaround the issue. Please download it from https://phantomjs.org/download.html\n",
      "         n = O2A3RUyBdvZwoIsR0 ; player = https://www.youtube.com/s/player/28fd7348/player_ias.vflset/en_US/base.js\n",
      "WARNING: [youtube] CD2S-RfxZTA: nsig extraction failed: You may experience throttling for some formats\n",
      "         Install PhantomJS to workaround the issue. Please download it from https://phantomjs.org/download.html\n",
      "         n = f6a2s3BDHRXpLHXMW ; player = https://www.youtube.com/s/player/28fd7348/player_ias.vflset/en_US/base.js\n"
     ]
    },
    {
     "name": "stdout",
     "output_type": "stream",
     "text": [
      "[youtube] CD2S-RfxZTA: Downloading m3u8 information\n",
      "superm - tigerinside\n",
      "[youtube] Extracting URL: https://youtu.be/g58oEJBO6nE?si=kUQbBXbFSgPBwt63\n",
      "[youtube] g58oEJBO6nE: Downloading webpage\n",
      "[youtube] g58oEJBO6nE: Downloading ios player API JSON\n",
      "[youtube] g58oEJBO6nE: Downloading android player API JSON\n"
     ]
    },
    {
     "name": "stderr",
     "output_type": "stream",
     "text": [
      "WARNING: [youtube] g58oEJBO6nE: nsig extraction failed: You may experience throttling for some formats\n",
      "         Install PhantomJS to workaround the issue. Please download it from https://phantomjs.org/download.html\n",
      "         n = EytQTlCpmmDfPb18O ; player = https://www.youtube.com/s/player/28fd7348/player_ias.vflset/en_US/base.js\n",
      "WARNING: [youtube] g58oEJBO6nE: nsig extraction failed: You may experience throttling for some formats\n",
      "         Install PhantomJS to workaround the issue. Please download it from https://phantomjs.org/download.html\n",
      "         n = -P1M16KSyvvwPQ0Ch ; player = https://www.youtube.com/s/player/28fd7348/player_ias.vflset/en_US/base.js\n"
     ]
    },
    {
     "name": "stdout",
     "output_type": "stream",
     "text": [
      "[youtube] g58oEJBO6nE: Downloading m3u8 information\n",
      "ten - birthday\n",
      "[youtube] Extracting URL: https://youtu.be/1RtXsC3hot0?si=U2O3wYDkwfpt9RTz\n",
      "[youtube] 1RtXsC3hot0: Downloading webpage\n",
      "[youtube] 1RtXsC3hot0: Downloading ios player API JSON\n",
      "[youtube] 1RtXsC3hot0: Downloading android player API JSON\n"
     ]
    },
    {
     "name": "stderr",
     "output_type": "stream",
     "text": [
      "WARNING: [youtube] 1RtXsC3hot0: nsig extraction failed: You may experience throttling for some formats\n",
      "         Install PhantomJS to workaround the issue. Please download it from https://phantomjs.org/download.html\n",
      "         n = EjyTC2GVRDiUW4Ptf ; player = https://www.youtube.com/s/player/28fd7348/player_ias.vflset/en_US/base.js\n",
      "WARNING: [youtube] 1RtXsC3hot0: nsig extraction failed: You may experience throttling for some formats\n",
      "         Install PhantomJS to workaround the issue. Please download it from https://phantomjs.org/download.html\n",
      "         n = x93RU384ZQsAIJuk0 ; player = https://www.youtube.com/s/player/28fd7348/player_ias.vflset/en_US/base.js\n"
     ]
    },
    {
     "name": "stdout",
     "output_type": "stream",
     "text": [
      "[youtube] 1RtXsC3hot0: Downloading m3u8 information\n",
      "allhours - shock\n",
      "[youtube] Extracting URL: https://youtu.be/9U4OYUmZPtU?si=v3i3RyasSzGzb0ME\n",
      "[youtube] 9U4OYUmZPtU: Downloading webpage\n",
      "[youtube] 9U4OYUmZPtU: Downloading ios player API JSON\n",
      "[youtube] 9U4OYUmZPtU: Downloading android player API JSON\n"
     ]
    },
    {
     "name": "stderr",
     "output_type": "stream",
     "text": [
      "WARNING: [youtube] 9U4OYUmZPtU: nsig extraction failed: You may experience throttling for some formats\n",
      "         Install PhantomJS to workaround the issue. Please download it from https://phantomjs.org/download.html\n",
      "         n = LahsEVO8zKVan4EAB ; player = https://www.youtube.com/s/player/28fd7348/player_ias.vflset/en_US/base.js\n",
      "WARNING: [youtube] 9U4OYUmZPtU: nsig extraction failed: You may experience throttling for some formats\n",
      "         Install PhantomJS to workaround the issue. Please download it from https://phantomjs.org/download.html\n",
      "         n = RfitMEDxVxO6pwDrK ; player = https://www.youtube.com/s/player/28fd7348/player_ias.vflset/en_US/base.js\n"
     ]
    },
    {
     "name": "stdout",
     "output_type": "stream",
     "text": [
      "[youtube] 9U4OYUmZPtU: Downloading m3u8 information\n",
      "goldenchild - rapampam\n",
      "[youtube] Extracting URL: https://youtu.be/bc0LfTiPx9s?si=CYDuonSkL1vC2ovw\n",
      "[youtube] bc0LfTiPx9s: Downloading webpage\n",
      "[youtube] bc0LfTiPx9s: Downloading ios player API JSON\n",
      "[youtube] bc0LfTiPx9s: Downloading android player API JSON\n"
     ]
    },
    {
     "name": "stderr",
     "output_type": "stream",
     "text": [
      "WARNING: [youtube] bc0LfTiPx9s: nsig extraction failed: You may experience throttling for some formats\n",
      "         Install PhantomJS to workaround the issue. Please download it from https://phantomjs.org/download.html\n",
      "         n = Ap3DDXnb1iNZeMN25 ; player = https://www.youtube.com/s/player/28fd7348/player_ias.vflset/en_US/base.js\n",
      "WARNING: [youtube] bc0LfTiPx9s: nsig extraction failed: You may experience throttling for some formats\n",
      "         Install PhantomJS to workaround the issue. Please download it from https://phantomjs.org/download.html\n",
      "         n = zJrLgxreUjszEVBDB ; player = https://www.youtube.com/s/player/28fd7348/player_ias.vflset/en_US/base.js\n"
     ]
    },
    {
     "name": "stdout",
     "output_type": "stream",
     "text": [
      "[youtube] bc0LfTiPx9s: Downloading m3u8 information\n",
      "riize - bemynext\n",
      "[youtube] Extracting URL: https://youtu.be/dGs5gAar0iw?si=hhQMWTmN4hT3ws-_\n",
      "[youtube] dGs5gAar0iw: Downloading webpage\n",
      "[youtube] dGs5gAar0iw: Downloading ios player API JSON\n",
      "[youtube] dGs5gAar0iw: Downloading android player API JSON\n"
     ]
    },
    {
     "name": "stderr",
     "output_type": "stream",
     "text": [
      "WARNING: [youtube] dGs5gAar0iw: nsig extraction failed: You may experience throttling for some formats\n",
      "         Install PhantomJS to workaround the issue. Please download it from https://phantomjs.org/download.html\n",
      "         n = Y7byF5xO1ewiM6rsU ; player = https://www.youtube.com/s/player/28fd7348/player_ias.vflset/en_US/base.js\n",
      "WARNING: [youtube] dGs5gAar0iw: nsig extraction failed: You may experience throttling for some formats\n",
      "         Install PhantomJS to workaround the issue. Please download it from https://phantomjs.org/download.html\n",
      "         n = 1kP8ELDFIihxOusBm ; player = https://www.youtube.com/s/player/28fd7348/player_ias.vflset/en_US/base.js\n"
     ]
    },
    {
     "name": "stdout",
     "output_type": "stream",
     "text": [
      "[youtube] dGs5gAar0iw: Downloading m3u8 information\n",
      "enhypen - broughttheheatback\n",
      "[youtube] Extracting URL: https://youtu.be/uO_GkE8Ym38?si=LCcV5b9MvPuBaNhU\n",
      "[youtube] uO_GkE8Ym38: Downloading webpage\n",
      "[youtube] uO_GkE8Ym38: Downloading ios player API JSON\n",
      "[youtube] uO_GkE8Ym38: Downloading android player API JSON\n"
     ]
    },
    {
     "name": "stderr",
     "output_type": "stream",
     "text": [
      "WARNING: [youtube] uO_GkE8Ym38: nsig extraction failed: You may experience throttling for some formats\n",
      "         Install PhantomJS to workaround the issue. Please download it from https://phantomjs.org/download.html\n",
      "         n = JF8DRBaH0Q9Iot596 ; player = https://www.youtube.com/s/player/28fd7348/player_ias.vflset/en_US/base.js\n",
      "WARNING: [youtube] uO_GkE8Ym38: nsig extraction failed: You may experience throttling for some formats\n",
      "         Install PhantomJS to workaround the issue. Please download it from https://phantomjs.org/download.html\n",
      "         n = vIDfumD0zzpOB9bG4 ; player = https://www.youtube.com/s/player/28fd7348/player_ias.vflset/en_US/base.js\n"
     ]
    },
    {
     "name": "stdout",
     "output_type": "stream",
     "text": [
      "[youtube] uO_GkE8Ym38: Downloading m3u8 information\n",
      "kep1er - backtothecity\n",
      "[youtube] Extracting URL: https://youtu.be/_g9lboU8cOg?si=HDfx56tKsnKq-_oJ\n",
      "[youtube] _g9lboU8cOg: Downloading webpage\n",
      "[youtube] _g9lboU8cOg: Downloading ios player API JSON\n",
      "[youtube] _g9lboU8cOg: Downloading android player API JSON\n"
     ]
    },
    {
     "name": "stderr",
     "output_type": "stream",
     "text": [
      "WARNING: [youtube] _g9lboU8cOg: nsig extraction failed: You may experience throttling for some formats\n",
      "         Install PhantomJS to workaround the issue. Please download it from https://phantomjs.org/download.html\n",
      "         n = v2iPlzOmPfkk4tM1g ; player = https://www.youtube.com/s/player/28fd7348/player_ias.vflset/en_US/base.js\n",
      "WARNING: [youtube] _g9lboU8cOg: nsig extraction failed: You may experience throttling for some formats\n",
      "         Install PhantomJS to workaround the issue. Please download it from https://phantomjs.org/download.html\n",
      "         n = BR_Ao5nCAWgSbjodk ; player = https://www.youtube.com/s/player/28fd7348/player_ias.vflset/en_US/base.js\n"
     ]
    },
    {
     "name": "stdout",
     "output_type": "stream",
     "text": [
      "[youtube] _g9lboU8cOg: Downloading m3u8 information\n",
      "kep1er - shootingstar\n",
      "[youtube] Extracting URL: https://youtu.be/D0nycoXQ9ws?si=doaM3exQSt967cde\n",
      "[youtube] D0nycoXQ9ws: Downloading webpage\n",
      "[youtube] D0nycoXQ9ws: Downloading ios player API JSON\n",
      "[youtube] D0nycoXQ9ws: Downloading android player API JSON\n"
     ]
    },
    {
     "name": "stderr",
     "output_type": "stream",
     "text": [
      "WARNING: [youtube] D0nycoXQ9ws: nsig extraction failed: You may experience throttling for some formats\n",
      "         Install PhantomJS to workaround the issue. Please download it from https://phantomjs.org/download.html\n",
      "         n = rjp5Iqa6zPw5HCdRN ; player = https://www.youtube.com/s/player/28fd7348/player_ias.vflset/en_US/base.js\n",
      "WARNING: [youtube] D0nycoXQ9ws: nsig extraction failed: You may experience throttling for some formats\n",
      "         Install PhantomJS to workaround the issue. Please download it from https://phantomjs.org/download.html\n",
      "         n = 8kRodbjcRSQ22AL6V ; player = https://www.youtube.com/s/player/28fd7348/player_ias.vflset/en_US/base.js\n"
     ]
    },
    {
     "name": "stdout",
     "output_type": "stream",
     "text": [
      "[youtube] D0nycoXQ9ws: Downloading m3u8 information\n",
      "bts - on\n",
      "[youtube] Extracting URL: https://youtu.be/VnWo9-Dioik?si=dGL9aDYUqJSdjRye\n",
      "[youtube] VnWo9-Dioik: Downloading webpage\n",
      "[youtube] VnWo9-Dioik: Downloading ios player API JSON\n",
      "[youtube] VnWo9-Dioik: Downloading android player API JSON\n"
     ]
    },
    {
     "name": "stderr",
     "output_type": "stream",
     "text": [
      "WARNING: [youtube] VnWo9-Dioik: nsig extraction failed: You may experience throttling for some formats\n",
      "         Install PhantomJS to workaround the issue. Please download it from https://phantomjs.org/download.html\n",
      "         n = gSFeXnY9MKN8V2VTq ; player = https://www.youtube.com/s/player/28fd7348/player_ias.vflset/en_US/base.js\n",
      "WARNING: [youtube] VnWo9-Dioik: nsig extraction failed: You may experience throttling for some formats\n",
      "         Install PhantomJS to workaround the issue. Please download it from https://phantomjs.org/download.html\n",
      "         n = bVrVViUPH4HUBkJO8 ; player = https://www.youtube.com/s/player/28fd7348/player_ias.vflset/en_US/base.js\n"
     ]
    },
    {
     "name": "stdout",
     "output_type": "stream",
     "text": [
      "[youtube] VnWo9-Dioik: Downloading m3u8 information\n",
      "nctu - makeawish\n",
      "[youtube] Extracting URL: https://youtu.be/Gh1rFTpxAog?feature=shared\n",
      "[youtube] Gh1rFTpxAog: Downloading webpage\n",
      "[youtube] Gh1rFTpxAog: Downloading ios player API JSON\n",
      "[youtube] Gh1rFTpxAog: Downloading android player API JSON\n"
     ]
    },
    {
     "name": "stderr",
     "output_type": "stream",
     "text": [
      "WARNING: [youtube] Gh1rFTpxAog: nsig extraction failed: You may experience throttling for some formats\n",
      "         Install PhantomJS to workaround the issue. Please download it from https://phantomjs.org/download.html\n",
      "         n = qier2i18cGfoIFaTE ; player = https://www.youtube.com/s/player/28fd7348/player_ias.vflset/en_US/base.js\n",
      "WARNING: [youtube] Gh1rFTpxAog: nsig extraction failed: You may experience throttling for some formats\n",
      "         Install PhantomJS to workaround the issue. Please download it from https://phantomjs.org/download.html\n",
      "         n = wMapQnP6uU1IwzSE- ; player = https://www.youtube.com/s/player/28fd7348/player_ias.vflset/en_US/base.js\n"
     ]
    },
    {
     "name": "stdout",
     "output_type": "stream",
     "text": [
      "[youtube] Gh1rFTpxAog: Downloading m3u8 information\n",
      "p1harmony - latenightcalls\n",
      "[youtube] Extracting URL: https://youtu.be/j0ZhFD2DUE0?si=uJMSoD5lFN8MwR4G\n",
      "[youtube] j0ZhFD2DUE0: Downloading webpage\n",
      "[youtube] j0ZhFD2DUE0: Downloading ios player API JSON\n",
      "[youtube] j0ZhFD2DUE0: Downloading android player API JSON\n"
     ]
    },
    {
     "name": "stderr",
     "output_type": "stream",
     "text": [
      "WARNING: [youtube] j0ZhFD2DUE0: nsig extraction failed: You may experience throttling for some formats\n",
      "         Install PhantomJS to workaround the issue. Please download it from https://phantomjs.org/download.html\n",
      "         n = RopuIBwUs15Aw9rw4 ; player = https://www.youtube.com/s/player/28fd7348/player_ias.vflset/en_US/base.js\n",
      "WARNING: [youtube] j0ZhFD2DUE0: nsig extraction failed: You may experience throttling for some formats\n",
      "         Install PhantomJS to workaround the issue. Please download it from https://phantomjs.org/download.html\n",
      "         n = P--oehHyx0xT9dUfN ; player = https://www.youtube.com/s/player/28fd7348/player_ias.vflset/en_US/base.js\n"
     ]
    },
    {
     "name": "stdout",
     "output_type": "stream",
     "text": [
      "[youtube] j0ZhFD2DUE0: Downloading m3u8 information\n",
      "p1harmony - killinit\n",
      "[youtube] Extracting URL: https://youtu.be/dJXI-qB5EpA?si=rBj38qF06M76FYCT\n",
      "[youtube] dJXI-qB5EpA: Downloading webpage\n",
      "[youtube] dJXI-qB5EpA: Downloading ios player API JSON\n",
      "[youtube] dJXI-qB5EpA: Downloading android player API JSON\n"
     ]
    },
    {
     "name": "stderr",
     "output_type": "stream",
     "text": [
      "WARNING: [youtube] dJXI-qB5EpA: nsig extraction failed: You may experience throttling for some formats\n",
      "         Install PhantomJS to workaround the issue. Please download it from https://phantomjs.org/download.html\n",
      "         n = QnqAPX8ATTot8LWGY ; player = https://www.youtube.com/s/player/28fd7348/player_ias.vflset/en_US/base.js\n",
      "WARNING: [youtube] dJXI-qB5EpA: nsig extraction failed: You may experience throttling for some formats\n",
      "         Install PhantomJS to workaround the issue. Please download it from https://phantomjs.org/download.html\n",
      "         n = SpyKkr79UjsNqCx_N ; player = https://www.youtube.com/s/player/28fd7348/player_ias.vflset/en_US/base.js\n"
     ]
    },
    {
     "name": "stdout",
     "output_type": "stream",
     "text": [
      "[youtube] dJXI-qB5EpA: Downloading m3u8 information\n",
      "twice - dancethenightaway\n",
      "[youtube] Extracting URL: https://youtu.be/dXcNuRkNWpo?si=BfSWoNWhKuj_tlav\n",
      "[youtube] dXcNuRkNWpo: Downloading webpage\n",
      "[youtube] dXcNuRkNWpo: Downloading ios player API JSON\n",
      "[youtube] dXcNuRkNWpo: Downloading android player API JSON\n"
     ]
    },
    {
     "name": "stderr",
     "output_type": "stream",
     "text": [
      "WARNING: [youtube] dXcNuRkNWpo: nsig extraction failed: You may experience throttling for some formats\n",
      "         Install PhantomJS to workaround the issue. Please download it from https://phantomjs.org/download.html\n",
      "         n = YvOChZOcXu1i973WG ; player = https://www.youtube.com/s/player/28fd7348/player_ias.vflset/en_US/base.js\n",
      "WARNING: [youtube] dXcNuRkNWpo: nsig extraction failed: You may experience throttling for some formats\n",
      "         Install PhantomJS to workaround the issue. Please download it from https://phantomjs.org/download.html\n",
      "         n = pMR6va9s3ku8-RXbl ; player = https://www.youtube.com/s/player/28fd7348/player_ias.vflset/en_US/base.js\n"
     ]
    },
    {
     "name": "stdout",
     "output_type": "stream",
     "text": [
      "[youtube] dXcNuRkNWpo: Downloading m3u8 information\n",
      "twice - dive\n",
      "[youtube] Extracting URL: https://youtu.be/vfuM3xX7h-I?si=VYCuzpnzwRTohLw-\n",
      "[youtube] vfuM3xX7h-I: Downloading webpage\n",
      "[youtube] vfuM3xX7h-I: Downloading ios player API JSON\n",
      "[youtube] vfuM3xX7h-I: Downloading android player API JSON\n"
     ]
    },
    {
     "name": "stderr",
     "output_type": "stream",
     "text": [
      "WARNING: [youtube] vfuM3xX7h-I: nsig extraction failed: You may experience throttling for some formats\n",
      "         Install PhantomJS to workaround the issue. Please download it from https://phantomjs.org/download.html\n",
      "         n = rW7_l7p6YK52zmbww ; player = https://www.youtube.com/s/player/28fd7348/player_ias.vflset/en_US/base.js\n",
      "WARNING: [youtube] vfuM3xX7h-I: nsig extraction failed: You may experience throttling for some formats\n",
      "         Install PhantomJS to workaround the issue. Please download it from https://phantomjs.org/download.html\n",
      "         n = cDWqBEGXqLgqoeYqt ; player = https://www.youtube.com/s/player/28fd7348/player_ias.vflset/en_US/base.js\n"
     ]
    },
    {
     "name": "stdout",
     "output_type": "stream",
     "text": [
      "[youtube] vfuM3xX7h-I: Downloading m3u8 information\n",
      "onf - byemymonster\n",
      "[youtube] Extracting URL: https://youtu.be/Q2pWPvUOwYQ?si=5e7DN-Yq8vWfC829\n",
      "[youtube] Q2pWPvUOwYQ: Downloading webpage\n",
      "[youtube] Q2pWPvUOwYQ: Downloading ios player API JSON\n",
      "[youtube] Q2pWPvUOwYQ: Downloading android player API JSON\n"
     ]
    },
    {
     "name": "stderr",
     "output_type": "stream",
     "text": [
      "WARNING: [youtube] Q2pWPvUOwYQ: nsig extraction failed: You may experience throttling for some formats\n",
      "         Install PhantomJS to workaround the issue. Please download it from https://phantomjs.org/download.html\n",
      "         n = s_gYK1zvBYBK1v4T- ; player = https://www.youtube.com/s/player/28fd7348/player_ias.vflset/en_US/base.js\n",
      "WARNING: [youtube] Q2pWPvUOwYQ: nsig extraction failed: You may experience throttling for some formats\n",
      "         Install PhantomJS to workaround the issue. Please download it from https://phantomjs.org/download.html\n",
      "         n = 3C8gyotC_sKHD90he ; player = https://www.youtube.com/s/player/28fd7348/player_ias.vflset/en_US/base.js\n"
     ]
    },
    {
     "name": "stdout",
     "output_type": "stream",
     "text": [
      "[youtube] Q2pWPvUOwYQ: Downloading m3u8 information\n",
      "wjsn - done\n",
      "[youtube] Extracting URL: https://youtu.be/AB0mYkRCBO8?si=NvUqCYVBAaOWb6yE\n",
      "[youtube] AB0mYkRCBO8: Downloading webpage\n",
      "[youtube] AB0mYkRCBO8: Downloading ios player API JSON\n",
      "[youtube] AB0mYkRCBO8: Downloading android player API JSON\n"
     ]
    },
    {
     "name": "stderr",
     "output_type": "stream",
     "text": [
      "WARNING: [youtube] AB0mYkRCBO8: nsig extraction failed: You may experience throttling for some formats\n",
      "         Install PhantomJS to workaround the issue. Please download it from https://phantomjs.org/download.html\n",
      "         n = d2CFvWNpIz91UKalX ; player = https://www.youtube.com/s/player/28fd7348/player_ias.vflset/en_US/base.js\n",
      "WARNING: [youtube] AB0mYkRCBO8: nsig extraction failed: You may experience throttling for some formats\n",
      "         Install PhantomJS to workaround the issue. Please download it from https://phantomjs.org/download.html\n",
      "         n = 8Jh5vmRW2s_7UcPs1 ; player = https://www.youtube.com/s/player/28fd7348/player_ias.vflset/en_US/base.js\n"
     ]
    },
    {
     "name": "stdout",
     "output_type": "stream",
     "text": [
      "[youtube] AB0mYkRCBO8: Downloading m3u8 information\n",
      "blitzers - macarena\n",
      "[youtube] Extracting URL: https://youtu.be/qWTf2IIQL3Y?si=j3jm4AodZka3z2WT\n",
      "[youtube] qWTf2IIQL3Y: Downloading webpage\n",
      "[youtube] qWTf2IIQL3Y: Downloading ios player API JSON\n",
      "[youtube] qWTf2IIQL3Y: Downloading android player API JSON\n"
     ]
    },
    {
     "name": "stderr",
     "output_type": "stream",
     "text": [
      "WARNING: [youtube] qWTf2IIQL3Y: nsig extraction failed: You may experience throttling for some formats\n",
      "         Install PhantomJS to workaround the issue. Please download it from https://phantomjs.org/download.html\n",
      "         n = dqcYSgKzHtXFT1phN ; player = https://www.youtube.com/s/player/28fd7348/player_ias.vflset/en_US/base.js\n",
      "WARNING: [youtube] qWTf2IIQL3Y: nsig extraction failed: You may experience throttling for some formats\n",
      "         Install PhantomJS to workaround the issue. Please download it from https://phantomjs.org/download.html\n",
      "         n = ME1o1M3ah21XP47Ia ; player = https://www.youtube.com/s/player/28fd7348/player_ias.vflset/en_US/base.js\n"
     ]
    },
    {
     "name": "stdout",
     "output_type": "stream",
     "text": [
      "[youtube] qWTf2IIQL3Y: Downloading m3u8 information\n",
      "mcnd - mood\n",
      "[youtube] Extracting URL: https://youtu.be/Y0nnEz1hKoE?si=B9-1_czPTLdXINKJ\n",
      "[youtube] Y0nnEz1hKoE: Downloading webpage\n",
      "[youtube] Y0nnEz1hKoE: Downloading ios player API JSON\n",
      "[youtube] Y0nnEz1hKoE: Downloading android player API JSON\n"
     ]
    },
    {
     "name": "stderr",
     "output_type": "stream",
     "text": [
      "WARNING: [youtube] Y0nnEz1hKoE: nsig extraction failed: You may experience throttling for some formats\n",
      "         Install PhantomJS to workaround the issue. Please download it from https://phantomjs.org/download.html\n",
      "         n = Xn03NykgR5Lm05aab ; player = https://www.youtube.com/s/player/28fd7348/player_ias.vflset/en_US/base.js\n",
      "WARNING: [youtube] Y0nnEz1hKoE: nsig extraction failed: You may experience throttling for some formats\n",
      "         Install PhantomJS to workaround the issue. Please download it from https://phantomjs.org/download.html\n",
      "         n = SRP-Fi8KBUfnbSlQ5 ; player = https://www.youtube.com/s/player/28fd7348/player_ias.vflset/en_US/base.js\n"
     ]
    },
    {
     "name": "stdout",
     "output_type": "stream",
     "text": [
      "[youtube] Y0nnEz1hKoE: Downloading m3u8 information\n",
      "nct127 - walk\n",
      "[youtube] Extracting URL: https://youtu.be/SOKliuZfuFQ?si=4-k1_8Z7VcJcniRV\n",
      "[youtube] SOKliuZfuFQ: Downloading webpage\n",
      "[youtube] SOKliuZfuFQ: Downloading ios player API JSON\n",
      "[youtube] SOKliuZfuFQ: Downloading android player API JSON\n"
     ]
    },
    {
     "name": "stderr",
     "output_type": "stream",
     "text": [
      "WARNING: [youtube] SOKliuZfuFQ: nsig extraction failed: You may experience throttling for some formats\n",
      "         Install PhantomJS to workaround the issue. Please download it from https://phantomjs.org/download.html\n",
      "         n = Iht_NrXWXZhBCriu4 ; player = https://www.youtube.com/s/player/28fd7348/player_ias.vflset/en_US/base.js\n",
      "WARNING: [youtube] SOKliuZfuFQ: nsig extraction failed: You may experience throttling for some formats\n",
      "         Install PhantomJS to workaround the issue. Please download it from https://phantomjs.org/download.html\n",
      "         n = Jg8Jk9AZ81tZQqvUo ; player = https://www.youtube.com/s/player/28fd7348/player_ias.vflset/en_US/base.js\n"
     ]
    },
    {
     "name": "stdout",
     "output_type": "stream",
     "text": [
      "[youtube] SOKliuZfuFQ: Downloading m3u8 information\n",
      "misamo - donottouch\n",
      "[youtube] Extracting URL: https://youtu.be/chTzVH24ybE?si=Tni69xbKmPHWen-u\n",
      "[youtube] chTzVH24ybE: Downloading webpage\n",
      "[youtube] chTzVH24ybE: Downloading ios player API JSON\n",
      "[youtube] chTzVH24ybE: Downloading android player API JSON\n"
     ]
    },
    {
     "name": "stderr",
     "output_type": "stream",
     "text": [
      "WARNING: [youtube] chTzVH24ybE: nsig extraction failed: You may experience throttling for some formats\n",
      "         Install PhantomJS to workaround the issue. Please download it from https://phantomjs.org/download.html\n",
      "         n = po24yXOSdFqKH4dQa ; player = https://www.youtube.com/s/player/28fd7348/player_ias.vflset/en_US/base.js\n",
      "WARNING: [youtube] chTzVH24ybE: nsig extraction failed: You may experience throttling for some formats\n",
      "         Install PhantomJS to workaround the issue. Please download it from https://phantomjs.org/download.html\n",
      "         n = NSSRyISTnjMxEFDgp ; player = https://www.youtube.com/s/player/28fd7348/player_ias.vflset/en_US/base.js\n"
     ]
    },
    {
     "name": "stdout",
     "output_type": "stream",
     "text": [
      "[youtube] chTzVH24ybE: Downloading m3u8 information\n",
      "xg - tgif\n",
      "[youtube] Extracting URL: https://youtu.be/EytFcsJLQfI?si=QMDjkPmiosI96hmU\n",
      "[youtube] EytFcsJLQfI: Downloading webpage\n",
      "[youtube] EytFcsJLQfI: Downloading ios player API JSON\n",
      "[youtube] EytFcsJLQfI: Downloading android player API JSON\n"
     ]
    },
    {
     "name": "stderr",
     "output_type": "stream",
     "text": [
      "WARNING: [youtube] EytFcsJLQfI: nsig extraction failed: You may experience throttling for some formats\n",
      "         Install PhantomJS to workaround the issue. Please download it from https://phantomjs.org/download.html\n",
      "         n = zdpC9BDXvKdnaV70G ; player = https://www.youtube.com/s/player/28fd7348/player_ias.vflset/en_US/base.js\n",
      "WARNING: [youtube] EytFcsJLQfI: nsig extraction failed: You may experience throttling for some formats\n",
      "         Install PhantomJS to workaround the issue. Please download it from https://phantomjs.org/download.html\n",
      "         n = xZwjGZa0DfAhv37jL ; player = https://www.youtube.com/s/player/28fd7348/player_ias.vflset/en_US/base.js\n"
     ]
    },
    {
     "name": "stdout",
     "output_type": "stream",
     "text": [
      "[youtube] EytFcsJLQfI: Downloading m3u8 information\n",
      "katseye - touch\n",
      "[youtube] Extracting URL: https://youtu.be/1UO9Do8uMDU?si=y7LxX4e-bVDqfN3S\n",
      "[youtube] 1UO9Do8uMDU: Downloading webpage\n",
      "[youtube] 1UO9Do8uMDU: Downloading ios player API JSON\n",
      "[youtube] 1UO9Do8uMDU: Downloading android player API JSON\n"
     ]
    },
    {
     "name": "stderr",
     "output_type": "stream",
     "text": [
      "WARNING: [youtube] 1UO9Do8uMDU: nsig extraction failed: You may experience throttling for some formats\n",
      "         Install PhantomJS to workaround the issue. Please download it from https://phantomjs.org/download.html\n",
      "         n = A78vhu8qLEbbDntR2 ; player = https://www.youtube.com/s/player/28fd7348/player_ias.vflset/en_US/base.js\n",
      "WARNING: [youtube] 1UO9Do8uMDU: nsig extraction failed: You may experience throttling for some formats\n",
      "         Install PhantomJS to workaround the issue. Please download it from https://phantomjs.org/download.html\n",
      "         n = ixXQnF7SnsAe6KT__ ; player = https://www.youtube.com/s/player/28fd7348/player_ias.vflset/en_US/base.js\n"
     ]
    },
    {
     "name": "stdout",
     "output_type": "stream",
     "text": [
      "[youtube] 1UO9Do8uMDU: Downloading m3u8 information\n",
      "shinee - lucifer\n",
      "[youtube] Extracting URL: https://youtu.be/EURY1nTRnoU?si=XCN_pO18AcRjv0xC\n",
      "[youtube] EURY1nTRnoU: Downloading webpage\n",
      "[youtube] EURY1nTRnoU: Downloading ios player API JSON\n",
      "[youtube] EURY1nTRnoU: Downloading android player API JSON\n"
     ]
    },
    {
     "name": "stderr",
     "output_type": "stream",
     "text": [
      "WARNING: [youtube] EURY1nTRnoU: nsig extraction failed: You may experience throttling for some formats\n",
      "         Install PhantomJS to workaround the issue. Please download it from https://phantomjs.org/download.html\n",
      "         n = DccL1OH268pXvxFtt ; player = https://www.youtube.com/s/player/28fd7348/player_ias.vflset/en_US/base.js\n",
      "WARNING: [youtube] EURY1nTRnoU: nsig extraction failed: You may experience throttling for some formats\n",
      "         Install PhantomJS to workaround the issue. Please download it from https://phantomjs.org/download.html\n",
      "         n = Ig4aBvdiXWc3wZbGy ; player = https://www.youtube.com/s/player/28fd7348/player_ias.vflset/en_US/base.js\n"
     ]
    },
    {
     "name": "stdout",
     "output_type": "stream",
     "text": [
      "[youtube] EURY1nTRnoU: Downloading m3u8 information\n",
      "straykids - redlights\n",
      "[youtube] Extracting URL: https://youtu.be/XlMG_gvM8uA?si=g8NhMdzWoSpDpLvy\n",
      "[youtube] XlMG_gvM8uA: Downloading webpage\n",
      "[youtube] XlMG_gvM8uA: Downloading ios player API JSON\n",
      "[youtube] XlMG_gvM8uA: Downloading android player API JSON\n"
     ]
    },
    {
     "name": "stderr",
     "output_type": "stream",
     "text": [
      "WARNING: [youtube] XlMG_gvM8uA: nsig extraction failed: You may experience throttling for some formats\n",
      "         Install PhantomJS to workaround the issue. Please download it from https://phantomjs.org/download.html\n",
      "         n = WNqvujTtehDGU2Vra ; player = https://www.youtube.com/s/player/28fd7348/player_ias.vflset/en_US/base.js\n",
      "WARNING: [youtube] XlMG_gvM8uA: nsig extraction failed: You may experience throttling for some formats\n",
      "         Install PhantomJS to workaround the issue. Please download it from https://phantomjs.org/download.html\n",
      "         n = 3cU2450daFMirr72q ; player = https://www.youtube.com/s/player/28fd7348/player_ias.vflset/en_US/base.js\n"
     ]
    },
    {
     "name": "stdout",
     "output_type": "stream",
     "text": [
      "[youtube] XlMG_gvM8uA: Downloading m3u8 information\n",
      "newjeans - supernatural\n",
      "[youtube] Extracting URL: https://youtu.be/M5aEiDSx7kI?si=2WC8jjJCOCz9bVNF\n",
      "[youtube] M5aEiDSx7kI: Downloading webpage\n",
      "[youtube] M5aEiDSx7kI: Downloading ios player API JSON\n",
      "[youtube] M5aEiDSx7kI: Downloading android player API JSON\n"
     ]
    },
    {
     "name": "stderr",
     "output_type": "stream",
     "text": [
      "WARNING: [youtube] M5aEiDSx7kI: nsig extraction failed: You may experience throttling for some formats\n",
      "         Install PhantomJS to workaround the issue. Please download it from https://phantomjs.org/download.html\n",
      "         n = wahIwNms84Zm_KmAL ; player = https://www.youtube.com/s/player/28fd7348/player_ias.vflset/en_US/base.js\n",
      "WARNING: [youtube] M5aEiDSx7kI: nsig extraction failed: You may experience throttling for some formats\n",
      "         Install PhantomJS to workaround the issue. Please download it from https://phantomjs.org/download.html\n",
      "         n = Iu490Koqi6HDJyYVz ; player = https://www.youtube.com/s/player/28fd7348/player_ias.vflset/en_US/base.js\n"
     ]
    },
    {
     "name": "stdout",
     "output_type": "stream",
     "text": [
      "[youtube] M5aEiDSx7kI: Downloading m3u8 information\n",
      "gidle - hwa\n",
      "[youtube] Extracting URL: https://youtu.be/heduzJKSKvk?si=y44hf4Kxb78JPGf0\n",
      "[youtube] heduzJKSKvk: Downloading webpage\n",
      "[youtube] heduzJKSKvk: Downloading ios player API JSON\n",
      "[youtube] heduzJKSKvk: Downloading android player API JSON\n"
     ]
    },
    {
     "name": "stderr",
     "output_type": "stream",
     "text": [
      "WARNING: [youtube] heduzJKSKvk: nsig extraction failed: You may experience throttling for some formats\n",
      "         Install PhantomJS to workaround the issue. Please download it from https://phantomjs.org/download.html\n",
      "         n = ieuIXmjVvlhm_7c7a ; player = https://www.youtube.com/s/player/28fd7348/player_ias.vflset/en_US/base.js\n",
      "WARNING: [youtube] heduzJKSKvk: nsig extraction failed: You may experience throttling for some formats\n",
      "         Install PhantomJS to workaround the issue. Please download it from https://phantomjs.org/download.html\n",
      "         n = -9spxzQx9KISY_jtn ; player = https://www.youtube.com/s/player/28fd7348/player_ias.vflset/en_US/base.js\n"
     ]
    },
    {
     "name": "stdout",
     "output_type": "stream",
     "text": [
      "[youtube] heduzJKSKvk: Downloading m3u8 information\n",
      "seventeen - readytolove\n",
      "[youtube] Extracting URL: https://youtu.be/3xJYmM_NWgo?si=T8x\n",
      "[youtube] 3xJYmM_NWgo: Downloading webpage\n",
      "[youtube] 3xJYmM_NWgo: Downloading ios player API JSON\n",
      "[youtube] 3xJYmM_NWgo: Downloading android player API JSON\n"
     ]
    },
    {
     "name": "stderr",
     "output_type": "stream",
     "text": [
      "WARNING: [youtube] 3xJYmM_NWgo: nsig extraction failed: You may experience throttling for some formats\n",
      "         Install PhantomJS to workaround the issue. Please download it from https://phantomjs.org/download.html\n",
      "         n = vt7yOJp9r9L7vI9L5 ; player = https://www.youtube.com/s/player/28fd7348/player_ias.vflset/en_US/base.js\n",
      "WARNING: [youtube] 3xJYmM_NWgo: nsig extraction failed: You may experience throttling for some formats\n",
      "         Install PhantomJS to workaround the issue. Please download it from https://phantomjs.org/download.html\n",
      "         n = bWHoBT2rLjdqmNw4O ; player = https://www.youtube.com/s/player/28fd7348/player_ias.vflset/en_US/base.js\n"
     ]
    },
    {
     "name": "stdout",
     "output_type": "stream",
     "text": [
      "[youtube] 3xJYmM_NWgo: Downloading m3u8 information\n",
      "boa - myname\n",
      "[youtube] Extracting URL: https://youtu.be/eCusz7lML9Q?si=j36s7Pgz_iMo1w4g\n",
      "[youtube] eCusz7lML9Q: Downloading webpage\n",
      "[youtube] eCusz7lML9Q: Downloading ios player API JSON\n",
      "[youtube] eCusz7lML9Q: Downloading android player API JSON\n"
     ]
    },
    {
     "name": "stderr",
     "output_type": "stream",
     "text": [
      "WARNING: [youtube] eCusz7lML9Q: nsig extraction failed: You may experience throttling for some formats\n",
      "         Install PhantomJS to workaround the issue. Please download it from https://phantomjs.org/download.html\n",
      "         n = ME2pxxQJxuaC1Q3AX ; player = https://www.youtube.com/s/player/28fd7348/player_ias.vflset/en_US/base.js\n",
      "WARNING: [youtube] eCusz7lML9Q: nsig extraction failed: You may experience throttling for some formats\n",
      "         Install PhantomJS to workaround the issue. Please download it from https://phantomjs.org/download.html\n",
      "         n = JZrAS3cNLJaJ3_FLR ; player = https://www.youtube.com/s/player/28fd7348/player_ias.vflset/en_US/base.js\n"
     ]
    },
    {
     "name": "stdout",
     "output_type": "stream",
     "text": [
      "[youtube] eCusz7lML9Q: Downloading m3u8 information\n",
      "[youtube] eCusz7lML9Q: Downloading MPD manifest\n",
      "ab6ix - breathe\n",
      "[youtube] Extracting URL: https://youtu.be/SpRIsXsUfl8?si=VGnQRbFuwdRrHTVR\n",
      "[youtube] SpRIsXsUfl8: Downloading webpage\n",
      "[youtube] SpRIsXsUfl8: Downloading ios player API JSON\n",
      "[youtube] SpRIsXsUfl8: Downloading android player API JSON\n"
     ]
    },
    {
     "name": "stderr",
     "output_type": "stream",
     "text": [
      "WARNING: [youtube] SpRIsXsUfl8: nsig extraction failed: You may experience throttling for some formats\n",
      "         Install PhantomJS to workaround the issue. Please download it from https://phantomjs.org/download.html\n",
      "         n = OVbv01XbvntubRtl7 ; player = https://www.youtube.com/s/player/28fd7348/player_ias.vflset/en_US/base.js\n",
      "WARNING: [youtube] SpRIsXsUfl8: nsig extraction failed: You may experience throttling for some formats\n",
      "         Install PhantomJS to workaround the issue. Please download it from https://phantomjs.org/download.html\n",
      "         n = LXLuA2KlUlYfCITTB ; player = https://www.youtube.com/s/player/28fd7348/player_ias.vflset/en_US/base.js\n"
     ]
    },
    {
     "name": "stdout",
     "output_type": "stream",
     "text": [
      "[youtube] SpRIsXsUfl8: Downloading m3u8 information\n",
      "txt - openingsequence\n",
      "[youtube] Extracting URL: https://youtu.be/ApXo3D5npc8?si=KmU5MpSbCzE8b7iB\n",
      "[youtube] ApXo3D5npc8: Downloading webpage\n",
      "[youtube] ApXo3D5npc8: Downloading ios player API JSON\n",
      "[youtube] ApXo3D5npc8: Downloading android player API JSON\n"
     ]
    },
    {
     "name": "stderr",
     "output_type": "stream",
     "text": [
      "WARNING: [youtube] ApXo3D5npc8: nsig extraction failed: You may experience throttling for some formats\n",
      "         Install PhantomJS to workaround the issue. Please download it from https://phantomjs.org/download.html\n",
      "         n = uW_RCxvJzo8obNAhD ; player = https://www.youtube.com/s/player/28fd7348/player_ias.vflset/en_US/base.js\n",
      "WARNING: [youtube] ApXo3D5npc8: nsig extraction failed: You may experience throttling for some formats\n",
      "         Install PhantomJS to workaround the issue. Please download it from https://phantomjs.org/download.html\n",
      "         n = dYlnG1Axwvjn9Vn9A ; player = https://www.youtube.com/s/player/28fd7348/player_ias.vflset/en_US/base.js\n"
     ]
    },
    {
     "name": "stdout",
     "output_type": "stream",
     "text": [
      "[youtube] ApXo3D5npc8: Downloading m3u8 information\n",
      "straykids - backdoor\n",
      "[youtube] Extracting URL: https://youtu.be/2cKjYLHXRwI?si=LTVjvxmi46g1Em_j\n",
      "[youtube] 2cKjYLHXRwI: Downloading webpage\n",
      "[youtube] 2cKjYLHXRwI: Downloading ios player API JSON\n",
      "[youtube] 2cKjYLHXRwI: Downloading android player API JSON\n"
     ]
    },
    {
     "name": "stderr",
     "output_type": "stream",
     "text": [
      "WARNING: [youtube] 2cKjYLHXRwI: nsig extraction failed: You may experience throttling for some formats\n",
      "         Install PhantomJS to workaround the issue. Please download it from https://phantomjs.org/download.html\n",
      "         n = lHSiVMI1gMnkUSFwx ; player = https://www.youtube.com/s/player/28fd7348/player_ias.vflset/en_US/base.js\n",
      "WARNING: [youtube] 2cKjYLHXRwI: nsig extraction failed: You may experience throttling for some formats\n",
      "         Install PhantomJS to workaround the issue. Please download it from https://phantomjs.org/download.html\n",
      "         n = EkzA5MYSvOr4CcPwz ; player = https://www.youtube.com/s/player/28fd7348/player_ias.vflset/en_US/base.js\n"
     ]
    },
    {
     "name": "stdout",
     "output_type": "stream",
     "text": [
      "[youtube] 2cKjYLHXRwI: Downloading m3u8 information\n",
      "blackpink - ddududdudu\n",
      "[youtube] Extracting URL: https://youtu.be/RMc9qFrCqno?si=dzX0jD5VYq2ZWO1N\n",
      "[youtube] RMc9qFrCqno: Downloading webpage\n",
      "[youtube] RMc9qFrCqno: Downloading ios player API JSON\n",
      "[youtube] RMc9qFrCqno: Downloading android player API JSON\n"
     ]
    },
    {
     "name": "stderr",
     "output_type": "stream",
     "text": [
      "WARNING: [youtube] RMc9qFrCqno: nsig extraction failed: You may experience throttling for some formats\n",
      "         Install PhantomJS to workaround the issue. Please download it from https://phantomjs.org/download.html\n",
      "         n = UwEAtt3qiymTJ7T-O ; player = https://www.youtube.com/s/player/28fd7348/player_ias.vflset/en_US/base.js\n",
      "WARNING: [youtube] RMc9qFrCqno: nsig extraction failed: You may experience throttling for some formats\n",
      "         Install PhantomJS to workaround the issue. Please download it from https://phantomjs.org/download.html\n",
      "         n = INRvqIGINCur72K9d ; player = https://www.youtube.com/s/player/28fd7348/player_ias.vflset/en_US/base.js\n"
     ]
    },
    {
     "name": "stdout",
     "output_type": "stream",
     "text": [
      "[youtube] RMc9qFrCqno: Downloading m3u8 information\n",
      "enhypen - broughttheheatback\n",
      "[youtube] Extracting URL: https://youtu.be/vdW2UzdcG3Q?si=rHuapvqFbq42GHa4\n",
      "[youtube] vdW2UzdcG3Q: Downloading webpage\n",
      "[youtube] vdW2UzdcG3Q: Downloading ios player API JSON\n",
      "[youtube] vdW2UzdcG3Q: Downloading android player API JSON\n"
     ]
    },
    {
     "name": "stderr",
     "output_type": "stream",
     "text": [
      "WARNING: [youtube] vdW2UzdcG3Q: nsig extraction failed: You may experience throttling for some formats\n",
      "         Install PhantomJS to workaround the issue. Please download it from https://phantomjs.org/download.html\n",
      "         n = 33qX8Gjko7qTTnxMp ; player = https://www.youtube.com/s/player/28fd7348/player_ias.vflset/en_US/base.js\n",
      "WARNING: [youtube] vdW2UzdcG3Q: nsig extraction failed: You may experience throttling for some formats\n",
      "         Install PhantomJS to workaround the issue. Please download it from https://phantomjs.org/download.html\n",
      "         n = V2IhKdTPcgwH2I4XG ; player = https://www.youtube.com/s/player/28fd7348/player_ias.vflset/en_US/base.js\n"
     ]
    },
    {
     "name": "stdout",
     "output_type": "stream",
     "text": [
      "[youtube] vdW2UzdcG3Q: Downloading m3u8 information\n",
      "leechayeon - dont\n",
      "[youtube] Extracting URL: https://youtu.be/Y_IgKYeRGNw?si=2oXNlUoL5Sho51RL\n",
      "[youtube] Y_IgKYeRGNw: Downloading webpage\n",
      "[youtube] Y_IgKYeRGNw: Downloading ios player API JSON\n",
      "[youtube] Y_IgKYeRGNw: Downloading android player API JSON\n"
     ]
    },
    {
     "name": "stderr",
     "output_type": "stream",
     "text": [
      "WARNING: [youtube] Y_IgKYeRGNw: nsig extraction failed: You may experience throttling for some formats\n",
      "         Install PhantomJS to workaround the issue. Please download it from https://phantomjs.org/download.html\n",
      "         n = H1kdU3MhS55DrcjBg ; player = https://www.youtube.com/s/player/28fd7348/player_ias.vflset/en_US/base.js\n",
      "WARNING: [youtube] Y_IgKYeRGNw: nsig extraction failed: You may experience throttling for some formats\n",
      "         Install PhantomJS to workaround the issue. Please download it from https://phantomjs.org/download.html\n",
      "         n = ZNRYclUz3NR7dIrQ4 ; player = https://www.youtube.com/s/player/28fd7348/player_ias.vflset/en_US/base.js\n"
     ]
    },
    {
     "name": "stdout",
     "output_type": "stream",
     "text": [
      "[youtube] Y_IgKYeRGNw: Downloading m3u8 information\n",
      "treasure - bonabona\n",
      "[youtube] Extracting URL: https://youtu.be/ND-10FG3X_c?si=V1rBTWdSzodAk6EU\n",
      "[youtube] ND-10FG3X_c: Downloading webpage\n",
      "[youtube] ND-10FG3X_c: Downloading ios player API JSON\n",
      "[youtube] ND-10FG3X_c: Downloading android player API JSON\n"
     ]
    },
    {
     "name": "stderr",
     "output_type": "stream",
     "text": [
      "WARNING: [youtube] ND-10FG3X_c: nsig extraction failed: You may experience throttling for some formats\n",
      "         Install PhantomJS to workaround the issue. Please download it from https://phantomjs.org/download.html\n",
      "         n = SWyXmx7t5g2oxEs6D ; player = https://www.youtube.com/s/player/28fd7348/player_ias.vflset/en_US/base.js\n",
      "WARNING: [youtube] ND-10FG3X_c: nsig extraction failed: You may experience throttling for some formats\n",
      "         Install PhantomJS to workaround the issue. Please download it from https://phantomjs.org/download.html\n",
      "         n = ymvkN8k5NEr1_bFpp ; player = https://www.youtube.com/s/player/28fd7348/player_ias.vflset/en_US/base.js\n"
     ]
    },
    {
     "name": "stdout",
     "output_type": "stream",
     "text": [
      "[youtube] ND-10FG3X_c: Downloading m3u8 information\n",
      "treasure - bonabona\n",
      "[youtube] Extracting URL: https://youtu.be/ND-10FG3X_c?si=V1rBTWdSzodAk6EU\n",
      "[youtube] ND-10FG3X_c: Downloading webpage\n",
      "[youtube] ND-10FG3X_c: Downloading ios player API JSON\n",
      "[youtube] ND-10FG3X_c: Downloading android player API JSON\n"
     ]
    },
    {
     "name": "stderr",
     "output_type": "stream",
     "text": [
      "WARNING: [youtube] ND-10FG3X_c: nsig extraction failed: You may experience throttling for some formats\n",
      "         Install PhantomJS to workaround the issue. Please download it from https://phantomjs.org/download.html\n",
      "         n = 3bLOhAm0QlxyUTSRR ; player = https://www.youtube.com/s/player/28fd7348/player_ias.vflset/en_US/base.js\n",
      "WARNING: [youtube] ND-10FG3X_c: nsig extraction failed: You may experience throttling for some formats\n",
      "         Install PhantomJS to workaround the issue. Please download it from https://phantomjs.org/download.html\n",
      "         n = JkXLVzV0Te7jjw7CN ; player = https://www.youtube.com/s/player/28fd7348/player_ias.vflset/en_US/base.js\n"
     ]
    },
    {
     "name": "stdout",
     "output_type": "stream",
     "text": [
      "[youtube] ND-10FG3X_c: Downloading m3u8 information\n",
      "straykids - chkchkboom\n",
      "[youtube] Extracting URL: https://youtu.be/D0GaZFwNdlU?si=rZyFfMEfRB8_0o70\n",
      "[youtube] D0GaZFwNdlU: Downloading webpage\n",
      "[youtube] D0GaZFwNdlU: Downloading ios player API JSON\n",
      "[youtube] D0GaZFwNdlU: Downloading android player API JSON\n"
     ]
    },
    {
     "name": "stderr",
     "output_type": "stream",
     "text": [
      "WARNING: [youtube] D0GaZFwNdlU: nsig extraction failed: You may experience throttling for some formats\n",
      "         Install PhantomJS to workaround the issue. Please download it from https://phantomjs.org/download.html\n",
      "         n = ecZZA-Su1DRKA4BIx ; player = https://www.youtube.com/s/player/28fd7348/player_ias.vflset/en_US/base.js\n",
      "WARNING: [youtube] D0GaZFwNdlU: nsig extraction failed: You may experience throttling for some formats\n",
      "         Install PhantomJS to workaround the issue. Please download it from https://phantomjs.org/download.html\n",
      "         n = 0fbdP1UwM6tQPFRM_ ; player = https://www.youtube.com/s/player/28fd7348/player_ias.vflset/en_US/base.js\n"
     ]
    },
    {
     "name": "stdout",
     "output_type": "stream",
     "text": [
      "[youtube] D0GaZFwNdlU: Downloading m3u8 information\n",
      "gidle - klaxon\n",
      "[youtube] Extracting URL: https://youtu.be/fAdA8rW_UuY?si=VJ738oH7o1sgZceS\n",
      "[youtube] fAdA8rW_UuY: Downloading webpage\n",
      "[youtube] fAdA8rW_UuY: Downloading ios player API JSON\n",
      "[youtube] fAdA8rW_UuY: Downloading android player API JSON\n"
     ]
    },
    {
     "name": "stderr",
     "output_type": "stream",
     "text": [
      "WARNING: [youtube] fAdA8rW_UuY: nsig extraction failed: You may experience throttling for some formats\n",
      "         Install PhantomJS to workaround the issue. Please download it from https://phantomjs.org/download.html\n",
      "         n = GZqtgbaQWg03z96zM ; player = https://www.youtube.com/s/player/28fd7348/player_ias.vflset/en_US/base.js\n",
      "WARNING: [youtube] fAdA8rW_UuY: nsig extraction failed: You may experience throttling for some formats\n",
      "         Install PhantomJS to workaround the issue. Please download it from https://phantomjs.org/download.html\n",
      "         n = GE6drMOirjIDjpKC1 ; player = https://www.youtube.com/s/player/28fd7348/player_ias.vflset/en_US/base.js\n"
     ]
    },
    {
     "name": "stdout",
     "output_type": "stream",
     "text": [
      "[youtube] fAdA8rW_UuY: Downloading m3u8 information\n",
      "highlight - body\n",
      "[youtube] Extracting URL: https://youtu.be/ZOfSeRadXZ0?si=aQvfnJNqlv-HobHA\n",
      "[youtube] ZOfSeRadXZ0: Downloading webpage\n",
      "[youtube] ZOfSeRadXZ0: Downloading ios player API JSON\n",
      "[youtube] ZOfSeRadXZ0: Downloading android player API JSON\n"
     ]
    },
    {
     "name": "stderr",
     "output_type": "stream",
     "text": [
      "WARNING: [youtube] ZOfSeRadXZ0: nsig extraction failed: You may experience throttling for some formats\n",
      "         Install PhantomJS to workaround the issue. Please download it from https://phantomjs.org/download.html\n",
      "         n = eydnklSrHNBaN_j0v ; player = https://www.youtube.com/s/player/28fd7348/player_ias.vflset/en_US/base.js\n",
      "WARNING: [youtube] ZOfSeRadXZ0: nsig extraction failed: You may experience throttling for some formats\n",
      "         Install PhantomJS to workaround the issue. Please download it from https://phantomjs.org/download.html\n",
      "         n = aYmal55SKKPz5cb-T ; player = https://www.youtube.com/s/player/28fd7348/player_ias.vflset/en_US/base.js\n"
     ]
    },
    {
     "name": "stdout",
     "output_type": "stream",
     "text": [
      "[youtube] ZOfSeRadXZ0: Downloading m3u8 information\n",
      "3ye - queen\n",
      "[youtube] Extracting URL: https://youtu.be/OcKV-js0m7w?si=RFcZdjVuFHsqRiVJ\n",
      "[youtube] OcKV-js0m7w: Downloading webpage\n",
      "[youtube] OcKV-js0m7w: Downloading ios player API JSON\n",
      "[youtube] OcKV-js0m7w: Downloading android player API JSON\n"
     ]
    },
    {
     "name": "stderr",
     "output_type": "stream",
     "text": [
      "WARNING: [youtube] OcKV-js0m7w: nsig extraction failed: You may experience throttling for some formats\n",
      "         Install PhantomJS to workaround the issue. Please download it from https://phantomjs.org/download.html\n",
      "         n = 4YWsaucgDT53ssv_w ; player = https://www.youtube.com/s/player/28fd7348/player_ias.vflset/en_US/base.js\n",
      "WARNING: [youtube] OcKV-js0m7w: nsig extraction failed: You may experience throttling for some formats\n",
      "         Install PhantomJS to workaround the issue. Please download it from https://phantomjs.org/download.html\n",
      "         n = 4wDoKH0iZBwIFbJNg ; player = https://www.youtube.com/s/player/28fd7348/player_ias.vflset/en_US/base.js\n"
     ]
    },
    {
     "name": "stdout",
     "output_type": "stream",
     "text": [
      "[youtube] OcKV-js0m7w: Downloading m3u8 information\n",
      "ive - accendio\n",
      "[youtube] Extracting URL: https://youtu.be/sG9RiH7Xpvg?si=ND6qWVjCdKREQ_Yl\n",
      "[youtube] sG9RiH7Xpvg: Downloading webpage\n",
      "[youtube] sG9RiH7Xpvg: Downloading ios player API JSON\n",
      "[youtube] sG9RiH7Xpvg: Downloading android player API JSON\n"
     ]
    },
    {
     "name": "stderr",
     "output_type": "stream",
     "text": [
      "WARNING: [youtube] sG9RiH7Xpvg: nsig extraction failed: You may experience throttling for some formats\n",
      "         Install PhantomJS to workaround the issue. Please download it from https://phantomjs.org/download.html\n",
      "         n = f9VOgubwkUh0Rjqe8 ; player = https://www.youtube.com/s/player/28fd7348/player_ias.vflset/en_US/base.js\n",
      "WARNING: [youtube] sG9RiH7Xpvg: nsig extraction failed: You may experience throttling for some formats\n",
      "         Install PhantomJS to workaround the issue. Please download it from https://phantomjs.org/download.html\n",
      "         n = ZTiM8aTZtISYvDGrX ; player = https://www.youtube.com/s/player/28fd7348/player_ias.vflset/en_US/base.js\n"
     ]
    },
    {
     "name": "stdout",
     "output_type": "stream",
     "text": [
      "[youtube] sG9RiH7Xpvg: Downloading m3u8 information\n",
      "kissoflife - sticky\n",
      "[youtube] Extracting URL: https://youtu.be/yjXuXx401mU?si=lsqa8WCCbbt0oL4C\n",
      "[youtube] yjXuXx401mU: Downloading webpage\n",
      "[youtube] yjXuXx401mU: Downloading ios player API JSON\n",
      "[youtube] yjXuXx401mU: Downloading android player API JSON\n"
     ]
    },
    {
     "name": "stderr",
     "output_type": "stream",
     "text": [
      "WARNING: [youtube] yjXuXx401mU: nsig extraction failed: You may experience throttling for some formats\n",
      "         Install PhantomJS to workaround the issue. Please download it from https://phantomjs.org/download.html\n",
      "         n = OYYTr4asw5qhJrwLk ; player = https://www.youtube.com/s/player/28fd7348/player_ias.vflset/en_US/base.js\n",
      "WARNING: [youtube] yjXuXx401mU: nsig extraction failed: You may experience throttling for some formats\n",
      "         Install PhantomJS to workaround the issue. Please download it from https://phantomjs.org/download.html\n",
      "         n = NlFElqmyjh3Ib02Gp ; player = https://www.youtube.com/s/player/28fd7348/player_ias.vflset/en_US/base.js\n"
     ]
    },
    {
     "name": "stdout",
     "output_type": "stream",
     "text": [
      "[youtube] yjXuXx401mU: Downloading m3u8 information\n",
      "unis - superwoman\n",
      "[youtube] Extracting URL: https://youtu.be/qUKFrNXnA6M?si=Ikypyt92R-HMUcJc\n",
      "[youtube] qUKFrNXnA6M: Downloading webpage\n",
      "[youtube] qUKFrNXnA6M: Downloading ios player API JSON\n",
      "[youtube] qUKFrNXnA6M: Downloading android player API JSON\n"
     ]
    },
    {
     "name": "stderr",
     "output_type": "stream",
     "text": [
      "WARNING: [youtube] qUKFrNXnA6M: nsig extraction failed: You may experience throttling for some formats\n",
      "         Install PhantomJS to workaround the issue. Please download it from https://phantomjs.org/download.html\n",
      "         n = RDj6a44MGsaWQh8Gm ; player = https://www.youtube.com/s/player/28fd7348/player_ias.vflset/en_US/base.js\n",
      "WARNING: [youtube] qUKFrNXnA6M: nsig extraction failed: You may experience throttling for some formats\n",
      "         Install PhantomJS to workaround the issue. Please download it from https://phantomjs.org/download.html\n",
      "         n = CkTzWrw8-xrJQZ9Bt ; player = https://www.youtube.com/s/player/28fd7348/player_ias.vflset/en_US/base.js\n"
     ]
    },
    {
     "name": "stdout",
     "output_type": "stream",
     "text": [
      "[youtube] qUKFrNXnA6M: Downloading m3u8 information\n",
      "straykids - chkchkboom\n",
      "[youtube] Extracting URL: https://youtu.be/D0GaZFwNdlU?si=q1NrA_SkOWFiphFA\n",
      "[youtube] D0GaZFwNdlU: Downloading webpage\n",
      "[youtube] D0GaZFwNdlU: Downloading ios player API JSON\n",
      "[youtube] D0GaZFwNdlU: Downloading android player API JSON\n"
     ]
    },
    {
     "name": "stderr",
     "output_type": "stream",
     "text": [
      "WARNING: [youtube] D0GaZFwNdlU: nsig extraction failed: You may experience throttling for some formats\n",
      "         Install PhantomJS to workaround the issue. Please download it from https://phantomjs.org/download.html\n",
      "         n = Rc6HNzcQ1Y3-_vhnL ; player = https://www.youtube.com/s/player/28fd7348/player_ias.vflset/en_US/base.js\n",
      "WARNING: [youtube] D0GaZFwNdlU: nsig extraction failed: You may experience throttling for some formats\n",
      "         Install PhantomJS to workaround the issue. Please download it from https://phantomjs.org/download.html\n",
      "         n = azpVn8Sqq61fPPxzx ; player = https://www.youtube.com/s/player/28fd7348/player_ias.vflset/en_US/base.js\n"
     ]
    },
    {
     "name": "stdout",
     "output_type": "stream",
     "text": [
      "[youtube] D0GaZFwNdlU: Downloading m3u8 information\n",
      "sf9 - trauma\n",
      "[youtube] Extracting URL: https://youtu.be/U36B7zIJY0Q?si=EH4Z-_vNhF6_E3Aw\n",
      "[youtube] U36B7zIJY0Q: Downloading webpage\n",
      "[youtube] U36B7zIJY0Q: Downloading ios player API JSON\n",
      "[youtube] U36B7zIJY0Q: Downloading android player API JSON\n"
     ]
    },
    {
     "name": "stderr",
     "output_type": "stream",
     "text": [
      "WARNING: [youtube] U36B7zIJY0Q: nsig extraction failed: You may experience throttling for some formats\n",
      "         Install PhantomJS to workaround the issue. Please download it from https://phantomjs.org/download.html\n",
      "         n = Xhw8S46oIxfqkrNrw ; player = https://www.youtube.com/s/player/28fd7348/player_ias.vflset/en_US/base.js\n",
      "WARNING: [youtube] U36B7zIJY0Q: nsig extraction failed: You may experience throttling for some formats\n",
      "         Install PhantomJS to workaround the issue. Please download it from https://phantomjs.org/download.html\n",
      "         n = NmDtew5sq0k0x8kPe ; player = https://www.youtube.com/s/player/28fd7348/player_ias.vflset/en_US/base.js\n"
     ]
    },
    {
     "name": "stdout",
     "output_type": "stream",
     "text": [
      "[youtube] U36B7zIJY0Q: Downloading m3u8 information\n",
      "tvxq - rebel\n",
      "[youtube] Extracting URL: https://youtu.be/FfJqO54DHyE?si=IH3ixS0kynYjeWgU\n",
      "[youtube] FfJqO54DHyE: Downloading webpage\n",
      "[youtube] FfJqO54DHyE: Downloading ios player API JSON\n",
      "[youtube] FfJqO54DHyE: Downloading android player API JSON\n"
     ]
    },
    {
     "name": "stderr",
     "output_type": "stream",
     "text": [
      "WARNING: [youtube] FfJqO54DHyE: nsig extraction failed: You may experience throttling for some formats\n",
      "         Install PhantomJS to workaround the issue. Please download it from https://phantomjs.org/download.html\n",
      "         n = 9ed5qZwjYRfVpoZeH ; player = https://www.youtube.com/s/player/28fd7348/player_ias.vflset/en_US/base.js\n",
      "WARNING: [youtube] FfJqO54DHyE: nsig extraction failed: You may experience throttling for some formats\n",
      "         Install PhantomJS to workaround the issue. Please download it from https://phantomjs.org/download.html\n",
      "         n = JWGCOALoupx9Dhtzs ; player = https://www.youtube.com/s/player/28fd7348/player_ias.vflset/en_US/base.js\n"
     ]
    },
    {
     "name": "stdout",
     "output_type": "stream",
     "text": [
      "[youtube] FfJqO54DHyE: Downloading m3u8 information\n",
      "classy - shutdown\n",
      "[youtube] Extracting URL: https://youtu.be/Rlls35qWZxQ?si=tP3izrVKnbRsWfow\n",
      "[youtube] Rlls35qWZxQ: Downloading webpage\n",
      "[youtube] Rlls35qWZxQ: Downloading ios player API JSON\n",
      "[youtube] Rlls35qWZxQ: Downloading android player API JSON\n"
     ]
    },
    {
     "name": "stderr",
     "output_type": "stream",
     "text": [
      "WARNING: [youtube] Rlls35qWZxQ: nsig extraction failed: You may experience throttling for some formats\n",
      "         Install PhantomJS to workaround the issue. Please download it from https://phantomjs.org/download.html\n",
      "         n = 6cW8dXs79M-9UfFc8 ; player = https://www.youtube.com/s/player/28fd7348/player_ias.vflset/en_US/base.js\n",
      "WARNING: [youtube] Rlls35qWZxQ: nsig extraction failed: You may experience throttling for some formats\n",
      "         Install PhantomJS to workaround the issue. Please download it from https://phantomjs.org/download.html\n",
      "         n = kXS6SFOsJUp7Z4Uun ; player = https://www.youtube.com/s/player/28fd7348/player_ias.vflset/en_US/base.js\n"
     ]
    },
    {
     "name": "stdout",
     "output_type": "stream",
     "text": [
      "[youtube] Rlls35qWZxQ: Downloading m3u8 information\n",
      "allhours - shock\n",
      "[youtube] Extracting URL: https://youtu.be/9U4OYUmZPtU?si=T5A55jU9G6g1v_QC\n",
      "[youtube] 9U4OYUmZPtU: Downloading webpage\n",
      "[youtube] 9U4OYUmZPtU: Downloading ios player API JSON\n",
      "[youtube] 9U4OYUmZPtU: Downloading android player API JSON\n"
     ]
    },
    {
     "name": "stderr",
     "output_type": "stream",
     "text": [
      "WARNING: [youtube] 9U4OYUmZPtU: nsig extraction failed: You may experience throttling for some formats\n",
      "         Install PhantomJS to workaround the issue. Please download it from https://phantomjs.org/download.html\n",
      "         n = S1ROZanWUQBTAuFs2 ; player = https://www.youtube.com/s/player/28fd7348/player_ias.vflset/en_US/base.js\n",
      "WARNING: [youtube] 9U4OYUmZPtU: nsig extraction failed: You may experience throttling for some formats\n",
      "         Install PhantomJS to workaround the issue. Please download it from https://phantomjs.org/download.html\n",
      "         n = BFchdv_LOiUUFibct ; player = https://www.youtube.com/s/player/28fd7348/player_ias.vflset/en_US/base.js\n"
     ]
    },
    {
     "name": "stdout",
     "output_type": "stream",
     "text": [
      "[youtube] 9U4OYUmZPtU: Downloading m3u8 information\n",
      "enhypen - broughttheheatback\n",
      "[youtube] Extracting URL: https://youtu.be/vdW2UzdcG3Q?si=Ihv3Yw6-QYel33ga\n",
      "[youtube] vdW2UzdcG3Q: Downloading webpage\n",
      "[youtube] vdW2UzdcG3Q: Downloading ios player API JSON\n",
      "[youtube] vdW2UzdcG3Q: Downloading android player API JSON\n"
     ]
    },
    {
     "name": "stderr",
     "output_type": "stream",
     "text": [
      "WARNING: [youtube] vdW2UzdcG3Q: nsig extraction failed: You may experience throttling for some formats\n",
      "         Install PhantomJS to workaround the issue. Please download it from https://phantomjs.org/download.html\n",
      "         n = H6Bz6qgJvsIZfn8FK ; player = https://www.youtube.com/s/player/28fd7348/player_ias.vflset/en_US/base.js\n",
      "WARNING: [youtube] vdW2UzdcG3Q: nsig extraction failed: You may experience throttling for some formats\n",
      "         Install PhantomJS to workaround the issue. Please download it from https://phantomjs.org/download.html\n",
      "         n = KEZ0fMUGBrtVca-cb ; player = https://www.youtube.com/s/player/28fd7348/player_ias.vflset/en_US/base.js\n"
     ]
    },
    {
     "name": "stdout",
     "output_type": "stream",
     "text": [
      "[youtube] vdW2UzdcG3Q: Downloading m3u8 information\n",
      "enhypen - xoonlyifyousayyes\n",
      "[youtube] Extracting URL: https://youtu.be/MD3_TtxoL9Y?si=g3EENuZINP1wXU6u\n",
      "[youtube] MD3_TtxoL9Y: Downloading webpage\n",
      "[youtube] MD3_TtxoL9Y: Downloading ios player API JSON\n",
      "[youtube] MD3_TtxoL9Y: Downloading android player API JSON\n"
     ]
    },
    {
     "name": "stderr",
     "output_type": "stream",
     "text": [
      "WARNING: [youtube] MD3_TtxoL9Y: nsig extraction failed: You may experience throttling for some formats\n",
      "         Install PhantomJS to workaround the issue. Please download it from https://phantomjs.org/download.html\n",
      "         n = zBDUbtNIieuLnc99- ; player = https://www.youtube.com/s/player/28fd7348/player_ias.vflset/en_US/base.js\n",
      "WARNING: [youtube] MD3_TtxoL9Y: nsig extraction failed: You may experience throttling for some formats\n",
      "         Install PhantomJS to workaround the issue. Please download it from https://phantomjs.org/download.html\n",
      "         n = Ykv_Peo-NX5QURGdK ; player = https://www.youtube.com/s/player/28fd7348/player_ias.vflset/en_US/base.js\n"
     ]
    },
    {
     "name": "stdout",
     "output_type": "stream",
     "text": [
      "[youtube] MD3_TtxoL9Y: Downloading m3u8 information\n",
      "seventeen - maestro\n",
      "[youtube] Extracting URL: https://youtu.be/eM-TmvV_G2o?si=9FrCXumM04Q5NDBm\n",
      "[youtube] eM-TmvV_G2o: Downloading webpage\n",
      "[youtube] eM-TmvV_G2o: Downloading ios player API JSON\n",
      "[youtube] eM-TmvV_G2o: Downloading android player API JSON\n"
     ]
    },
    {
     "name": "stderr",
     "output_type": "stream",
     "text": [
      "WARNING: [youtube] eM-TmvV_G2o: nsig extraction failed: You may experience throttling for some formats\n",
      "         Install PhantomJS to workaround the issue. Please download it from https://phantomjs.org/download.html\n",
      "         n = 7HVMR6vpnw0NvatHl ; player = https://www.youtube.com/s/player/28fd7348/player_ias.vflset/en_US/base.js\n",
      "WARNING: [youtube] eM-TmvV_G2o: nsig extraction failed: You may experience throttling for some formats\n",
      "         Install PhantomJS to workaround the issue. Please download it from https://phantomjs.org/download.html\n",
      "         n = O1kkgSwEu80YXoGlA ; player = https://www.youtube.com/s/player/28fd7348/player_ias.vflset/en_US/base.js\n"
     ]
    },
    {
     "name": "stdout",
     "output_type": "stream",
     "text": [
      "[youtube] eM-TmvV_G2o: Downloading m3u8 information\n",
      "artms - butterflyeffect\n",
      "[youtube] Extracting URL: https://youtu.be/aKWxw9NNo88?si=9ruyATqQsv6KICtA\n",
      "[youtube] aKWxw9NNo88: Downloading webpage\n",
      "[youtube] aKWxw9NNo88: Downloading ios player API JSON\n",
      "[youtube] aKWxw9NNo88: Downloading android player API JSON\n"
     ]
    },
    {
     "name": "stderr",
     "output_type": "stream",
     "text": [
      "WARNING: [youtube] aKWxw9NNo88: nsig extraction failed: You may experience throttling for some formats\n",
      "         Install PhantomJS to workaround the issue. Please download it from https://phantomjs.org/download.html\n",
      "         n = 0sRR4u4mkhLpVH3gm ; player = https://www.youtube.com/s/player/28fd7348/player_ias.vflset/en_US/base.js\n",
      "WARNING: [youtube] aKWxw9NNo88: nsig extraction failed: You may experience throttling for some formats\n",
      "         Install PhantomJS to workaround the issue. Please download it from https://phantomjs.org/download.html\n",
      "         n = BrQoDFAeGBpa4iwnd ; player = https://www.youtube.com/s/player/28fd7348/player_ias.vflset/en_US/base.js\n"
     ]
    },
    {
     "name": "stdout",
     "output_type": "stream",
     "text": [
      "[youtube] aKWxw9NNo88: Downloading m3u8 information\n",
      "straykids - getcool\n",
      "[youtube] Extracting URL: https://youtu.be/us0xfxXf0fg?si=YJRTJwhhVATuUqAZ\n",
      "[youtube] us0xfxXf0fg: Downloading webpage\n",
      "[youtube] us0xfxXf0fg: Downloading ios player API JSON\n",
      "[youtube] us0xfxXf0fg: Downloading android player API JSON\n"
     ]
    },
    {
     "name": "stderr",
     "output_type": "stream",
     "text": [
      "WARNING: [youtube] us0xfxXf0fg: nsig extraction failed: You may experience throttling for some formats\n",
      "         Install PhantomJS to workaround the issue. Please download it from https://phantomjs.org/download.html\n",
      "         n = KmAI6AdIcFyufrlgn ; player = https://www.youtube.com/s/player/28fd7348/player_ias.vflset/en_US/base.js\n",
      "WARNING: [youtube] us0xfxXf0fg: nsig extraction failed: You may experience throttling for some formats\n",
      "         Install PhantomJS to workaround the issue. Please download it from https://phantomjs.org/download.html\n",
      "         n = UVAdmNBXcFQBA99xo ; player = https://www.youtube.com/s/player/28fd7348/player_ias.vflset/en_US/base.js\n"
     ]
    },
    {
     "name": "stdout",
     "output_type": "stream",
     "text": [
      "[youtube] us0xfxXf0fg: Downloading m3u8 information\n",
      "straykids - surfin\n",
      "[youtube] Extracting URL: https://youtu.be/eEv8lpVTmZI?si=7GOcTLa31gDI9F5B\n",
      "[youtube] eEv8lpVTmZI: Downloading webpage\n",
      "[youtube] eEv8lpVTmZI: Downloading ios player API JSON\n",
      "[youtube] eEv8lpVTmZI: Downloading android player API JSON\n"
     ]
    },
    {
     "name": "stderr",
     "output_type": "stream",
     "text": [
      "WARNING: [youtube] eEv8lpVTmZI: nsig extraction failed: You may experience throttling for some formats\n",
      "         Install PhantomJS to workaround the issue. Please download it from https://phantomjs.org/download.html\n",
      "         n = 40yMz7_MzSqFvUpOj ; player = https://www.youtube.com/s/player/28fd7348/player_ias.vflset/en_US/base.js\n",
      "WARNING: [youtube] eEv8lpVTmZI: nsig extraction failed: You may experience throttling for some formats\n",
      "         Install PhantomJS to workaround the issue. Please download it from https://phantomjs.org/download.html\n",
      "         n = 0iwz6REpgheNPnJpa ; player = https://www.youtube.com/s/player/28fd7348/player_ias.vflset/en_US/base.js\n"
     ]
    },
    {
     "name": "stdout",
     "output_type": "stream",
     "text": [
      "[youtube] eEv8lpVTmZI: Downloading m3u8 information\n",
      "aimers - colors\n",
      "[youtube] Extracting URL: https://youtu.be/RPb_uct_R7Q?si=cyetH8tFKWEUuHGa\n",
      "[youtube] RPb_uct_R7Q: Downloading webpage\n",
      "[youtube] RPb_uct_R7Q: Downloading ios player API JSON\n",
      "[youtube] RPb_uct_R7Q: Downloading android player API JSON\n"
     ]
    },
    {
     "name": "stderr",
     "output_type": "stream",
     "text": [
      "WARNING: [youtube] RPb_uct_R7Q: nsig extraction failed: You may experience throttling for some formats\n",
      "         Install PhantomJS to workaround the issue. Please download it from https://phantomjs.org/download.html\n",
      "         n = jkSBVv961Z6JL6aF_ ; player = https://www.youtube.com/s/player/28fd7348/player_ias.vflset/en_US/base.js\n",
      "WARNING: [youtube] RPb_uct_R7Q: nsig extraction failed: You may experience throttling for some formats\n",
      "         Install PhantomJS to workaround the issue. Please download it from https://phantomjs.org/download.html\n",
      "         n = Eb-kpLlUH4sMapxBh ; player = https://www.youtube.com/s/player/28fd7348/player_ias.vflset/en_US/base.js\n"
     ]
    },
    {
     "name": "stdout",
     "output_type": "stream",
     "text": [
      "[youtube] RPb_uct_R7Q: Downloading m3u8 information\n",
      "p1harmony - doomdudoom\n",
      "[youtube] Extracting URL: https://youtu.be/RqnlKzlkiBI?si=PSegBT0w10Ly5bCC\n",
      "[youtube] RqnlKzlkiBI: Downloading webpage\n",
      "[youtube] RqnlKzlkiBI: Downloading ios player API JSON\n",
      "[youtube] RqnlKzlkiBI: Downloading android player API JSON\n"
     ]
    },
    {
     "name": "stderr",
     "output_type": "stream",
     "text": [
      "WARNING: [youtube] RqnlKzlkiBI: nsig extraction failed: You may experience throttling for some formats\n",
      "         Install PhantomJS to workaround the issue. Please download it from https://phantomjs.org/download.html\n",
      "         n = 2VKJlJZfodbhJ3KzI ; player = https://www.youtube.com/s/player/28fd7348/player_ias.vflset/en_US/base.js\n",
      "WARNING: [youtube] RqnlKzlkiBI: nsig extraction failed: You may experience throttling for some formats\n",
      "         Install PhantomJS to workaround the issue. Please download it from https://phantomjs.org/download.html\n",
      "         n = GQZT7go026ZVTCNvn ; player = https://www.youtube.com/s/player/28fd7348/player_ias.vflset/en_US/base.js\n"
     ]
    },
    {
     "name": "stdout",
     "output_type": "stream",
     "text": [
      "[youtube] RqnlKzlkiBI: Downloading m3u8 information\n",
      "nayeon - abcd\n",
      "[youtube] Extracting URL: https://youtu.be/CD2S-RfxZTA?si=Y5ksybPkkyYlqlpl\n",
      "[youtube] CD2S-RfxZTA: Downloading webpage\n",
      "[youtube] CD2S-RfxZTA: Downloading ios player API JSON\n",
      "[youtube] CD2S-RfxZTA: Downloading android player API JSON\n"
     ]
    },
    {
     "name": "stderr",
     "output_type": "stream",
     "text": [
      "WARNING: [youtube] CD2S-RfxZTA: nsig extraction failed: You may experience throttling for some formats\n",
      "         Install PhantomJS to workaround the issue. Please download it from https://phantomjs.org/download.html\n",
      "         n = 1XmGztszlkkLK7Trp ; player = https://www.youtube.com/s/player/28fd7348/player_ias.vflset/en_US/base.js\n",
      "WARNING: [youtube] CD2S-RfxZTA: nsig extraction failed: You may experience throttling for some formats\n",
      "         Install PhantomJS to workaround the issue. Please download it from https://phantomjs.org/download.html\n",
      "         n = IVBxoeOoNMCSwRak2 ; player = https://www.youtube.com/s/player/28fd7348/player_ias.vflset/en_US/base.js\n"
     ]
    },
    {
     "name": "stdout",
     "output_type": "stream",
     "text": [
      "[youtube] CD2S-RfxZTA: Downloading m3u8 information\n",
      "straykids - case143\n",
      "[youtube] Extracting URL: https://youtu.be/DwsTPix2zYU?si=pXmfuRK6IApsBMYD\n",
      "[youtube] DwsTPix2zYU: Downloading webpage\n",
      "[youtube] DwsTPix2zYU: Downloading ios player API JSON\n",
      "[youtube] DwsTPix2zYU: Downloading android player API JSON\n"
     ]
    },
    {
     "name": "stderr",
     "output_type": "stream",
     "text": [
      "WARNING: [youtube] DwsTPix2zYU: nsig extraction failed: You may experience throttling for some formats\n",
      "         Install PhantomJS to workaround the issue. Please download it from https://phantomjs.org/download.html\n",
      "         n = 4skKhTjWYfNAr-Q0U ; player = https://www.youtube.com/s/player/28fd7348/player_ias.vflset/en_US/base.js\n",
      "WARNING: [youtube] DwsTPix2zYU: nsig extraction failed: You may experience throttling for some formats\n",
      "         Install PhantomJS to workaround the issue. Please download it from https://phantomjs.org/download.html\n",
      "         n = 6XtlXa6BuKTldNlSz ; player = https://www.youtube.com/s/player/28fd7348/player_ias.vflset/en_US/base.js\n"
     ]
    },
    {
     "name": "stdout",
     "output_type": "stream",
     "text": [
      "[youtube] DwsTPix2zYU: Downloading m3u8 information\n",
      "enhypen - biteme\n",
      "[youtube] Extracting URL: https://youtu.be/a1myc1Ap7Q8?si=ICC2xC0KyW_vy2bk\n",
      "[youtube] a1myc1Ap7Q8: Downloading webpage\n",
      "[youtube] a1myc1Ap7Q8: Downloading ios player API JSON\n",
      "[youtube] a1myc1Ap7Q8: Downloading android player API JSON\n"
     ]
    },
    {
     "name": "stderr",
     "output_type": "stream",
     "text": [
      "WARNING: [youtube] a1myc1Ap7Q8: nsig extraction failed: You may experience throttling for some formats\n",
      "         Install PhantomJS to workaround the issue. Please download it from https://phantomjs.org/download.html\n",
      "         n = B6Kb4-L7ph1w5vLvY ; player = https://www.youtube.com/s/player/28fd7348/player_ias.vflset/en_US/base.js\n",
      "WARNING: [youtube] a1myc1Ap7Q8: nsig extraction failed: You may experience throttling for some formats\n",
      "         Install PhantomJS to workaround the issue. Please download it from https://phantomjs.org/download.html\n",
      "         n = WHW3IGvG_Kx7-38fr ; player = https://www.youtube.com/s/player/28fd7348/player_ias.vflset/en_US/base.js\n"
     ]
    },
    {
     "name": "stdout",
     "output_type": "stream",
     "text": [
      "[youtube] a1myc1Ap7Q8: Downloading m3u8 information\n",
      "bts - bloodsweetandtears\n",
      "[youtube] Extracting URL: https://youtu.be/b23_UkBrrQk?si=Euh_NOtBV1a2w0j8\n",
      "[youtube] b23_UkBrrQk: Downloading webpage\n",
      "[youtube] b23_UkBrrQk: Downloading ios player API JSON\n",
      "[youtube] b23_UkBrrQk: Downloading android player API JSON\n"
     ]
    },
    {
     "name": "stderr",
     "output_type": "stream",
     "text": [
      "WARNING: [youtube] b23_UkBrrQk: nsig extraction failed: You may experience throttling for some formats\n",
      "         Install PhantomJS to workaround the issue. Please download it from https://phantomjs.org/download.html\n",
      "         n = io2sgbp0WkKJwfSiQ ; player = https://www.youtube.com/s/player/28fd7348/player_ias.vflset/en_US/base.js\n",
      "WARNING: [youtube] b23_UkBrrQk: nsig extraction failed: You may experience throttling for some formats\n",
      "         Install PhantomJS to workaround the issue. Please download it from https://phantomjs.org/download.html\n",
      "         n = EUDJL2yJ5Hybm2O7g ; player = https://www.youtube.com/s/player/28fd7348/player_ias.vflset/en_US/base.js\n"
     ]
    },
    {
     "name": "stdout",
     "output_type": "stream",
     "text": [
      "[youtube] b23_UkBrrQk: Downloading m3u8 information\n",
      "katseye - debut\n",
      "[youtube] Extracting URL: https://youtu.be/NPNfcVfPUkc?si=ARWc8kMt_NFP_obf\n",
      "[youtube] NPNfcVfPUkc: Downloading webpage\n",
      "[youtube] NPNfcVfPUkc: Downloading ios player API JSON\n",
      "[youtube] NPNfcVfPUkc: Downloading android player API JSON\n"
     ]
    },
    {
     "name": "stderr",
     "output_type": "stream",
     "text": [
      "WARNING: [youtube] NPNfcVfPUkc: nsig extraction failed: You may experience throttling for some formats\n",
      "         Install PhantomJS to workaround the issue. Please download it from https://phantomjs.org/download.html\n",
      "         n = gdpIs1S0KRgMovXGv ; player = https://www.youtube.com/s/player/28fd7348/player_ias.vflset/en_US/base.js\n",
      "WARNING: [youtube] NPNfcVfPUkc: nsig extraction failed: You may experience throttling for some formats\n",
      "         Install PhantomJS to workaround the issue. Please download it from https://phantomjs.org/download.html\n",
      "         n = F0I32rn6TD8-bkrRC ; player = https://www.youtube.com/s/player/28fd7348/player_ias.vflset/en_US/base.js\n"
     ]
    },
    {
     "name": "stdout",
     "output_type": "stream",
     "text": [
      "[youtube] NPNfcVfPUkc: Downloading m3u8 information\n",
      "blackpink - lovesickgirls\n",
      "[youtube] Extracting URL: https://youtu.be/qt81CWVHgjI?si=7UWYgw4rc5arr49T\n",
      "[youtube] qt81CWVHgjI: Downloading webpage\n",
      "[youtube] qt81CWVHgjI: Downloading ios player API JSON\n",
      "[youtube] qt81CWVHgjI: Downloading android player API JSON\n"
     ]
    },
    {
     "name": "stderr",
     "output_type": "stream",
     "text": [
      "WARNING: [youtube] qt81CWVHgjI: nsig extraction failed: You may experience throttling for some formats\n",
      "         Install PhantomJS to workaround the issue. Please download it from https://phantomjs.org/download.html\n",
      "         n = dym9JIBtwd3Ik7i9Q ; player = https://www.youtube.com/s/player/28fd7348/player_ias.vflset/en_US/base.js\n",
      "WARNING: [youtube] qt81CWVHgjI: nsig extraction failed: You may experience throttling for some formats\n",
      "         Install PhantomJS to workaround the issue. Please download it from https://phantomjs.org/download.html\n",
      "         n = A3SoIaKmxZnuq5nEc ; player = https://www.youtube.com/s/player/28fd7348/player_ias.vflset/en_US/base.js\n"
     ]
    },
    {
     "name": "stdout",
     "output_type": "stream",
     "text": [
      "[youtube] qt81CWVHgjI: Downloading m3u8 information\n",
      "straykids - chkchkboom\n",
      "[youtube] Extracting URL: https://youtu.be/D0GaZFwNdlU?si=P6USfEIWAMplef2I\n",
      "[youtube] D0GaZFwNdlU: Downloading webpage\n",
      "[youtube] D0GaZFwNdlU: Downloading ios player API JSON\n",
      "[youtube] D0GaZFwNdlU: Downloading android player API JSON\n"
     ]
    },
    {
     "name": "stderr",
     "output_type": "stream",
     "text": [
      "WARNING: [youtube] D0GaZFwNdlU: nsig extraction failed: You may experience throttling for some formats\n",
      "         Install PhantomJS to workaround the issue. Please download it from https://phantomjs.org/download.html\n",
      "         n = 5wKy3XR-9STbX3VR8 ; player = https://www.youtube.com/s/player/28fd7348/player_ias.vflset/en_US/base.js\n",
      "WARNING: [youtube] D0GaZFwNdlU: nsig extraction failed: You may experience throttling for some formats\n",
      "         Install PhantomJS to workaround the issue. Please download it from https://phantomjs.org/download.html\n",
      "         n = cW9btHce2ZNc88iQu ; player = https://www.youtube.com/s/player/28fd7348/player_ias.vflset/en_US/base.js\n"
     ]
    },
    {
     "name": "stdout",
     "output_type": "stream",
     "text": [
      "[youtube] D0GaZFwNdlU: Downloading m3u8 information\n",
      "xg - tippytoes\n",
      "[youtube] Extracting URL: https://youtu.be/jqp8BakNeU8?si=cj86FqKbQjEzKCLd\n",
      "[youtube] jqp8BakNeU8: Downloading webpage\n",
      "[youtube] jqp8BakNeU8: Downloading ios player API JSON\n",
      "[youtube] jqp8BakNeU8: Downloading android player API JSON\n"
     ]
    },
    {
     "name": "stderr",
     "output_type": "stream",
     "text": [
      "WARNING: [youtube] jqp8BakNeU8: nsig extraction failed: You may experience throttling for some formats\n",
      "         Install PhantomJS to workaround the issue. Please download it from https://phantomjs.org/download.html\n",
      "         n = DRginPKGIf8_q1-WR ; player = https://www.youtube.com/s/player/28fd7348/player_ias.vflset/en_US/base.js\n",
      "WARNING: [youtube] jqp8BakNeU8: nsig extraction failed: You may experience throttling for some formats\n",
      "         Install PhantomJS to workaround the issue. Please download it from https://phantomjs.org/download.html\n",
      "         n = iy-UxBzt66YbKE7MB ; player = https://www.youtube.com/s/player/28fd7348/player_ias.vflset/en_US/base.js\n"
     ]
    },
    {
     "name": "stdout",
     "output_type": "stream",
     "text": [
      "[youtube] jqp8BakNeU8: Downloading m3u8 information\n",
      "katseye - touch\n",
      "[youtube] Extracting URL: https://youtu.be/1UO9Do8uMDU?si=MWtU95nEMKSYOCC-\n",
      "[youtube] 1UO9Do8uMDU: Downloading webpage\n",
      "[youtube] 1UO9Do8uMDU: Downloading ios player API JSON\n",
      "[youtube] 1UO9Do8uMDU: Downloading android player API JSON\n"
     ]
    },
    {
     "name": "stderr",
     "output_type": "stream",
     "text": [
      "WARNING: [youtube] 1UO9Do8uMDU: nsig extraction failed: You may experience throttling for some formats\n",
      "         Install PhantomJS to workaround the issue. Please download it from https://phantomjs.org/download.html\n",
      "         n = Uoig8zMdVdeYo4XNY ; player = https://www.youtube.com/s/player/28fd7348/player_ias.vflset/en_US/base.js\n",
      "WARNING: [youtube] 1UO9Do8uMDU: nsig extraction failed: You may experience throttling for some formats\n",
      "         Install PhantomJS to workaround the issue. Please download it from https://phantomjs.org/download.html\n",
      "         n = CAEqnW6BvKVoMBd7B ; player = https://www.youtube.com/s/player/28fd7348/player_ias.vflset/en_US/base.js\n"
     ]
    },
    {
     "name": "stdout",
     "output_type": "stream",
     "text": [
      "[youtube] 1UO9Do8uMDU: Downloading m3u8 information\n",
      "illit - magnetic\n",
      "[youtube] Extracting URL: https://youtu.be/9UsfSpQqQ6c?si=8vhXzA3cux1BOh5d\n",
      "[youtube] 9UsfSpQqQ6c: Downloading webpage\n",
      "[youtube] 9UsfSpQqQ6c: Downloading ios player API JSON\n",
      "[youtube] 9UsfSpQqQ6c: Downloading android player API JSON\n"
     ]
    },
    {
     "name": "stderr",
     "output_type": "stream",
     "text": [
      "WARNING: [youtube] 9UsfSpQqQ6c: nsig extraction failed: You may experience throttling for some formats\n",
      "         Install PhantomJS to workaround the issue. Please download it from https://phantomjs.org/download.html\n",
      "         n = O9fls7jzZVrnrYfqS ; player = https://www.youtube.com/s/player/28fd7348/player_ias.vflset/en_US/base.js\n",
      "WARNING: [youtube] 9UsfSpQqQ6c: nsig extraction failed: You may experience throttling for some formats\n",
      "         Install PhantomJS to workaround the issue. Please download it from https://phantomjs.org/download.html\n",
      "         n = Vb3obJs4I7EWHtOKN ; player = https://www.youtube.com/s/player/28fd7348/player_ias.vflset/en_US/base.js\n"
     ]
    },
    {
     "name": "stdout",
     "output_type": "stream",
     "text": [
      "[youtube] 9UsfSpQqQ6c: Downloading m3u8 information\n",
      "troublemakerhyunahyunseung - troublemaker\n",
      "[youtube] Extracting URL: https://youtube.com/watch?v=GUe3wRkPYyM&pp=ygUTdHJvdWJsZW1ha2VyIGx5cmljcw%3D%3D\n",
      "[youtube] GUe3wRkPYyM: Downloading webpage\n",
      "[youtube] GUe3wRkPYyM: Downloading ios player API JSON\n",
      "[youtube] GUe3wRkPYyM: Downloading android player API JSON\n"
     ]
    },
    {
     "name": "stderr",
     "output_type": "stream",
     "text": [
      "WARNING: [youtube] GUe3wRkPYyM: nsig extraction failed: You may experience throttling for some formats\n",
      "         Install PhantomJS to workaround the issue. Please download it from https://phantomjs.org/download.html\n",
      "         n = 4e2WPvMHfR97RbUEr ; player = https://www.youtube.com/s/player/28fd7348/player_ias.vflset/en_US/base.js\n",
      "WARNING: [youtube] GUe3wRkPYyM: nsig extraction failed: You may experience throttling for some formats\n",
      "         Install PhantomJS to workaround the issue. Please download it from https://phantomjs.org/download.html\n",
      "         n = EOPqky-UvLj8REhaR ; player = https://www.youtube.com/s/player/28fd7348/player_ias.vflset/en_US/base.js\n"
     ]
    },
    {
     "name": "stdout",
     "output_type": "stream",
     "text": [
      "[youtube] GUe3wRkPYyM: Downloading m3u8 information\n",
      "straykids - chkchkboom\n",
      "[youtube] Extracting URL: https://youtube.com/watch?v=D0GaZFwNdlU&pp=ygUTY2hrIGNoayBib29tIGx5cmljcw%3D%3D\n",
      "[youtube] D0GaZFwNdlU: Downloading webpage\n",
      "[youtube] D0GaZFwNdlU: Downloading ios player API JSON\n",
      "[youtube] D0GaZFwNdlU: Downloading android player API JSON\n"
     ]
    },
    {
     "name": "stderr",
     "output_type": "stream",
     "text": [
      "WARNING: [youtube] D0GaZFwNdlU: nsig extraction failed: You may experience throttling for some formats\n",
      "         Install PhantomJS to workaround the issue. Please download it from https://phantomjs.org/download.html\n",
      "         n = rnpsgv3U9VDW3dvpC ; player = https://www.youtube.com/s/player/28fd7348/player_ias.vflset/en_US/base.js\n",
      "WARNING: [youtube] D0GaZFwNdlU: nsig extraction failed: You may experience throttling for some formats\n",
      "         Install PhantomJS to workaround the issue. Please download it from https://phantomjs.org/download.html\n",
      "         n = sMGtWcgGYDLnpTzU1 ; player = https://www.youtube.com/s/player/28fd7348/player_ias.vflset/en_US/base.js\n"
     ]
    },
    {
     "name": "stdout",
     "output_type": "stream",
     "text": [
      "[youtube] D0GaZFwNdlU: Downloading m3u8 information\n",
      "ateez - itsyou\n",
      "[youtube] Extracting URL: https://youtu.be/uTEu9gqjLGY?si=xXTO4WaJQskz3Msx\n",
      "[youtube] uTEu9gqjLGY: Downloading webpage\n",
      "[youtube] uTEu9gqjLGY: Downloading ios player API JSON\n",
      "[youtube] uTEu9gqjLGY: Downloading android player API JSON\n"
     ]
    },
    {
     "name": "stderr",
     "output_type": "stream",
     "text": [
      "WARNING: [youtube] uTEu9gqjLGY: nsig extraction failed: You may experience throttling for some formats\n",
      "         Install PhantomJS to workaround the issue. Please download it from https://phantomjs.org/download.html\n",
      "         n = PqpKYD4N-0TxvvSF_ ; player = https://www.youtube.com/s/player/28fd7348/player_ias.vflset/en_US/base.js\n",
      "WARNING: [youtube] uTEu9gqjLGY: nsig extraction failed: You may experience throttling for some formats\n",
      "         Install PhantomJS to workaround the issue. Please download it from https://phantomjs.org/download.html\n",
      "         n = Ltthl_ywe3DVtGAK8 ; player = https://www.youtube.com/s/player/28fd7348/player_ias.vflset/en_US/base.js\n"
     ]
    },
    {
     "name": "stdout",
     "output_type": "stream",
     "text": [
      "[youtube] uTEu9gqjLGY: Downloading m3u8 information\n",
      "exo - growl\n",
      "[youtube] Extracting URL: https://youtu.be/VMKeCj6RZN8?si=-Wl4Zr-t7lhWCaC_\n",
      "[youtube] VMKeCj6RZN8: Downloading webpage\n",
      "[youtube] VMKeCj6RZN8: Downloading ios player API JSON\n",
      "[youtube] VMKeCj6RZN8: Downloading android player API JSON\n"
     ]
    },
    {
     "name": "stderr",
     "output_type": "stream",
     "text": [
      "WARNING: [youtube] VMKeCj6RZN8: nsig extraction failed: You may experience throttling for some formats\n",
      "         Install PhantomJS to workaround the issue. Please download it from https://phantomjs.org/download.html\n",
      "         n = fys2whqKQfHjTSR3A ; player = https://www.youtube.com/s/player/28fd7348/player_ias.vflset/en_US/base.js\n",
      "WARNING: [youtube] VMKeCj6RZN8: nsig extraction failed: You may experience throttling for some formats\n",
      "         Install PhantomJS to workaround the issue. Please download it from https://phantomjs.org/download.html\n",
      "         n = lVQFgI65hLOGwLhEp ; player = https://www.youtube.com/s/player/28fd7348/player_ias.vflset/en_US/base.js\n"
     ]
    },
    {
     "name": "stdout",
     "output_type": "stream",
     "text": [
      "[youtube] VMKeCj6RZN8: Downloading m3u8 information\n",
      "nayeon - abcd\n",
      "[youtube] Extracting URL: https://youtu.be/CD2S-RfxZTA?si=IpEn9v-8NCmg2dMx\n",
      "[youtube] CD2S-RfxZTA: Downloading webpage\n",
      "[youtube] CD2S-RfxZTA: Downloading ios player API JSON\n",
      "[youtube] CD2S-RfxZTA: Downloading android player API JSON\n"
     ]
    },
    {
     "name": "stderr",
     "output_type": "stream",
     "text": [
      "WARNING: [youtube] CD2S-RfxZTA: nsig extraction failed: You may experience throttling for some formats\n",
      "         Install PhantomJS to workaround the issue. Please download it from https://phantomjs.org/download.html\n",
      "         n = ioC_k_CF3hB97hLaG ; player = https://www.youtube.com/s/player/28fd7348/player_ias.vflset/en_US/base.js\n",
      "WARNING: [youtube] CD2S-RfxZTA: nsig extraction failed: You may experience throttling for some formats\n",
      "         Install PhantomJS to workaround the issue. Please download it from https://phantomjs.org/download.html\n",
      "         n = JQXdgUygxCZlXi8h9 ; player = https://www.youtube.com/s/player/28fd7348/player_ias.vflset/en_US/base.js\n"
     ]
    },
    {
     "name": "stdout",
     "output_type": "stream",
     "text": [
      "[youtube] CD2S-RfxZTA: Downloading m3u8 information\n",
      "txt - dejavu\n",
      "[youtube] Extracting URL: https://youtu.be/xWYqQfCKH24?si=zgNshGtclJluqTdb\n",
      "[youtube] xWYqQfCKH24: Downloading webpage\n",
      "[youtube] xWYqQfCKH24: Downloading ios player API JSON\n",
      "[youtube] xWYqQfCKH24: Downloading android player API JSON\n"
     ]
    },
    {
     "name": "stderr",
     "output_type": "stream",
     "text": [
      "WARNING: [youtube] xWYqQfCKH24: nsig extraction failed: You may experience throttling for some formats\n",
      "         Install PhantomJS to workaround the issue. Please download it from https://phantomjs.org/download.html\n",
      "         n = GvHyzZKv_b8Ir3uie ; player = https://www.youtube.com/s/player/28fd7348/player_ias.vflset/en_US/base.js\n",
      "WARNING: [youtube] xWYqQfCKH24: nsig extraction failed: You may experience throttling for some formats\n",
      "         Install PhantomJS to workaround the issue. Please download it from https://phantomjs.org/download.html\n",
      "         n = va7BJap3vSvYf-fXc ; player = https://www.youtube.com/s/player/28fd7348/player_ias.vflset/en_US/base.js\n"
     ]
    },
    {
     "name": "stdout",
     "output_type": "stream",
     "text": [
      "[youtube] xWYqQfCKH24: Downloading m3u8 information\n",
      "katseye - touch\n",
      "[youtube] Extracting URL: https://youtu.be/1UO9Do8uMDU?si=5uUTB7DZyPLns5L8\n",
      "[youtube] 1UO9Do8uMDU: Downloading webpage\n",
      "[youtube] 1UO9Do8uMDU: Downloading ios player API JSON\n",
      "[youtube] 1UO9Do8uMDU: Downloading android player API JSON\n"
     ]
    },
    {
     "name": "stderr",
     "output_type": "stream",
     "text": [
      "WARNING: [youtube] 1UO9Do8uMDU: nsig extraction failed: You may experience throttling for some formats\n",
      "         Install PhantomJS to workaround the issue. Please download it from https://phantomjs.org/download.html\n",
      "         n = 80UB1hGWhy7r-C3w7 ; player = https://www.youtube.com/s/player/28fd7348/player_ias.vflset/en_US/base.js\n",
      "WARNING: [youtube] 1UO9Do8uMDU: nsig extraction failed: You may experience throttling for some formats\n",
      "         Install PhantomJS to workaround the issue. Please download it from https://phantomjs.org/download.html\n",
      "         n = fl99bYazd-13gBFT_ ; player = https://www.youtube.com/s/player/28fd7348/player_ias.vflset/en_US/base.js\n"
     ]
    },
    {
     "name": "stdout",
     "output_type": "stream",
     "text": [
      "[youtube] 1UO9Do8uMDU: Downloading m3u8 information\n",
      "everglow - ladida\n",
      "[youtube] Extracting URL: https://youtu.be/rx8P4FvgOWI?si=VfAnwc9Sc7iodKL0\n",
      "[youtube] rx8P4FvgOWI: Downloading webpage\n",
      "[youtube] rx8P4FvgOWI: Downloading ios player API JSON\n",
      "[youtube] rx8P4FvgOWI: Downloading android player API JSON\n"
     ]
    },
    {
     "name": "stderr",
     "output_type": "stream",
     "text": [
      "WARNING: [youtube] rx8P4FvgOWI: nsig extraction failed: You may experience throttling for some formats\n",
      "         Install PhantomJS to workaround the issue. Please download it from https://phantomjs.org/download.html\n",
      "         n = 4neWhCk6vBjy6E6E0 ; player = https://www.youtube.com/s/player/28fd7348/player_ias.vflset/en_US/base.js\n",
      "WARNING: [youtube] rx8P4FvgOWI: nsig extraction failed: You may experience throttling for some formats\n",
      "         Install PhantomJS to workaround the issue. Please download it from https://phantomjs.org/download.html\n",
      "         n = V5j0eAPX2U-VgMsHU ; player = https://www.youtube.com/s/player/28fd7348/player_ias.vflset/en_US/base.js\n"
     ]
    },
    {
     "name": "stdout",
     "output_type": "stream",
     "text": [
      "[youtube] rx8P4FvgOWI: Downloading m3u8 information\n",
      "txt - catdog\n",
      "[youtube] Extracting URL: https://youtu.be/-rbZevzjpR0?si=7vu-voK9gvNGWSOr\n",
      "[youtube] -rbZevzjpR0: Downloading webpage\n",
      "[youtube] -rbZevzjpR0: Downloading ios player API JSON\n",
      "[youtube] -rbZevzjpR0: Downloading android player API JSON\n"
     ]
    },
    {
     "name": "stderr",
     "output_type": "stream",
     "text": [
      "WARNING: [youtube] -rbZevzjpR0: nsig extraction failed: You may experience throttling for some formats\n",
      "         Install PhantomJS to workaround the issue. Please download it from https://phantomjs.org/download.html\n",
      "         n = PZ1psI123kJISe-s4 ; player = https://www.youtube.com/s/player/28fd7348/player_ias.vflset/en_US/base.js\n"
     ]
    },
    {
     "name": "stdout",
     "output_type": "stream",
     "text": [
      "[youtube] -rbZevzjpR0: Downloading m3u8 information\n",
      "itzy - notshy\n",
      "[youtube] Extracting URL: https://youtu.be/qOzGVI8bt0E?si=j7h-MSKyLuO_5Wjn\n",
      "[youtube] qOzGVI8bt0E: Downloading webpage\n",
      "[youtube] qOzGVI8bt0E: Downloading ios player API JSON\n",
      "[youtube] qOzGVI8bt0E: Downloading android player API JSON\n"
     ]
    },
    {
     "name": "stderr",
     "output_type": "stream",
     "text": [
      "WARNING: [youtube] qOzGVI8bt0E: nsig extraction failed: You may experience throttling for some formats\n",
      "         Install PhantomJS to workaround the issue. Please download it from https://phantomjs.org/download.html\n",
      "         n = 8g5blsJz8HN3gpUrf ; player = https://www.youtube.com/s/player/28fd7348/player_ias.vflset/en_US/base.js\n",
      "WARNING: [youtube] qOzGVI8bt0E: nsig extraction failed: You may experience throttling for some formats\n",
      "         Install PhantomJS to workaround the issue. Please download it from https://phantomjs.org/download.html\n",
      "         n = D4_suFsB0hLxfFVoU ; player = https://www.youtube.com/s/player/28fd7348/player_ias.vflset/en_US/base.js\n"
     ]
    },
    {
     "name": "stdout",
     "output_type": "stream",
     "text": [
      "[youtube] qOzGVI8bt0E: Downloading m3u8 information\n",
      "xikers - redsun\n",
      "[youtube] Extracting URL: https://youtu.be/etmPtqTgHFU?si=4yt4p9lp4AEFM40O\n",
      "[youtube] etmPtqTgHFU: Downloading webpage\n",
      "[youtube] etmPtqTgHFU: Downloading ios player API JSON\n",
      "[youtube] etmPtqTgHFU: Downloading android player API JSON\n"
     ]
    },
    {
     "name": "stderr",
     "output_type": "stream",
     "text": [
      "WARNING: [youtube] etmPtqTgHFU: nsig extraction failed: You may experience throttling for some formats\n",
      "         Install PhantomJS to workaround the issue. Please download it from https://phantomjs.org/download.html\n",
      "         n = JZObkxzvTkg0IMSA3 ; player = https://www.youtube.com/s/player/28fd7348/player_ias.vflset/en_US/base.js\n",
      "WARNING: [youtube] etmPtqTgHFU: nsig extraction failed: You may experience throttling for some formats\n",
      "         Install PhantomJS to workaround the issue. Please download it from https://phantomjs.org/download.html\n",
      "         n = bq-t5ejuahWvqJ-ar ; player = https://www.youtube.com/s/player/28fd7348/player_ias.vflset/en_US/base.js\n"
     ]
    },
    {
     "name": "stdout",
     "output_type": "stream",
     "text": [
      "[youtube] etmPtqTgHFU: Downloading m3u8 information\n",
      "dreamcatcher - justice\n",
      "[youtube] Extracting URL: https://youtu.be/7tJqneCeGi8?si=SS8DvJxrE4zu2RXP\n",
      "[youtube] 7tJqneCeGi8: Downloading webpage\n",
      "[youtube] 7tJqneCeGi8: Downloading ios player API JSON\n",
      "[youtube] 7tJqneCeGi8: Downloading android player API JSON\n"
     ]
    },
    {
     "name": "stderr",
     "output_type": "stream",
     "text": [
      "WARNING: [youtube] 7tJqneCeGi8: nsig extraction failed: You may experience throttling for some formats\n",
      "         Install PhantomJS to workaround the issue. Please download it from https://phantomjs.org/download.html\n",
      "         n = IRvlMpGxp3DoZhRF7 ; player = https://www.youtube.com/s/player/28fd7348/player_ias.vflset/en_US/base.js\n",
      "WARNING: [youtube] 7tJqneCeGi8: nsig extraction failed: You may experience throttling for some formats\n",
      "         Install PhantomJS to workaround the issue. Please download it from https://phantomjs.org/download.html\n",
      "         n = p-8vIuoTCsA5fai2p ; player = https://www.youtube.com/s/player/28fd7348/player_ias.vflset/en_US/base.js\n"
     ]
    },
    {
     "name": "stdout",
     "output_type": "stream",
     "text": [
      "[youtube] 7tJqneCeGi8: Downloading m3u8 information\n",
      "straykids - chkchkboom\n",
      "[youtube] Extracting URL: https://youtu.be/D0GaZFwNdlU?si=iojkIiOwinvXrZdl\n",
      "[youtube] D0GaZFwNdlU: Downloading webpage\n",
      "[youtube] D0GaZFwNdlU: Downloading ios player API JSON\n",
      "[youtube] D0GaZFwNdlU: Downloading android player API JSON\n"
     ]
    },
    {
     "name": "stderr",
     "output_type": "stream",
     "text": [
      "WARNING: [youtube] D0GaZFwNdlU: nsig extraction failed: You may experience throttling for some formats\n",
      "         Install PhantomJS to workaround the issue. Please download it from https://phantomjs.org/download.html\n",
      "         n = fnFN-7EJbOBCIymq- ; player = https://www.youtube.com/s/player/28fd7348/player_ias.vflset/en_US/base.js\n",
      "WARNING: [youtube] D0GaZFwNdlU: nsig extraction failed: You may experience throttling for some formats\n",
      "         Install PhantomJS to workaround the issue. Please download it from https://phantomjs.org/download.html\n",
      "         n = 8aOPF2VWB4g0vtZy3 ; player = https://www.youtube.com/s/player/28fd7348/player_ias.vflset/en_US/base.js\n"
     ]
    },
    {
     "name": "stdout",
     "output_type": "stream",
     "text": [
      "[youtube] D0GaZFwNdlU: Downloading m3u8 information\n",
      "babymonster - forever\n",
      "[youtube] Extracting URL: https://youtu.be/jR6P_8-xp8U?si=LWuToLJlgmXWW5YW\n",
      "[youtube] jR6P_8-xp8U: Downloading webpage\n",
      "[youtube] jR6P_8-xp8U: Downloading ios player API JSON\n",
      "[youtube] jR6P_8-xp8U: Downloading android player API JSON\n"
     ]
    },
    {
     "name": "stderr",
     "output_type": "stream",
     "text": [
      "WARNING: [youtube] jR6P_8-xp8U: nsig extraction failed: You may experience throttling for some formats\n",
      "         Install PhantomJS to workaround the issue. Please download it from https://phantomjs.org/download.html\n",
      "         n = tkeSjr3xCI6KAZbZA ; player = https://www.youtube.com/s/player/28fd7348/player_ias.vflset/en_US/base.js\n",
      "WARNING: [youtube] jR6P_8-xp8U: nsig extraction failed: You may experience throttling for some formats\n",
      "         Install PhantomJS to workaround the issue. Please download it from https://phantomjs.org/download.html\n",
      "         n = XZD8zDUxRBwHvoUOi ; player = https://www.youtube.com/s/player/28fd7348/player_ias.vflset/en_US/base.js\n"
     ]
    },
    {
     "name": "stdout",
     "output_type": "stream",
     "text": [
      "[youtube] jR6P_8-xp8U: Downloading m3u8 information\n"
     ]
    }
   ],
   "source": [
    "# Kontrolliert, ob YT Video mit Titel und Artist übereinstimmen\n",
    "count = 0\n",
    "csv_export = []\n",
    "for yt_video in song_wish:\n",
    "\n",
    "    count += 1\n",
    "\n",
    "    search_title1 = ''.join(e for e in str(yt_video[\"Title1\"]) if e.isalnum()).lower()\n",
    "    search_title2 = ''.join(e for e in str(yt_video[\"Title2\"]) if e.isalnum()).lower()\n",
    "    search_artist1 = ''.join(e for e in str(yt_video[\"Artist1\"]) if e.isalnum()).lower()\n",
    "    search_artist2 = ''.join(e for e in str(yt_video[\"Artist2\"]) if e.isalnum()).lower()\n",
    "\n",
    "    print(f\"{search_artist1} - {search_title1}\")\n",
    "\n",
    "    ydl_opts = {}\n",
    "    with yt_dlp.YoutubeDL(ydl_opts) as ydl:\n",
    "        info = ydl.extract_info(yt_video[\"YTURL1\"], download=False)\n",
    "\n",
    "        # ℹ️ ydl.sanitize_info makes the info json-serializable\n",
    "        yt_title1 = str(info['title'])\n",
    "        search_string1 = ''.join(e for e in yt_title1 if e.isalnum()).lower()\n",
    "\n",
    "    print(f\"{search_artist2} - {search_title2}\")\n",
    "\n",
    "    with yt_dlp.YoutubeDL(ydl_opts) as ydl:\n",
    "        info = ydl.extract_info(yt_video[\"YTURL2\"], download=False)\n",
    "\n",
    "        # ℹ️ ydl.sanitize_info makes the info json-serializable\n",
    "        yt_title2 = str(info['title'])\n",
    "        search_string2 = ''.join(e for e in yt_title2 if e.isalnum()).lower()\n",
    "\n",
    "    length1 = (yt_video[\"EndTimestamp1\"].hour * 60 + yt_video[\"EndTimestamp1\"].minute) - (yt_video[\"StartTimestamp1\"].hour * 60 + yt_video[\"StartTimestamp1\"].minute)\n",
    "    length2 = (yt_video[\"EndTimestamp2\"].hour * 60 + yt_video[\"EndTimestamp2\"].minute) - (yt_video[\"StartTimestamp2\"].hour * 60 + yt_video[\"StartTimestamp2\"].minute)\n",
    "\n",
    "    all_valid = True\n",
    "\n",
    "    msg = \"\"\n",
    "    msg2 = \"\"\n",
    "    errors = \"\"\n",
    "\n",
    "    if \"Deutsch\" in yt_video[\"Language\"]:\n",
    "        msg = f\"\"\"Hallo {yt_video[\"Instagram\"]}! Hier ist Long vom RDG Stuttgart!\n",
    "\n",
    "Vielen Dank für deinen Songwunsch!\n",
    "\n",
    "Dein Songwunsch ist einer der ersten 50 Wünsche.\n",
    "\n",
    "Songwunsch 1:\n",
    "\"\"\"\n",
    "    elif \"English\" in yt_video[\"Language\"]:\n",
    "        msg = f\"\"\"Hello {yt_video[\"Instagram\"]}! This is Long from RDG Stuttgart!\n",
    "\n",
    "Thank you for your song request!\n",
    "\n",
    "Your song request is one of the first 50 requests.\n",
    "\n",
    "Song request 1:\n",
    "\"\"\"\n",
    "\n",
    "    if search_title1 not in search_string1:\n",
    "        errors += \"Song1_Title \"\n",
    "        if \"Deutsch\" in yt_video[\"Language\"]:\n",
    "            msg += f\"\"\"Der eingetragene Titel ({yt_video[\"Title1\"]}) ist nicht im Titel des YT-Videos ({yt_title1}) zu finden.\n",
    "\n",
    "\"\"\"\n",
    "        elif \"English\" in yt_video[\"Language\"]:\n",
    "            msg += f\"\"\"The entered title ({yt_video[\"Title1\"]}) cannot be found in the title of the YT video ({yt_title1}).\n",
    "\n",
    "\"\"\"\n",
    "\n",
    "    if search_artist1 not in search_string1:\n",
    "        errors += \"Song1_Artist \"\n",
    "        if \"Deutsch\" in yt_video[\"Language\"]:\n",
    "            msg += f\"\"\"Der eingetragene Künstler ({yt_video[\"Artist1\"]}) ist nicht im Titel des YT-Videos ({yt_title1}) zu finden.\n",
    "\n",
    "\"\"\"\n",
    "        elif \"English\" in yt_video[\"Language\"]:\n",
    "            msg += f\"\"\"The registered artist ({yt_video[\"Artist1\"]}) cannot be found in the title of the YT video ({yt_title1}).\n",
    "\n",
    "\"\"\"\n",
    "        \n",
    "    if \"lyric\" not in search_string1 and \"hanromeng\" not in search_string1 and \"colorcoded\" not in search_string1:\n",
    "        errors += \"Song1_LyricVideo \"\n",
    "        if \"Deutsch\" in yt_video[\"Language\"]:\n",
    "            msg += f\"\"\"Das eingereichte YT-Video ({yt_title1}) ist kein Lyric Video.\n",
    "\n",
    "\"\"\"\n",
    "        elif \"English\" in yt_video[\"Language\"]:\n",
    "            msg += f\"\"\"The submitted YT video ({yt_title1}) is not a lyric video.\n",
    "\n",
    "\"\"\"\n",
    "        \n",
    "    if length1 > 90:\n",
    "        errors += \"Song1_90Seconds \"\n",
    "        if \"Deutsch\" in yt_video[\"Language\"]:\n",
    "            msg += f\"\"\"Dein Songwunsch ist länger als 90 Sekunden. ({length1} Sekunden)\n",
    "\n",
    "\"\"\"\n",
    "        elif \"English\" in yt_video[\"Language\"]:\n",
    "            msg += f\"\"\"Your song request is longer than 90 seconds. ({length1} seconds)\n",
    "\n",
    "\"\"\"\n",
    "\n",
    "    if search_title1 in search_string1 and search_artist1 in search_string1 and (\"lyric\" in search_string1 or \"hanromeng\" in search_string1 or \"colorcoded\" in search_string1) and length1 <= 90:\n",
    "        if \"Deutsch\" in yt_video[\"Language\"]:\n",
    "            msg += f\"\"\"Die Angaben sind gültig.\n",
    "\"\"\"\n",
    "        elif \"English\" in yt_video[\"Language\"]:\n",
    "            msg += f\"\"\"This Song request is valid.\n",
    "\"\"\"\n",
    "    else:\n",
    "        all_valid = False\n",
    "\n",
    "\n",
    "    if \"Deutsch\" in yt_video[\"Language\"]:\n",
    "        msg2 = f\"\"\"Songwunsch 2:\n",
    "\"\"\"\n",
    "    elif \"English\" in yt_video[\"Language\"]:\n",
    "        msg2 = f\"\"\"Song request 2:\n",
    "\"\"\"\n",
    "\n",
    "\n",
    "    if search_title2 not in search_string2:\n",
    "        errors += \"Song2_Title \"\n",
    "        if \"Deutsch\" in yt_video[\"Language\"]:\n",
    "            msg2 += f\"\"\"Der eingetragene Titel ({yt_video[\"Title2\"]}) ist nicht im Titel des YT-Videos ({yt_title2}) zu finden.\n",
    "\n",
    "\"\"\"\n",
    "        elif \"English\" in yt_video[\"Language\"]:\n",
    "            msg2 += f\"\"\"The entered title ({yt_video[\"Title2\"]}) cannot be found in the title of the YT video ({yt_title2}).\n",
    "\n",
    "\"\"\"\n",
    "\n",
    "    if search_artist2 not in search_string2:\n",
    "        errors += \"Song2_Artist \"\n",
    "        if \"Deutsch\" in yt_video[\"Language\"]:\n",
    "            msg2 += f\"\"\"Der eingetragene Künstler ({yt_video[\"Artist2\"]}) ist nicht im Titel des YT-Videos ({yt_title2}) zu finden.\n",
    "\n",
    "\"\"\"\n",
    "        elif \"English\" in yt_video[\"Language\"]:\n",
    "            msg2 += f\"\"\"The registered artist ({yt_video[\"Artist2\"]}) cannot be found in the title of the YT video ({yt_title2}).\n",
    "\n",
    "\"\"\"\n",
    "        \n",
    "    if \"lyric\" not in search_string2 and \"hanromeng\" not in search_string2 and \"colorcoded\" not in search_string2:\n",
    "        errors += \"Song2_LyricVideo \"\n",
    "        if \"Deutsch\" in yt_video[\"Language\"]:\n",
    "            msg2 += f\"\"\"Das eingereichte YT-Video ({yt_title2}) ist kein Lyric Video.\n",
    "\n",
    "\"\"\"\n",
    "        elif \"English\" in yt_video[\"Language\"]:\n",
    "            msg2 += f\"\"\"The submitted YT video ({yt_title2}) is not a lyric video.\n",
    "\n",
    "\"\"\"\n",
    "        \n",
    "    if length2 > 90:\n",
    "        errors += \"Song2_90Seconds \"\n",
    "        if \"Deutsch\" in yt_video[\"Language\"]:\n",
    "            msg2 += f\"\"\"Dein Songwunsch ist länger als 90 Sekunden. ({length2} Sekunden)\n",
    "\n",
    "\"\"\"\n",
    "        elif \"English\" in yt_video[\"Language\"]:\n",
    "            msg2 += f\"\"\"Your song request is longer than 90 seconds. ({length2} seconds)\n",
    "\n",
    "\"\"\"\n",
    "\n",
    "    if search_title2 in search_string2 and search_artist2 in search_string2 and (\"lyric\" in search_string2 or \"hanromeng\" in search_string2 or \"colorcoded\" in search_string2) and length2 <= 90:\n",
    "        if \"Deutsch\" in yt_video[\"Language\"]:\n",
    "            msg2 += f\"\"\"Die Angaben sind gültig.\n",
    "\"\"\"\n",
    "        elif \"English\" in yt_video[\"Language\"]:\n",
    "            msg2 += f\"\"\"This Song request is valid.\n",
    "\"\"\"\n",
    "    else:\n",
    "        all_valid = False\n",
    "\n",
    "    if all_valid is True:\n",
    "        if \"Deutsch\" in yt_video[\"Language\"]:\n",
    "            msg2 += f\"\"\"\n",
    "Beide deine Songwünsche sind gültig.\n",
    "Bitte antworte auf diese Nachricht, damit deine Songs auf die Playlist aufgenommen werden!\"\"\"\n",
    "        elif \"English\" in yt_video[\"Language\"]:\n",
    "            msg2 += f\"\"\"\n",
    "Both of your song requests are valid.\n",
    "Please reply to this message so that your songs can be added to the playlist!\"\"\"\n",
    "    else:\n",
    "        if \"Deutsch\" in yt_video[\"Language\"]:\n",
    "            msg2 += f\"\"\"\n",
    "Mindestens einer deiner Songwünsche ist leider fehlerhaft.\n",
    "\n",
    "Du kannst die fehlerhaften Songwünsche beim Songwunsch-Formular noch korrigieren: https://forms.gle/BMttuM5bcEehvsc87\n",
    "\n",
    "Wenn dein Songwunsch nach 7 Tagen immer noch ungültig ist, wird diese NICHT in die Playlist aufgenommen.\n",
    "\n",
    "Wenn deine Songwünsche alle Regeln erfüllen, aber trotzdem als ungültig aufgezählt werden, kannst du gerne auf diese Nachricht antworten.\"\"\"\n",
    "        elif \"English\" in yt_video[\"Language\"]:\n",
    "            msg2 += f\"\"\"\n",
    "At least one of your song requests is unfortunately incorrect.\n",
    "\n",
    "You can still correct the incorrect song requests in the song request form: https://forms.gle/BMttuM5bcEehvsc87\n",
    "\n",
    "If your song request is still invalid after 7 days, it will NOT be included in the playlist.\n",
    "\n",
    "If your song requests fulfill all the rules but are still listed as invalid, you are welcome to reply to this message.\"\"\"\n",
    "\n",
    "    ig_phonenumber = \"\"\n",
    "    if yt_video[\"Instagram\"] != \"\":\n",
    "        ig_phonenumber = yt_video[\"InstagramProfileURL\"]\n",
    "    else:\n",
    "        ig_phonenumber = yt_video[\"WhatsAppURL\"]\n",
    "\n",
    "    csv_export.append({\n",
    "        \"AllValid\": all_valid,\n",
    "        \"Errors\": errors,\n",
    "        \"Communication\": yt_video[\"PreferredCommunication\"],\n",
    "        \"IG/PhoneNumber\": ig_phonenumber,\n",
    "        \"Message\": msg,\n",
    "        \"Message2\": msg2\n",
    "    })\n",
    "    \n",
    "\n",
    "    "
   ]
  },
  {
   "cell_type": "code",
   "execution_count": 10,
   "metadata": {},
   "outputs": [],
   "source": [
    "df = pandas.DataFrame(data=csv_export)\n",
    "# df = (df.T)\n",
    "df.to_excel('dict1.xlsx')"
   ]
  },
  {
   "cell_type": "code",
   "execution_count": null,
   "metadata": {},
   "outputs": [],
   "source": []
  }
 ],
 "metadata": {
  "kernelspec": {
   "display_name": ".venv",
   "language": "python",
   "name": "python3"
  },
  "language_info": {
   "codemirror_mode": {
    "name": "ipython",
    "version": 3
   },
   "file_extension": ".py",
   "mimetype": "text/x-python",
   "name": "python",
   "nbconvert_exporter": "python",
   "pygments_lexer": "ipython3",
   "version": "3.11.3"
  }
 },
 "nbformat": 4,
 "nbformat_minor": 2
}
