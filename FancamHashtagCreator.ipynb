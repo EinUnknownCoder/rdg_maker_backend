{
 "cells": [
  {
   "cell_type": "code",
   "execution_count": 1,
   "metadata": {},
   "outputs": [],
   "source": [
    "songs = \"\"\"JIHYO - Closer\n",
    "tripleS AAA - Generation\n",
    "ENHYPEN - Criminal Love\n",
    "EVNNE - TROUBLE\n",
    "TXT - Chasing That Feeling\n",
    "NCT 127 - Fact Check\n",
    "aespa - Drama\n",
    "iKON - KILLING ME\n",
    "P1Harmony - Butterfly\"\"\""
   ]
  },
  {
   "cell_type": "code",
   "execution_count": 2,
   "metadata": {},
   "outputs": [],
   "source": [
    "songs_list = songs.split(\"\\n\")"
   ]
  },
  {
   "cell_type": "code",
   "execution_count": 3,
   "metadata": {},
   "outputs": [
    {
     "name": "stdout",
     "output_type": "stream",
     "text": [
      "#jihyo #closer #closerjihyo #jihyocloser #closerdancecover #jihyoedit\n",
      "#triplesaaa #generation #generationtriplesaaa #triplesaaageneration #generationdancecover #triplesaaaedit\n",
      "#enhypen #criminallove #criminalloveenhypen #enhypencriminallove #criminallovedancecover #enhypenedit\n",
      "#evnne #trouble #troubleevnne #evnnetrouble #troubledancecover #evnneedit\n",
      "#txt #chasingthatfeeling #chasingthatfeelingtxt #txtchasingthatfeeling #chasingthatfeelingdancecover #txtedit\n",
      "#nct127 #factcheck #factchecknct127 #nct127factcheck #factcheckdancecover #nct127edit\n",
      "#aespa #drama #dramaaespa #aespadrama #dramadancecover #aespaedit\n",
      "#ikon #killingme #killingmeikon #ikonkillingme #killingmedancecover #ikonedit\n",
      "#p1harmony #butterfly #butterflyp1harmony #p1harmonybutterfly #butterflydancecover #p1harmonyedit\n"
     ]
    }
   ],
   "source": [
    "song_split = []\n",
    "for x in range(len(songs_list)):\n",
    "    hashtags = []\n",
    "    song_split.append([])\n",
    "    for y in range(2):\n",
    "        song_split[x].append(''.join(e for e in songs_list[x].split(\" - \")[y] if e.isalnum()).lower())\n",
    "    hashtags.append(f\"#{song_split[x][0]}\")\n",
    "    hashtags.append(f\"#{song_split[x][1]}\")\n",
    "    hashtags.append(f\"#{song_split[x][1]}{song_split[x][0]}\")\n",
    "    hashtags.append(f\"#{song_split[x][0]}{song_split[x][1]}\")\n",
    "    hashtags.append(f\"#{song_split[x][1]}dancecover\")\n",
    "    hashtags.append(f\"#{song_split[x][0]}edit\")\n",
    "    print(\" \".join(hashtags))\n",
    "    "
   ]
  },
  {
   "cell_type": "code",
   "execution_count": 1,
   "metadata": {},
   "outputs": [
    {
     "data": {
      "text/plain": [
       "'d:\\\\Documents\\\\Code\\\\rdg_maker_backend\\\\raw/Test'"
      ]
     },
     "execution_count": 1,
     "metadata": {},
     "output_type": "execute_result"
    }
   ],
   "source": [
    "from pytube import YouTube\n",
    "yt = YouTube(\"https://youtu.be/YSbPb_-k-BY?si=Ie10HUwIDp1Lx9xE&t=30\")\n",
    "audio_stream = yt.streams.get_audio_only()\n",
    "audio_stream.download(\"raw/\", \"Test.mp4\")"
   ]
  },
  {
   "cell_type": "code",
   "execution_count": null,
   "metadata": {},
   "outputs": [],
   "source": []
  }
 ],
 "metadata": {
  "kernelspec": {
   "display_name": ".venv",
   "language": "python",
   "name": "python3"
  },
  "language_info": {
   "codemirror_mode": {
    "name": "ipython",
    "version": 3
   },
   "file_extension": ".py",
   "mimetype": "text/x-python",
   "name": "python",
   "nbconvert_exporter": "python",
   "pygments_lexer": "ipython3",
   "version": "3.11.3"
  }
 },
 "nbformat": 4,
 "nbformat_minor": 2
}
