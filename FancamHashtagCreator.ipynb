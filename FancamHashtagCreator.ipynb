{
 "cells": [
  {
   "cell_type": "code",
   "execution_count": 1,
   "metadata": {},
   "outputs": [],
   "source": [
    "songs = \"\"\"Black Cat Nero - Ateez\n",
    "But Sometimes - BoyNextDoor\n",
    "Y.O.Universe - VCHA\n",
    "No Air - The Boyz\n",
    "Doom Du Doom - P1Harmony\"\"\""
   ]
  },
  {
   "cell_type": "code",
   "execution_count": 3,
   "metadata": {},
   "outputs": [],
   "source": [
    "songs_list = songs.split(\"\\n\")"
   ]
  },
  {
   "cell_type": "code",
   "execution_count": 14,
   "metadata": {},
   "outputs": [
    {
     "name": "stdout",
     "output_type": "stream",
     "text": [
      "#ateez #blackcatnero #blackcatneroateez #ateezblackcatnero #blackcatnerodancecover #ateezedit\n",
      "#boynextdoor #butsometimes #butsometimesboynextdoor #boynextdoorbutsometimes #butsometimesdancecover #boynextdooredit\n",
      "#vcha #youniverse #youniversevcha #vchayouniverse #youniversedancecover #vchaedit\n",
      "#theboyz #noair #noairtheboyz #theboyznoair #noairdancecover #theboyzedit\n",
      "#p1harmony #doomdudoom #doomdudoomp1harmony #p1harmonydoomdudoom #doomdudoomdancecover #p1harmonyedit\n"
     ]
    }
   ],
   "source": [
    "song_split = []\n",
    "for x in range(len(songs_list)):\n",
    "    hashtags = []\n",
    "    song_split.append([])\n",
    "    for y in range(2):\n",
    "        song_split[x].append(''.join(e for e in songs_list[x].split(\" - \")[y] if e.isalnum()).lower())\n",
    "    hashtags.append(f\"#{song_split[x][1]}\")\n",
    "    hashtags.append(f\"#{song_split[x][0]}\")\n",
    "    hashtags.append(f\"#{song_split[x][0]}{song_split[x][1]}\")\n",
    "    hashtags.append(f\"#{song_split[x][1]}{song_split[x][0]}\")\n",
    "    hashtags.append(f\"#{song_split[x][0]}dancecover\")\n",
    "    hashtags.append(f\"#{song_split[x][1]}edit\")\n",
    "    print(\" \".join(hashtags))\n",
    "    "
   ]
  },
  {
   "cell_type": "code",
   "execution_count": null,
   "metadata": {},
   "outputs": [],
   "source": []
  }
 ],
 "metadata": {
  "kernelspec": {
   "display_name": ".venv",
   "language": "python",
   "name": "python3"
  },
  "language_info": {
   "codemirror_mode": {
    "name": "ipython",
    "version": 3
   },
   "file_extension": ".py",
   "mimetype": "text/x-python",
   "name": "python",
   "nbconvert_exporter": "python",
   "pygments_lexer": "ipython3",
   "version": "3.11.3"
  }
 },
 "nbformat": 4,
 "nbformat_minor": 2
}
